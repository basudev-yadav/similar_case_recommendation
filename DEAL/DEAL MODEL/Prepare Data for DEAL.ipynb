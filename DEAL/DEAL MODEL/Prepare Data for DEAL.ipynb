{
 "cells": [
  {
   "cell_type": "code",
   "execution_count": null,
   "id": "83b0944d",
   "metadata": {},
   "outputs": [],
   "source": [
    "## Todo\n",
    "\n",
    "- Adjacency Matrix (A_sp.npy)\n",
    "- Features Matrix (X_sp.npy)\n",
    "- nodes_keep and nodes_hide\n",
    "- A_train and X_train\n",
    "- A_sp -> test_ones and test_zeros\n",
    "- A_train -> "
   ]
  }
 ],
 "metadata": {
  "kernelspec": {
   "display_name": "Python 3 (ipykernel)",
   "language": "python",
   "name": "python3"
  },
  "language_info": {
   "codemirror_mode": {
    "name": "ipython",
    "version": 3
   },
   "file_extension": ".py",
   "mimetype": "text/x-python",
   "name": "python",
   "nbconvert_exporter": "python",
   "pygments_lexer": "ipython3",
   "version": "3.7.9"
  }
 },
 "nbformat": 4,
 "nbformat_minor": 5
}
