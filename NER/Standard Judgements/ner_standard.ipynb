{
 "cells": [
  {
   "cell_type": "code",
   "execution_count": 1,
   "id": "dd116dcc",
   "metadata": {},
   "outputs": [],
   "source": [
    "import pandas as pd\n",
    "import numpy as np\n",
    "import re\n",
    "import os\n",
    "import spacy\n",
    "from spacy import displacy"
   ]
  },
  {
   "cell_type": "code",
   "execution_count": 2,
   "id": "ecbf5d30",
   "metadata": {},
   "outputs": [],
   "source": [
    "import requests\n",
    "from urllib.parse import urljoin\n",
    "from datetime import datetime\n",
    "import pandas as pd\n",
    "\n",
    "class IndianKanoon:\n",
    "  \"\"\"\n",
    "    https://github.com/aishik-pyne/kanoon\n",
    "    Search query\thttps://api.indiankanoon.org/search/?formInput=<query>&pagenum=<pagenum>\n",
    "    Document\thttps://api.indiankanoon.org/doc/<docid>/\n",
    "    Document fragments\thttps://api.indiankanoon.org/docfragment/<docid>/?formInput=<query>\n",
    "    Document Metainfo\thttps://api.indiankanoon.org/docmeta/<docid>/\n",
    "  \"\"\"\n",
    "\n",
    "  def __init__(self):\n",
    "    self.base_url = \"https://api.indiankanoon.org/\"\n",
    "    self.auth_token = \"6c0262cd025351a53ab784b21634260276288d19\"\n",
    "    \n",
    "    self.headers = {\n",
    "        'authorization': \"Token {}\".format(self.auth_token),\n",
    "        'cache-control': \"no-cache\",\n",
    "    }\n",
    "    self.api_session = requests.Session()\n",
    "    self.api_session.headers = self.headers\n",
    "\n",
    "  def search(self, formInput, pagenum=0,\n",
    "             fromdate=None, todate=None,\n",
    "             title=None, author=None,\n",
    "             cite=None, bench=None, maxpages=50):\n",
    "    #  Creating parameters\n",
    "    params = {\n",
    "        'formInput': formInput,\n",
    "        'pagenum': pagenum,\n",
    "        'maxpages': maxpages\n",
    "    }\n",
    "    if fromdate:\n",
    "      assert isinstance(fromdate, datetime) \n",
    "      params['fromdate'] = fromdate.strftime('%d-%m-&Y')\n",
    "\n",
    "    if todate:\n",
    "      assert isinstance(todate, datetime) \n",
    "      params['todate'] = todate.strftime('%d-%m-&Y')\n",
    "\n",
    "    # Making the request\n",
    "    response = self.api_session.post(\n",
    "        urljoin(self.base_url, 'search/'), params=params)\n",
    "    response.raise_for_status()\n",
    "    return response.json()\n",
    "\n",
    "  def doc(self, docid):\n",
    "    response = self.api_session.post(\n",
    "        urljoin(self.base_url, 'doc/{}/'.format(docid)))\n",
    "    response.raise_for_status()\n",
    "    return response.json()\n",
    "\n",
    "  def docfragment(self, docid, formInput):\n",
    "    params = {\n",
    "        'formInput': formInput,\n",
    "    }\n",
    "    response = self.api_session.post(\n",
    "        urljoin(self.base_url, 'docfragment/{}/'.format(docid)), params=params)\n",
    "    response.raise_for_status()\n",
    "    return response.json()\n",
    "\n",
    "  def docmeta(self, docid):\n",
    "    response = self.api_session.post(\n",
    "        urljoin(self.base_url, 'docmeta/{}/'.format(docid)))\n",
    "    response.raise_for_status()\n",
    "    return response.json()"
   ]
  },
  {
   "cell_type": "code",
   "execution_count": 3,
   "id": "ece14b28",
   "metadata": {},
   "outputs": [],
   "source": [
    "ik = IndianKanoon()"
   ]
  },
  {
   "cell_type": "code",
   "execution_count": 29,
   "id": "1bd45ada",
   "metadata": {},
   "outputs": [],
   "source": [
    "df = pd.DataFrame(columns=[\"Judgement Name\",\"Judgement\",\"Similar Judgement1\",\"Similar Judgement2\",\"Similar Judgement3\"])"
   ]
  },
  {
   "cell_type": "code",
   "execution_count": 30,
   "id": "83c653ba",
   "metadata": {},
   "outputs": [
    {
     "data": {
      "text/html": [
       "<div>\n",
       "<style scoped>\n",
       "    .dataframe tbody tr th:only-of-type {\n",
       "        vertical-align: middle;\n",
       "    }\n",
       "\n",
       "    .dataframe tbody tr th {\n",
       "        vertical-align: top;\n",
       "    }\n",
       "\n",
       "    .dataframe thead th {\n",
       "        text-align: right;\n",
       "    }\n",
       "</style>\n",
       "<table border=\"1\" class=\"dataframe\">\n",
       "  <thead>\n",
       "    <tr style=\"text-align: right;\">\n",
       "      <th></th>\n",
       "      <th>Judgement Name</th>\n",
       "      <th>Judgement</th>\n",
       "      <th>Similar Judgement1</th>\n",
       "      <th>Similar Judgement2</th>\n",
       "      <th>Similar Judgement3</th>\n",
       "    </tr>\n",
       "  </thead>\n",
       "  <tbody>\n",
       "  </tbody>\n",
       "</table>\n",
       "</div>"
      ],
      "text/plain": [
       "Empty DataFrame\n",
       "Columns: [Judgement Name, Judgement, Similar Judgement1, Similar Judgement2, Similar Judgement3]\n",
       "Index: []"
      ]
     },
     "execution_count": 30,
     "metadata": {},
     "output_type": "execute_result"
    }
   ],
   "source": [
    "df"
   ]
  },
  {
   "cell_type": "code",
   "execution_count": 6,
   "id": "fcb12d01",
   "metadata": {},
   "outputs": [],
   "source": [
    "dhanpat = {\n",
    "    'F. Hoffmann-La Roche Ltd. And Anr. vs Cipla Limited':64813,\n",
    "    'Garware-Wall Ropes Ltd. vs Techfab India And 5 Ors':1258171,\n",
    "    'Glaverbel S.A. vs Dave Rose & Ors':705613\n",
    "}\n",
    "\n",
    "amarnath = {\n",
    "    'Super Cassette Industries ... vs Bathla Cassette Industries Pvt':999762,\n",
    "    'Raj Rewal vs Union Of India & Ors':186730577,\n",
    "    'Arun Chadha vs Oca Productions Pvt. Ltd. &Ors':99260867\n",
    "}\n",
    "\n",
    "rameshwari = {\n",
    "    'Super Cassettes Industries ... vs Mr Chintamani Rao & Ors':576454,\n",
    "    'The Chancellor Masters & Scholars ... vs Narendera Publishing House':138192511,\n",
    "    'Indian Performing Right Society ... vs Aditya Pandey & Ors':85777093\n",
    "}\n",
    "\n",
    "delux = {\n",
    "    'Zee Telefilms Ltd. And Film And ... vs Sundial Communications Pvt. Ltd.':603848,\n",
    "    'Chatrapathy Shanmugham vs S. Rangarajan':530572,\n",
    "    'King Features Syndicate Inc. & ... vs Sunil Agnihotri & Ors':1440160\n",
    "}"
   ]
  },
  {
   "cell_type": "code",
   "execution_count": 11,
   "id": "d2bd9cb6",
   "metadata": {},
   "outputs": [
    {
     "data": {
      "text/plain": [
       "['.ipynb_checkpoints',\n",
       " 'Amar Nath Sehgal v UOI.txt',\n",
       " 'Dhanpat Seth v Nilkamal Plastic.txt',\n",
       " 'Rameshwari Photocopy.txt',\n",
       " 'RG Anand v Delux Films & Ors.txt',\n",
       " 'Untitled.ipynb']"
      ]
     },
     "execution_count": 11,
     "metadata": {},
     "output_type": "execute_result"
    }
   ],
   "source": [
    "os.listdir()"
   ]
  },
  {
   "cell_type": "code",
   "execution_count": 12,
   "id": "8b40f014",
   "metadata": {},
   "outputs": [],
   "source": [
    "files = [file for file in os.listdir() if file.endswith('.txt')]"
   ]
  },
  {
   "cell_type": "code",
   "execution_count": 13,
   "id": "fa7cf7c6",
   "metadata": {},
   "outputs": [
    {
     "data": {
      "text/plain": [
       "['Amar Nath Sehgal v UOI.txt',\n",
       " 'Dhanpat Seth v Nilkamal Plastic.txt',\n",
       " 'Rameshwari Photocopy.txt',\n",
       " 'RG Anand v Delux Films & Ors.txt']"
      ]
     },
     "execution_count": 13,
     "metadata": {},
     "output_type": "execute_result"
    }
   ],
   "source": [
    "files"
   ]
  },
  {
   "cell_type": "code",
   "execution_count": 14,
   "id": "32296d89",
   "metadata": {},
   "outputs": [],
   "source": [
    "import html2text\n",
    "h = html2text.HTML2Text()\n",
    "h.ignore_links = True"
   ]
  },
  {
   "cell_type": "code",
   "execution_count": 23,
   "id": "98f5f5bd",
   "metadata": {},
   "outputs": [],
   "source": [
    "def get_text_file(docid):\n",
    "    res = ik.doc(docid=str(docid))\n",
    "    \n",
    "    content = res[\"doc\"]\n",
    "    text = h.handle(content)\n",
    "    \n",
    "    f = open(str(docid)+\".txt\",'w+',encoding='utf-8')\n",
    "    f.write(text)\n",
    "    f.close()"
   ]
  },
  {
   "cell_type": "code",
   "execution_count": 27,
   "id": "01d18a18",
   "metadata": {},
   "outputs": [],
   "source": [
    "for i in delux.values():\n",
    "    get_text_file(i)"
   ]
  },
  {
   "cell_type": "code",
   "execution_count": 28,
   "id": "2f1bb265",
   "metadata": {},
   "outputs": [
    {
     "name": "stdout",
     "output_type": "stream",
     "text": [
      "1258171.txt\n",
      "138192511.txt\n",
      "1440160.txt\n",
      "186730577.txt\n",
      "530572.txt\n",
      "576454.txt\n",
      "603848.txt\n",
      "64813.txt\n",
      "705613.txt\n",
      "85777093.txt\n",
      "99260867.txt\n",
      "999762.txt\n",
      "Amar Nath Sehgal v UOI.txt\n",
      "Dhanpat Seth v Nilkamal Plastic.txt\n",
      "Rameshwari Photocopy.txt\n",
      "RG Anand v Delux Films & Ors.txt\n"
     ]
    }
   ],
   "source": [
    "for file in os.listdir():\n",
    "    if file.endswith(\".txt\"):\n",
    "        print(file)"
   ]
  },
  {
   "cell_type": "code",
   "execution_count": 32,
   "id": "16e4c4c9",
   "metadata": {},
   "outputs": [],
   "source": [
    "def run_ner(jds):\n",
    "    jd_name = jds[0]\n",
    "    \n",
    "    row = [jd_name]\n",
    "    \n",
    "    for file in jds:\n",
    "        f = open(file,\"r\",encoding=\"utf-8\")\n",
    "        \n",
    "        text = f.read()\n",
    "        \n",
    "        nlp = spacy.load(\"en_core_web_sm\")\n",
    "        \n",
    "        doc = nlp(text)\n",
    "        \n",
    "        res = \"\"\n",
    "        \n",
    "        for word in doc.ents:\n",
    "            res += word.text + \" -- \" + word.label_\n",
    "            res += \"\\n\"\n",
    "        \n",
    "        row.append(res)\n",
    "    \n",
    "    return row\n",
    "        "
   ]
  },
  {
   "cell_type": "code",
   "execution_count": 33,
   "id": "ab6ece89",
   "metadata": {},
   "outputs": [],
   "source": [
    "row1 = ['Dhanpat Seth v Nilkamal Plastic.txt','64813.txt','1258171.txt','705613.txt']\n",
    "row2 = ['Amar Nath Sehgal v UOI.txt','999762.txt','186730577.txt','99260867.txt']\n",
    "row3 = ['Rameshwari Photocopy.txt']\n",
    "for i in rameshwari.values():\n",
    "    x = str(i)\n",
    "    x += \".txt\"\n",
    "    row3.append(x)"
   ]
  },
  {
   "cell_type": "code",
   "execution_count": 34,
   "id": "ef5dae61",
   "metadata": {},
   "outputs": [],
   "source": [
    "row4 = ['RG Anand v Delux Films & Ors.txt']\n",
    "for i in delux.values():\n",
    "    x = str(i)\n",
    "    x += \".txt\"\n",
    "    row4.append(x)"
   ]
  },
  {
   "cell_type": "code",
   "execution_count": 35,
   "id": "fecf9831",
   "metadata": {},
   "outputs": [
    {
     "data": {
      "text/plain": [
       "(['Dhanpat Seth v Nilkamal Plastic.txt',\n",
       "  '64813.txt',\n",
       "  '1258171.txt',\n",
       "  '705613.txt'],\n",
       " ['Amar Nath Sehgal v UOI.txt', '999762.txt', '186730577.txt', '99260867.txt'],\n",
       " ['Rameshwari Photocopy.txt', '576454.txt', '138192511.txt', '85777093.txt'],\n",
       " ['RG Anand v Delux Films & Ors.txt',\n",
       "  '603848.txt',\n",
       "  '530572.txt',\n",
       "  '1440160.txt'])"
      ]
     },
     "execution_count": 35,
     "metadata": {},
     "output_type": "execute_result"
    }
   ],
   "source": [
    "row1,row2,row3,row4"
   ]
  },
  {
   "cell_type": "code",
   "execution_count": 37,
   "id": "6b258ca1",
   "metadata": {},
   "outputs": [
    {
     "data": {
      "text/html": [
       "<div>\n",
       "<style scoped>\n",
       "    .dataframe tbody tr th:only-of-type {\n",
       "        vertical-align: middle;\n",
       "    }\n",
       "\n",
       "    .dataframe tbody tr th {\n",
       "        vertical-align: top;\n",
       "    }\n",
       "\n",
       "    .dataframe thead th {\n",
       "        text-align: right;\n",
       "    }\n",
       "</style>\n",
       "<table border=\"1\" class=\"dataframe\">\n",
       "  <thead>\n",
       "    <tr style=\"text-align: right;\">\n",
       "      <th></th>\n",
       "      <th>Judgement Name</th>\n",
       "      <th>Judgement</th>\n",
       "      <th>Similar Judgement1</th>\n",
       "      <th>Similar Judgement2</th>\n",
       "      <th>Similar Judgement3</th>\n",
       "    </tr>\n",
       "  </thead>\n",
       "  <tbody>\n",
       "  </tbody>\n",
       "</table>\n",
       "</div>"
      ],
      "text/plain": [
       "Empty DataFrame\n",
       "Columns: [Judgement Name, Judgement, Similar Judgement1, Similar Judgement2, Similar Judgement3]\n",
       "Index: []"
      ]
     },
     "execution_count": 37,
     "metadata": {},
     "output_type": "execute_result"
    }
   ],
   "source": [
    "df"
   ]
  },
  {
   "cell_type": "code",
   "execution_count": 38,
   "id": "9c786c05",
   "metadata": {},
   "outputs": [],
   "source": [
    "rows = [row1,row2,row3,row4]"
   ]
  },
  {
   "cell_type": "code",
   "execution_count": 39,
   "id": "55445a6e",
   "metadata": {},
   "outputs": [],
   "source": [
    "for i in range(len(rows)):\n",
    "    row = rows[i]\n",
    "    \n",
    "    df.loc[i] = run_ner(row)\n",
    "    \n",
    "df.to_csv(\"ner_results.csv\",index=False)"
   ]
  },
  {
   "cell_type": "code",
   "execution_count": 40,
   "id": "0a3f6754",
   "metadata": {},
   "outputs": [
    {
     "data": {
      "text/html": [
       "<div>\n",
       "<style scoped>\n",
       "    .dataframe tbody tr th:only-of-type {\n",
       "        vertical-align: middle;\n",
       "    }\n",
       "\n",
       "    .dataframe tbody tr th {\n",
       "        vertical-align: top;\n",
       "    }\n",
       "\n",
       "    .dataframe thead th {\n",
       "        text-align: right;\n",
       "    }\n",
       "</style>\n",
       "<table border=\"1\" class=\"dataframe\">\n",
       "  <thead>\n",
       "    <tr style=\"text-align: right;\">\n",
       "      <th></th>\n",
       "      <th>Judgement Name</th>\n",
       "      <th>Judgement</th>\n",
       "      <th>Similar Judgement1</th>\n",
       "      <th>Similar Judgement2</th>\n",
       "      <th>Similar Judgement3</th>\n",
       "    </tr>\n",
       "  </thead>\n",
       "  <tbody>\n",
       "    <tr>\n",
       "      <th>0</th>\n",
       "      <td>Dhanpat Seth v Nilkamal Plastic.txt</td>\n",
       "      <td>Dhanpat Seth -- PERSON\\nNil Kamal Plastic Crat...</td>\n",
       "      <td>Delhi High Court\\n\\nF. Hoffmann-La Roche Ltd. ...</td>\n",
       "      <td>Gujarat High Court -- ORG\\nTechfab -- GPE\\nInd...</td>\n",
       "      <td>Dave Rose &amp; Ors -- ORG\\n27 January, 2010 -- DA...</td>\n",
       "    </tr>\n",
       "    <tr>\n",
       "      <th>1</th>\n",
       "      <td>Amar Nath Sehgal v UOI.txt</td>\n",
       "      <td>Amar Nath Sehgal -- PERSON\\nUnion Of India -- ...</td>\n",
       "      <td>Bathla Cassette Industries Pvt -- ORG\\n9 -- CA...</td>\n",
       "      <td>Union Of India &amp; Ors -- ORG\\n28 May, 2019\\n\\n ...</td>\n",
       "      <td>Oca Productions Pvt. -- ORG\\n5 July -- DATE\\n2...</td>\n",
       "    </tr>\n",
       "    <tr>\n",
       "      <th>2</th>\n",
       "      <td>Rameshwari Photocopy.txt</td>\n",
       "      <td>2016 -- CARDINAL\\n2016 -- DATE\\n235 -- CARDINA...</td>\n",
       "      <td>Chintamani Rao &amp; Ors -- ORG\\n11 November -- DA...</td>\n",
       "      <td>Narendera Publishing House -- ORG\\n17 Septembe...</td>\n",
       "      <td>Aditya Pandey &amp; Ors -- ORG\\n8 May -- DATE\\nFeb...</td>\n",
       "    </tr>\n",
       "    <tr>\n",
       "      <th>3</th>\n",
       "      <td>RG Anand v Delux Films &amp; Ors.txt</td>\n",
       "      <td>18 August, 1978 -- DATE\\n18 August, 1978 -- DA...</td>\n",
       "      <td>Sundial Communications Pvt. -- ORG\\n27 March -...</td>\n",
       "      <td>Madras High Court\\n\\n -- WORK_OF_ART\\nChatrapa...</td>\n",
       "      <td>Sunil Agnihotri &amp; Ors -- ORG\\n11 April, 1997 -...</td>\n",
       "    </tr>\n",
       "  </tbody>\n",
       "</table>\n",
       "</div>"
      ],
      "text/plain": [
       "                        Judgement Name  \\\n",
       "0  Dhanpat Seth v Nilkamal Plastic.txt   \n",
       "1           Amar Nath Sehgal v UOI.txt   \n",
       "2             Rameshwari Photocopy.txt   \n",
       "3     RG Anand v Delux Films & Ors.txt   \n",
       "\n",
       "                                           Judgement  \\\n",
       "0  Dhanpat Seth -- PERSON\\nNil Kamal Plastic Crat...   \n",
       "1  Amar Nath Sehgal -- PERSON\\nUnion Of India -- ...   \n",
       "2  2016 -- CARDINAL\\n2016 -- DATE\\n235 -- CARDINA...   \n",
       "3  18 August, 1978 -- DATE\\n18 August, 1978 -- DA...   \n",
       "\n",
       "                                  Similar Judgement1  \\\n",
       "0  Delhi High Court\\n\\nF. Hoffmann-La Roche Ltd. ...   \n",
       "1  Bathla Cassette Industries Pvt -- ORG\\n9 -- CA...   \n",
       "2  Chintamani Rao & Ors -- ORG\\n11 November -- DA...   \n",
       "3  Sundial Communications Pvt. -- ORG\\n27 March -...   \n",
       "\n",
       "                                  Similar Judgement2  \\\n",
       "0  Gujarat High Court -- ORG\\nTechfab -- GPE\\nInd...   \n",
       "1  Union Of India & Ors -- ORG\\n28 May, 2019\\n\\n ...   \n",
       "2  Narendera Publishing House -- ORG\\n17 Septembe...   \n",
       "3  Madras High Court\\n\\n -- WORK_OF_ART\\nChatrapa...   \n",
       "\n",
       "                                  Similar Judgement3  \n",
       "0  Dave Rose & Ors -- ORG\\n27 January, 2010 -- DA...  \n",
       "1  Oca Productions Pvt. -- ORG\\n5 July -- DATE\\n2...  \n",
       "2  Aditya Pandey & Ors -- ORG\\n8 May -- DATE\\nFeb...  \n",
       "3  Sunil Agnihotri & Ors -- ORG\\n11 April, 1997 -...  "
      ]
     },
     "execution_count": 40,
     "metadata": {},
     "output_type": "execute_result"
    }
   ],
   "source": [
    "df"
   ]
  }
 ],
 "metadata": {
  "kernelspec": {
   "display_name": "Python 3",
   "language": "python",
   "name": "python3"
  },
  "language_info": {
   "codemirror_mode": {
    "name": "ipython",
    "version": 3
   },
   "file_extension": ".py",
   "mimetype": "text/x-python",
   "name": "python",
   "nbconvert_exporter": "python",
   "pygments_lexer": "ipython3",
   "version": "3.7.9"
  }
 },
 "nbformat": 4,
 "nbformat_minor": 5
}
