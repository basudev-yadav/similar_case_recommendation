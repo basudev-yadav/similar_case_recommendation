{
 "cells": [
  {
   "cell_type": "code",
   "execution_count": 1,
   "id": "87d5d32b",
   "metadata": {},
   "outputs": [],
   "source": [
    "#import the libraries\n",
    "\n",
    "from elasticsearch import Elasticsearch\n",
    "import json\n",
    "import re\n",
    "import pandas as pd\n",
    "import numpy as np\n",
    "import bs4\n",
    "import lxml\n",
    "from bs4 import BeautifulSoup"
   ]
  },
  {
   "cell_type": "code",
   "execution_count": 2,
   "id": "398ef40c",
   "metadata": {},
   "outputs": [],
   "source": [
    "file = pd.read_csv(\"casemine.csv\")"
   ]
  },
  {
   "cell_type": "code",
   "execution_count": 3,
   "id": "276f8c4d",
   "metadata": {},
   "outputs": [],
   "source": [
    "#initializing the instance of elasticsearch to localhost at port 9200(default)\n",
    "es = Elasticsearch(HOST=\"http://localhost\", PORT=9200)"
   ]
  },
  {
   "cell_type": "code",
   "execution_count": 4,
   "id": "168a7c62",
   "metadata": {},
   "outputs": [
    {
     "name": "stderr",
     "output_type": "stream",
     "text": [
      "C:\\Users\\Jayant\\Anaconda3\\lib\\site-packages\\elasticsearch\\connection\\base.py:200: ElasticsearchWarning: Elasticsearch built-in security features are not enabled. Without authentication, your cluster could be accessible to anyone. See https://www.elastic.co/guide/en/elasticsearch/reference/7.16/security-minimal-setup.html to enable security.\n",
      "  warnings.warn(message, category=ElasticsearchWarning)\n"
     ]
    },
    {
     "data": {
      "text/plain": [
       "{'acknowledged': True, 'shards_acknowledged': True, 'index': 'judgement_index'}"
      ]
     },
     "execution_count": 4,
     "metadata": {},
     "output_type": "execute_result"
    }
   ],
   "source": [
    "#create the index\n",
    "\n",
    "es.indices.delete(index='judgement_index', ignore=[400, 404])\n",
    "es.indices.create(index=\"judgement_index\")"
   ]
  },
  {
   "cell_type": "code",
   "execution_count": 5,
   "id": "383f8ab4",
   "metadata": {},
   "outputs": [],
   "source": [
    "#load the json file\n",
    "\n",
    "file = open(\"data_for_index_p_combined.json\",\"r\",encoding=\"utf-8\")\n",
    "\n",
    "data = json.load(file)\n",
    "file.close()"
   ]
  },
  {
   "cell_type": "code",
   "execution_count": 6,
   "id": "2f9bd55b",
   "metadata": {},
   "outputs": [
    {
     "name": "stderr",
     "output_type": "stream",
     "text": [
      "C:\\Users\\Jayant\\Anaconda3\\lib\\site-packages\\ipykernel_launcher.py:4: DeprecationWarning: The 'body' parameter is deprecated for the 'index' API and will be removed in a future version. Instead use the 'document' parameter. See https://github.com/elastic/elasticsearch-py/issues/1698 for more information\n",
      "  after removing the cwd from sys.path.\n",
      "C:\\Users\\Jayant\\Anaconda3\\lib\\site-packages\\elasticsearch\\connection\\base.py:200: ElasticsearchWarning: [types removal] Specifying types in document index requests is deprecated, use the typeless endpoints instead (/{index}/_doc/{id}, /{index}/_doc, or /{index}/_create/{id}).\n",
      "  warnings.warn(message, category=ElasticsearchWarning)\n"
     ]
    }
   ],
   "source": [
    "#insert the data in the index\n",
    "\n",
    "for i in data.keys():\n",
    "    es.index(index=\"judgement_index\", doc_type=\"cases\", id=int(i), body=data[i])"
   ]
  },
  {
   "cell_type": "code",
   "execution_count": 18,
   "id": "e82c756f",
   "metadata": {},
   "outputs": [],
   "source": [
    "res = es.get(index=\"judgement_index\", id = 330608)"
   ]
  },
  {
   "cell_type": "code",
   "execution_count": 23,
   "id": "8b8bb9dc",
   "metadata": {},
   "outputs": [
    {
     "data": {
      "text/plain": [
       "dict"
      ]
     },
     "execution_count": 23,
     "metadata": {},
     "output_type": "execute_result"
    }
   ],
   "source": [
    "type(res)"
   ]
  },
  {
   "cell_type": "code",
   "execution_count": 24,
   "id": "fcc15da1",
   "metadata": {},
   "outputs": [],
   "source": [
    "with open(\"esres.json\",\"w\") as outfile:\n",
    "    json.dump(res,outfile,indent=4)"
   ]
  },
  {
   "cell_type": "code",
   "execution_count": 7,
   "id": "29c6f0db",
   "metadata": {},
   "outputs": [],
   "source": [
    "def get_id(link):\n",
    "    regex = re.compile(r'[0-9]+')\n",
    "    result = regex.search(link)\n",
    "    \n",
    "    if(result):\n",
    "        return str(result.group())\n",
    "    else:\n",
    "        return \"\""
   ]
  },
  {
   "cell_type": "code",
   "execution_count": 8,
   "id": "8eb59c7e",
   "metadata": {},
   "outputs": [],
   "source": [
    "def return_similar(docid):\n",
    "    file = pd.read_csv(\"casemine.csv\")\n",
    "    \n",
    "    titles=[]\n",
    "    \n",
    "    for i in range(file.shape[0]):\n",
    "        res = []\n",
    "        if get_id(str(file.iloc[i,1])) == str(docid):\n",
    "            res.append(file.iloc[i,2])\n",
    "            res.append(file.iloc[i,4])\n",
    "        if get_id(str(file.iloc[i,3])) == str(docid):\n",
    "            res.append(file.iloc[i,0])\n",
    "        titles.append(res)\n",
    "    return titles"
   ]
  },
  {
   "cell_type": "code",
   "execution_count": 9,
   "id": "9662d1f3",
   "metadata": {},
   "outputs": [],
   "source": [
    "def index_func(text_to_search):\n",
    "    \"\"\"\n",
    "    parameters:\n",
    "    where_to_search: scope of search eg: title, author, etc.\n",
    "    text_to_search: text that you are looking for in the document\n",
    "    \n",
    "    output:\n",
    "    1. returns, if no output is found\n",
    "    2. details of judgement, otherwise\n",
    "    \"\"\"\n",
    "    \n",
    "    #store the result of the query\n",
    "    body = {\n",
    "               \"_source\":[\n",
    "                  \"title\",\n",
    "                  \"author\",\n",
    "                   \"content\"\n",
    "                    ],\n",
    "               \"size\":10000,\n",
    "                \"query\":{\n",
    "                    \"multi_match\":{\n",
    "                        \"query\":      text_to_search,\n",
    "                          \"type\":       \"phrase\",\n",
    "                          \"fields\":     [ \"author\",\"title\",\"content\" ]\n",
    "                    }\n",
    "                }\n",
    "    \n",
    "        \n",
    "        }\n",
    "               \n",
    "        \n",
    "    \n",
    "    result = es.search(index=\"judgement_index\", doc_type=\"cases\", body=body)\n",
    "    \n",
    "    #extract the number of results from the result object\n",
    "    num_results = result['hits']['total']['value']\n",
    "    \n",
    "    #return if nothing is found\n",
    "    if num_results == 0:\n",
    "        print(\"No result found!\")\n",
    "        return\n",
    "    else:\n",
    "        #print the number of results found\n",
    "        print(str(num_results)+\" result/s found!\\n\\n\")\n",
    "        \n",
    "        #print the details of the judgement\n",
    "        for i in range(num_results):\n",
    "            res = result['hits']['hits'][i]['_source']\n",
    "            score = result['hits']['hits'][i]['_score']\n",
    "            docid = result['hits']['hits'][i]['_id']\n",
    "            print(\"RESULT \"+str(i+1))\n",
    "            print(\"---------\")\n",
    "            print(\"Document title : \"+str(res['title']))\n",
    "            print(\"Document author : \"+str(res['author']))\n",
    "            print(\"Score : \"+str(score))\n",
    "            similar_judgements = return_similar(docid)\n",
    "            print(\"SIMILAR JUDGEMENTS\")\n",
    "            for s in similar_judgements:\n",
    "                if len(s)>1:\n",
    "                    print(s[0]+str(\"    Rank : \")+str(s[1]))\n",
    "                elif len(s)==1:\n",
    "                    print(s)\n",
    "            \n",
    "            print(\"\\n\\n\\n\")\n",
    "        return result\n"
   ]
  },
  {
   "cell_type": "code",
   "execution_count": 10,
   "id": "a4b83cbd",
   "metadata": {},
   "outputs": [
    {
     "name": "stdout",
     "output_type": "stream",
     "text": [
      "What do you want to search?: Wander\n"
     ]
    },
    {
     "name": "stderr",
     "output_type": "stream",
     "text": [
      "C:\\Users\\Jayant\\Anaconda3\\lib\\site-packages\\ipykernel_launcher.py:33: DeprecationWarning: The 'body' parameter is deprecated for the 'search' API and will be removed in a future version. Instead use API parameters directly. See https://github.com/elastic/elasticsearch-py/issues/1698 for more information\n",
      "C:\\Users\\Jayant\\Anaconda3\\lib\\site-packages\\elasticsearch\\connection\\base.py:200: ElasticsearchWarning: [types removal] Specifying types in search requests is deprecated.\n",
      "  warnings.warn(message, category=ElasticsearchWarning)\n"
     ]
    },
    {
     "name": "stdout",
     "output_type": "stream",
     "text": [
      "14 result/s found!\n",
      "\n",
      "\n",
      "RESULT 1\n",
      "---------\n",
      "Document title : Wander Ltd. And Anr. vs Antox India P. Ltd. on 26 April, 1990\n",
      "Document author : O Venkatachaliah\n",
      "Score : 4.144434\n",
      "SIMILAR JUDGEMENTS\n",
      "Astrazeneca Uk Ltd. v. Orchid Chemicals & Pharmaceuticals Ltd.    Rank : 1\n",
      "S.M Dyechem Ltd. v. Cadbury (India) Ltd. .    Rank : 2\n",
      "Veerumal Praveen Kumar v. Needle Industries (India) Ltd. And Anr.    Rank : 3\n",
      "N.R Dongre And Others v. Whirlpool Corporation And Another    Rank : 4\n",
      "Pfizer Products Inc. v. Rajesh Chopra    Rank : 5\n",
      "Mahendra & Mahendra Paper Mills Ltd. v. Mahindra & Mahindra Ltd. .    Rank : 6\n",
      "Lupin Limited v. Johnson & Johnson    Rank : 7\n",
      "Rangoon Chemical Works Pvt. Ltd. v. Royal Medicals    Rank : 8\n",
      "M/S Alkem Laboratories Ltd. Petitioners v. Mega International (P) Ltd. S    Rank : 9\n",
      "Wockhardt Limited v. Torrent Pharmaceuticals Limited And Another    Rank : 10\n",
      "Cadila Health Care Ltd. v. Cadila Pharmaceuticals Ltd. .    Rank : 11\n",
      "Satilila Charitable Society And Anr. v. Skyline Education Institute (I) (P) Ltd.    Rank : 12\n",
      "Rajendra Sadanand Rasal v. Naranppa Thenukyya Kotian And Others S    Rank : 13\n",
      "Purshottam Vishandas Raheja And Another v. Shrichand Vishandas Raheja (Dead) Through Lrs. And Others    Rank : 14\n",
      "Fedders North American v. Show Line    Rank : 15\n",
      "\n",
      "\n",
      "\n",
      "\n",
      "RESULT 2\n",
      "---------\n",
      "Document title : S.B.L. Ltd. vs Himalaya Drug Co. on 15 July, 1997\n",
      "Document author : R Lahoti\n",
      "Score : 2.8279397\n",
      "SIMILAR JUDGEMENTS\n",
      "['Remidex Pharma Private Limited v. Savita Pharmaceuticals P. Ltd']\n",
      "\n",
      "\n",
      "\n",
      "\n",
      "RESULT 3\n",
      "---------\n",
      "Document title : M/S P K Overseas Pvt.Ltd.& Anr vs M/S Bhagwati Lecto Vegetarians ... on 3 October, 2016\n",
      "Document author : \n",
      "Score : 2.4703746\n",
      "SIMILAR JUDGEMENTS\n",
      "['Kirorimal Kashiram Marketing And Agencies Pvt. Ltd. v. Shree Sita Chawal Udyog']\n",
      "\n",
      "\n",
      "\n",
      "\n",
      "RESULT 4\n",
      "---------\n",
      "Document title : Khandelwal Laboratories Ltd. vs Fdc Limited on 21 August, 2001\n",
      "Document author : A Sikri\n",
      "Score : 2.4703746\n",
      "SIMILAR JUDGEMENTS\n",
      "['Remidex Pharma Private Limited v. Savita Pharmaceuticals P. Ltd']\n",
      "\n",
      "\n",
      "\n",
      "\n",
      "RESULT 5\n",
      "---------\n",
      "Document title : Purshottam Vishandas Raheja & Ors vs Shrichand Vishandas ... on 6 May, 2011\n",
      "Document author : \n",
      "Score : 2.2797318\n",
      "SIMILAR JUDGEMENTS\n",
      "['Wander Ltd. And Another v. Antox India P. Ltd. .']\n",
      "\n",
      "\n",
      "\n",
      "\n",
      "RESULT 6\n",
      "---------\n",
      "Document title : Mahendra And Mahendra Paper Mills ... vs Mahindra And Mahindra Ltd on 9 November, 2001\n",
      "Document author : Mohapatra\n",
      "Score : 2.0791657\n",
      "SIMILAR JUDGEMENTS\n",
      "['Wander Ltd. And Another v. Antox India P. Ltd. .']\n",
      "['S.M Dyechem Ltd. v. Cadbury (India) Ltd. .']\n",
      "['Anand Kumar Deepak Kumar Another v. Haldiram Bhujia Wala Another']\n",
      "\n",
      "\n",
      "\n",
      "\n",
      "RESULT 7\n",
      "---------\n",
      "Document title : Euro-Solo Energy Systems Limited vs Eveready Industries India ... on 19 August, 2009\n",
      "Document author : Mr. S. Nijjar\n",
      "Score : 2.0791657\n",
      "SIMILAR JUDGEMENTS\n",
      "['S.M Dyechem Ltd. v. Cadbury (India) Ltd. .']\n",
      "\n",
      "\n",
      "\n",
      "\n",
      "RESULT 8\n",
      "---------\n",
      "Document title : Fedders North American vs Show Line And Ors. on 12 May, 2006\n",
      "Document author : M B Lokur\n",
      "Score : 1.768065\n",
      "SIMILAR JUDGEMENTS\n",
      "['Wander Ltd. And Another v. Antox India P. Ltd. .']\n",
      "\n",
      "\n",
      "\n",
      "\n",
      "RESULT 9\n",
      "---------\n",
      "Document title : Aravind Laboratories vs V.A. Samy Chemical Works on 8 July, 1986\n",
      "Document author : \n",
      "Score : 1.716692\n",
      "SIMILAR JUDGEMENTS\n",
      "['Izuk Chemical Works v. Babu Ram Dharam Prakash']\n",
      "\n",
      "\n",
      "\n",
      "\n",
      "RESULT 10\n",
      "---------\n",
      "Document title : Torrent Pharmaceuticals Ltd. vs The Wellcome Foundation Ltd. on 11 July, 2001\n",
      "Document author : K Mehta\n",
      "Score : 1.716692\n",
      "SIMILAR JUDGEMENTS\n",
      "['S.M Dyechem Ltd. v. Cadbury (India) Ltd. .']\n",
      "\n",
      "\n",
      "\n",
      "\n",
      "RESULT 11\n",
      "---------\n",
      "Document title : Cadila Healthcare Limited vs Cadila Pharmaceuticals Limited on 26 March, 2001\n",
      "Document author : Kirpal\n",
      "Score : 1.716692\n",
      "SIMILAR JUDGEMENTS\n",
      "['Wander Ltd. And Another v. Antox India P. Ltd. .']\n",
      "['S.M Dyechem Ltd. v. Cadbury (India) Ltd. .']\n",
      "['S.M Dyechem Ltd. v. Cadbury (India) Ltd. .']\n",
      "['Izuk Chemical Works v. Babu Ram Dharam Prakash']\n",
      "['Remidex Pharma Private Limited v. Savita Pharmaceuticals P. Ltd']\n",
      "['Anand Kumar Deepak Kumar Another v. Haldiram Bhujia Wala Another']\n",
      "\n",
      "\n",
      "\n",
      "\n",
      "RESULT 12\n",
      "---------\n",
      "Document title : Cadbury India Limited vs Sm Dyechem Limited on 24 August, 1999\n",
      "Document author : A Kapadia\n",
      "Score : 1.6224105\n",
      "SIMILAR JUDGEMENTS\n",
      "['Wander Ltd. And Another v. Antox India P. Ltd. .']\n",
      "Cadila Health Care Ltd. v. Cadila Pharmaceuticals Ltd. .    Rank : 1\n",
      "Cadila Healthcare Limited v. Cadila Pharmaceuticals Limited    Rank : 2\n",
      "Ramesh Khatanmal Lulla v. Mohammad Yusuf Abdul Gaffar    Rank : 3\n",
      "Lupin Ltd. v. Johnson And Johnson    Rank : 4\n",
      "Cadbury India Ltd. v. Neeraj Food Products    Rank : 5\n",
      "Cadbury India Limited v. S.M Dyechem Limited .    Rank : 6\n",
      "Pernod Ricard S.A France, Another v. Rhizome Distilleries Pvt. Ltd. Others    Rank : 7\n",
      "Mahendra & Mahendra Paper Mills Ltd. v. Mahindra & Mahindra Ltd. .    Rank : 8\n",
      "Peshawar Soap & Chemicals Ltd. v. Godrej Soap Ltd.    Rank : 9\n",
      "Ramdev Food Products (P) Ltd. v. Arvindbhai Rambhai Patel And Others    Rank : 10\n",
      "United Biotech Pvt. Ltd. v. Orchid Chemicals & Pharmaceuticals Ltd. & Ors.    Rank : 11\n",
      "Rupa & Co. Ltd. And Another v. Dawn Mills Co. Ltd. And Another    Rank : 12\n",
      "Torrent Pharmaceuticals Ltd. v. The Wellcome Foundation Ltd. .    Rank : 13\n",
      "Euro-Solo Energy Systems Limited v. Eveready Industries India Limited    Rank : 14\n",
      "Nirma Chemical Works Pvt Ltd & 1 (S) v. Nirman High School & 2 (S)    Rank : 15\n",
      "['Vishwa Mitter Of Vijay Bharat Cigarette Stores, Dalhousie Road, Pathankot v. O.P Poddar And Others']\n",
      "['Commissioner Of Sales Tax v. M/S Duke And Sons Pvt. Ltd.']\n",
      "['Kirorimal Kashiram Marketing And Agencies Pvt. Ltd. v. Shree Sita Chawal Udyog']\n",
      "['Izuk Chemical Works v. Babu Ram Dharam Prakash']\n",
      "['Remidex Pharma Private Limited v. Savita Pharmaceuticals P. Ltd']\n",
      "['Anand Kumar Deepak Kumar Another v. Haldiram Bhujia Wala Another']\n",
      "['Radhika Agro Industries Pvt. Ltd. v. Paawan Agro Foods Ltd']\n",
      "\n",
      "\n",
      "\n",
      "\n",
      "RESULT 13\n",
      "---------\n",
      "Document title : Astrazeneca Uk Ltd. And Anr. vs Orchid Chemicals And ... on 16 May, 2006\n",
      "Document author : A Kumar\n",
      "Score : 1.2728753\n",
      "SIMILAR JUDGEMENTS\n",
      "['Wander Ltd. And Another v. Antox India P. Ltd. .']\n",
      "['Remidex Pharma Private Limited v. Savita Pharmaceuticals P. Ltd']\n",
      "\n",
      "\n",
      "\n",
      "\n",
      "RESULT 14\n",
      "---------\n",
      "Document title : Ramdev Food Products Pvt. Ltd vs Arvindbhai Rambhai Patel & Ors on 29 August, 2006\n",
      "Document author : S.B.Sinha\n",
      "Score : 1.1718862\n",
      "SIMILAR JUDGEMENTS\n",
      "['S.M Dyechem Ltd. v. Cadbury (India) Ltd. .']\n",
      "\n",
      "\n",
      "\n",
      "\n"
     ]
    }
   ],
   "source": [
    "text_to_search = input(\"What do you want to search?: \")\n",
    "\n",
    "\n",
    "res = index_func(text_to_search)"
   ]
  },
  {
   "cell_type": "code",
   "execution_count": 16,
   "id": "3f0f1568",
   "metadata": {},
   "outputs": [
    {
     "data": {
      "text/plain": [
       "{'_index': 'judgement_index',\n",
       " '_type': 'cases',\n",
       " '_id': '330608',\n",
       " '_score': 4.144434,\n",
       " '_ignored': ['content.keyword'],\n",
       " '_source': {'author': 'O Venkatachaliah',\n",
       "  'title': 'Wander Ltd. And Anr. vs Antox India P. Ltd. on 26 April, 1990',\n",
       "  'content': 'ORDER\\n  \\n\\nVenkatachaliah, Ojha, J.\\n1. Appellants in these appeals by Special Leave, are the Defendants in Civil Suit No. 1220 of 1988 on the original side of the High Court of Madras and assail the order dated 19-1-1990 of the Division Bench of the High Court granting in appeal and in reversal of the order dated 2-3-1989 of the learned single Judge trying the suit an injunction restraining appellants from passing-off their medicinal product Cal-De-Ce as that of the Respondent-Plaintiff, Respondent claimed to have acquired a right in that Trade-mark by continuous user. The temporary injunction was refused by the learned Single-Judge. But in appeals, O.S.A. Nos. 111 and 112 of 1989, preferred against the refusal, the division bench granted the temporary injunction in appeal,\\n \\n\\n2. The appeals have come up for orders on the prayer for stay. As the considerations relevant for decision on the prayer for stay, by and large, conclude the subject-matter of the main appeals, we proceed to dispose of the main appeals themselves.\\nWe have heard Sri F.S. Nariman, learned Senior Counsel for the appellants and Sri U.N.R. Rao, learned Senior Counsel for the respondents. We have been taken through the orders of the learned trial-Judge and of the Division Bench in appeal.\\n3. Wander Ltd., first appellant, claiming to be registered proprietor of the Registered Trade-mark Cal-De-Ce entered into an agreement dated 28-3-1986 with Antox India (P) Ltd. (Antox), the respondent, under which Antox agreed to manufacture vitaminsed Calcium Gluconate Tablets under the said registered Trade-Mark Cal-De-Ce and sell the entire production to the Wander Ltd. It would appear that pursuant to and in implementation of these arrangements Antox applied for the requisite manufacturing-license\\n from the Drug Controller under the Drugs and Cosmetics Act, 1940, in the course of the processing of which Wander Ltd. furnished before the Drug Controller an undertaking that Wander Ltd., would not authorize the use of its Trade-Mark Cal-De-Ce by any other company and further not to manufacture Cal-De-Ce with effect from 1st July, 1986, either by itself or under sole licenses from it. The Drug Controller issued the manufacturing licence to Antox.\\nThe working of the agreement dated 28-3-198.6 between the parties, however, appears to have run into serious troubles. It is not necessary to advert to the rival contentions of the parties on the merits of this controversy as they may have to be gone into by the High Court in the pending suit. The disputes culminated in Wander Ltd., purporting to rescind the agreement by its notice dated 30th November, 1988 and calling upon Antox to stop manufacture of Cal-De-Ce under the Trade-mark. It would also appear that Wander Ltd., entered into a separate manufacturing arrangement with Alfred Berg & Co. (I) Pvt. Ltd., the second appellant, at Madras, under licenses issued to the second appellant by the authority administering the Drug and Cosmetics Act, 1940 in that State.\\nIt is at this stage that the Antox came forward with the present suit and sought temporary injunction.\\n4. The case of Antox is that its agreement dated 28-2-1986 with Wander Ltd., was itself void in that its object was one forbidden by law ; that it would, if permitted defeat and violate several statutory provisions and prohibitions, that the agreement thus, out of way, the undertaking furnished on 21st June 1986 by Wander Ltd., to the Drug Controller in Karnataka, had the effect, in law, of and amounted to an abandonment by Wander Ltd., of its proprietorship of the Registered Trade-Mark Cal-De-Ce and all of such exclusive rights as Wander Ltd., had or may have had in respect of that Trade-Mark and that the subsequent continued user of the said Trade-Mark by Antox under the Drug Controller\\'s licence amounted to an independent user of the Trade-Mark by Antox in its own right as, indeed, according to Antox, the said Trade-Mark after its abandonment by Wander Ltd., came to be in an ascent unwonted\\n condition eligible to be picked up and used by any body. It was said that the user of the Trade-Mark by Antox after 21st of June 1986 amounted to such an independent user on the strength of which Antox claimed that it was entitled to maintain a passing off action even against Wander Ltd. The mere earlier registration of the Trade-Mark by Wander Ltd., it is urged, is no evidence of earlier user and with the abandonment of the Trade-Mark by Wander Ltd. Antox is entitled on the strength of its continuous user, to restrain Wander Ltd. from manufacture.\\nThe point for consideration is whether there is a prima facie case on which Antox could be held entitled to restrain Wander Ltd. and Alfred Berg from manufacturing and marketing goods under the Trade name Cal-De-Ce and whether on considerations of balance of convenience and comparative hardship a temporary injunction should issue. The corollary is that even if the injunction sought by Antox is refused, that does not, ipso-facto, entitled Wander Ltd. and Alfred Berg to manufacture and market the goods if they are not otherwise entitled to do so under the relevant laws regulating the matter.\\n5. Usually, the prayer for grant of an interlocutory injunction is at a stage when the existence of the legal right asserted by the plaintiff and its alleged violation are both contested and uncertain and remain uncertain till they are established at the trial on evidence. The court, at this stage, acts on certain well settled principles of administration of this form of interlocutory remedy which is both temporary and discretionary. The object of the interlocutory injucntion, it is stated is to protect the plaintiff against injury by violation of his rights for which he could not adequately be compensated in damages recoverable in the action if the uncertainty were resolved in his favour at the trial. The need for such protection must be weighed against the corresponding need of the defendant to be protected against injury resulting from his having been prevented from exercising his own legal rights for which he could not be adequately compensated. The court must weigh one need against another and determine where the \"balance of convenience lies\". The interlocutory remedy is intended to preserve in status quo, the rights of parties which may appear on a prima facie. The court also, in restraining a defendant from exercising what he considers his legal right but what the plaintiff would like to be prevented, puts into the scales, as a relevant consideration whether the defendant has yet to commence his enterprise or whether he has already been doing so in which latter case considerations somewhat different from those that apply to a case where the defendant is yet to commence his enterprise, are attracted.\\n6. In the present case, the learned single Judge held that, at all events as between Antox and Wander Ltd. even to the extent considerations relevant for a passing-off action go, the latter was undisputably the earlier user of the Trade-Mark in that Wander Ltd. was manufacturing and marketing the Calcium Glouconate Vitamin Tablets under the Trade-Mark Cal-De-Ce at its own factory in Bombay from August 1983 upto June 1986. If this is correct, Antox\\'s user cannot be held to be prior user. It is pertinent to note, and perhaps emphasise, that the appellate bench did not disturb this finding at all. Learned Single Judge was persuaded to the view that, in any event so far as the prima facie position as to the test of earlier user is concerned Antox could not be held entitled to interlocutory order in its favour on the basis of the earlier user claimed by it. The interlocutory relief was accordingly refused against both Wander and Alfered Berg.\\n7. Aggrieved by this order of the Trial Judge declining the interlocutory injunction Antox preferred O.S.A. Nos. 111-112 of 1989 before the Division Bench. The Division Bench, however, re-assessed the material considered by the single Judge and came to a different conclusion. The Division Bench held :\\nThe plaintiffs had licenses to manufacture for sale with the trade names and had indeed sold the manufactured stock in bulk to the defendants Its user of the trade marks pursuant to the licence obtained, was nut the user of the registered user under Sections 48 and 49 of the Trade and Merchandise Marks Act, not was its manufacture carried out in pursuance of any loan licence taken out by the defendant under rule 69-A of the Drugs and Cosmetics Rules.\\nThe plaintiffs manufacture with the trade names, under licenses in the trade names and the consequent user of the trade names establish a prima facie case for passing off action and the balance of convenience, requiring and the status quo to be maintained, the plaintiff having had the benefit of the injunction from 23-9-1988 till 2-3-1989 when it was vacated and from 2-5-1989 when this Court granted the injunction, the plaintiff would be entitled to have the interim injunction as prayed for by them.\\nAppellants-Defendants have come up in appeal here.\\n8. On a consideration of the matter, we are afraid, the Appellate Bench fell into error on own important propositions. The first is a misdirection in regard to the very scope and nature of the appeals before it and the limitations on the powers of the Appellate Court to substitute its own discretion in an appeal preferred against a discretionary order. The second pertains to the infirmities\\n in the ratiocinations as to the quality of Antox\\'s alleged user of the Trade-Mark on which the passing-off action is founded. We shall deal with these two separately.\\n9. The appeals before the Division Bench were against the exercise of discretion by the Single Judge. In such appeals, the Appellate Court will not interfere with the exercise of discretion of the court of first instance and substitute its own discretion except where the discretion has been shown to have been exercised arbitrarily, or capriciously or perversely or where the court had ignored the settled principles of law regulating grant or refusal of interlocutory injunctions. An appeal against exercise of discretion is said to be an appeal on principle. Appellate Court will not reassess the material and seek to reach a conclusion different from the one reached by the court below if the one reached by the court was reasonably possible on the material. The appellate court would normally not be justified in interfering with the exercise of discretion under appeal solely on the ground that if it had considered the matter at the trial stage it would have come to a contrary conclusion. If the discretion has been exercised by the Trial Court reasonably\\n and in a judicial manner the fact that the appellate court would have taken a different view may not justify interference with the trial court\\'s exercise of discretion. After referring to these principles Gajendragadkar, J. in Printers (Mysore) Private Ltd. v. Pothan Joseph  :\\n... These principles are well established, but as has been observed by Viscount Simon in Charles Osention & Co. v. Johnston the law as to the reversal by a court of appeal of an order made by a judge below in the exercise of his discretion is well established, and any difficulty that arises is due only to the application of well settled principles in an individual case.\\nThe appellate judgment does not seem to defer to this principle.\\n10. We may now examine the tenability of the grounds on which a Division Bench reversed the single Judge\\'s refusal. The passing-off action was based on the asserted right to a trade mark said to have been acquired by continuous user. According to the appellate-bench the user by Antox pursuant to the Drug-Controller\\'s licence and after the under taking given by Wander Ltd. \"was not registered user under Sections 48 and 49 of the Trade and Merchandise Marks Act nor was it a manufacture carried out in pursuance of a loan because......\" In-passing-off action this would be relevant only in a negative way. Positively, the plaintiff must establish a prior user of his own prima facie. Antox\\'s case appears silent on this requirement in the context of a specific finding of the single judge as to user by Wander Ltd. prior to June, 1986. Antox\\'s user is admittedly after June, 1986.\\nAn infringement action is available where there is violation of specific property-right acquired under and recognised by the statute. In a passing-of action, however, the plaintiff\\'s right is independent of such a statutory right to a trade mark and is against the conduct of the defendant which lends to or is intended or calculated to lead to deception. Passing-off is said to be a species of unfair trade competition or of actionable unfair trading by which one person, through deception, attempts to obtain an economic benefit of the reputation which another has established for himself in a particular trade or business. The action is regarded as an action for deceit. The tort of passing-off involves a misrepresentation made by a trade to his prospective customers calculated to injure, as a reasonably foreseeable consequence, the business or goodwill of another which actually or probably, causes damage to the business or goodwill of the other trader. Speaking of the legal classification of this form of action, Lord Diplock said :\\n Unfair trading as a wrong actionable at the suit of other traders who thereby suffer loss of business or goodwill may take a variety of forms to some of which separate lables have become attached in English law. Conspiracy to injure a person in his trade or business is one, slander of goods another but most protean is that which is generally and nowadays, perhaps misleadingly, described as \"passing off\". The form that unfair trading takes will alter with the ways in which trade is carried on and business reputation and goodwill acquired. Emerson\\'s maker of the better mousetrap if secluded in his house built in the woods would today be unlikely to find a path beaten to his door in the absence of a costly advertising campaign to acquaint the public with the excellence of his wares\" See Erven Warnink B.V. v. J. Towhand & Sons (Hull) Ltd. 1979 All E.R. 731.\\n11. Antox says that it is free from the inhibitions of the terms of the agreement dated 28th March 1986 on the ground that agreement is itself void for all purposes and, therefore, do not attach to or diminish the quality of its user, though commenced under that agreement. Antox says its user is referable to the Drug Controller\\'s licence. But even assuming that the terms of the agreement dated 28th March 1986 are not to be put into the scales to determine the title to and character of the user by Antox, two crucial positions still stage Antox in the face.\\nThe first is that the Drug Controller\\'s licence claimed by Antox as the source of its right to the user of the trade-mark, itself expressly stipulates that the goods to be manufactured pursuant to the said licence shall be goods under the registered Trade-mark, of Wander Ltd. The effect of this on the quality of the user has not been examined by the Appellate-Bench.\\nSecondly, even if a prior registration of a Trade mark is not necessarily evidence of prior user as contended by Sri Raa, Antox cannot, prima facie, explain how in a passing-off action its user subsequent to June 1986 would prevail over the prima facie finding that Wander Ltd. was manufacturing Calcium Gluconate Tablets under the trade-mark Cal-De-Ce at its own factory in Bombay from August 1983 to June 1986. The Appellate Bench does not dislodge this finding nor does it recognise the crucial effect of prior use by the defendant on the plaintiff\\'s case in a passing-off action. It appears to us that it was not an appropriate case where the appellate Bench could have interfered with the discretion exercised by the learned Single, Judge.\\n12. We, accordingly, allow these appeals, set aside order dated 19-1-1990 of the Division Bench in so far as it pertains to Civil Suit of 1220/ 1988 and restore the order dated 2-3-1989 made by the learned Single Judge on Applications 4941 and 4942 of 1988. Since we are examining the matter at an interlocutory stage, none of the observations contained in this order shall affect the final decision of the suit on the merits after evidence.\\n13. The order of the appellate Bench is common to the present suit as well as certain other proceedings between Antox on the one hand and certain other parties on the other. This judgment and the observations therein are confined to the facts of Civil Suit No. 1220/1988. The correctness of the Appellate Order in respect of other cases is not the subject-matter of these appeals and that, therefore, whatever we have said shall not prejudice the parties in those other proceedings.\\nHaving regard to the nature of the controversy, it will be appropriate for the High Court to dispose of the Suit expeditiously and we request the High Court to dispose of the Suit within six months from today.\\nIn the circumstances of this case, there will be no orders as to costs in the appeals. \\nAntox (India) Pvt. Ltd. v. Wander Ltd.\\n1. We have heard Sri U.N.R. Rao, learned Senior Counsel for the appellant and Sri F.S. Nariman, learned Senior Counsel for the respondent.\\nSpecial leave granted.\\n2. The grievance of the appellant is that its appeal before the Learned Single-Judge of the High Court preferred against an interlocutory order granting an injunction in a suit pending on the file of the District Court Baroda was disposed of without giving opportunity to the learned Counsel for the appellant to argue the matter.\\n3. The matter admits of being disposed of on the basis of Sri Nariman\\'s suggestion which we consider a fair and generous one. Sri Nariman for the respondent fairly consents to an order-and we accordingly make that order-setting aside the order under appeal and remitting the matter to the High Court for consideration afresh of the appeal for admission after affording another opportunity to the appellant of being heard. The matter is disposed of accordingly. No costs.\\n'}}"
      ]
     },
     "execution_count": 16,
     "metadata": {},
     "output_type": "execute_result"
    }
   ],
   "source": [
    "res['hits']['hits'][0]"
   ]
  },
  {
   "cell_type": "code",
   "execution_count": null,
   "id": "38e3611c",
   "metadata": {},
   "outputs": [],
   "source": []
  },
  {
   "cell_type": "code",
   "execution_count": null,
   "id": "c80c63cb",
   "metadata": {},
   "outputs": [],
   "source": []
  }
 ],
 "metadata": {
  "kernelspec": {
   "display_name": "Python 3",
   "language": "python",
   "name": "python3"
  },
  "language_info": {
   "codemirror_mode": {
    "name": "ipython",
    "version": 3
   },
   "file_extension": ".py",
   "mimetype": "text/x-python",
   "name": "python",
   "nbconvert_exporter": "python",
   "pygments_lexer": "ipython3",
   "version": "3.7.9"
  }
 },
 "nbformat": 4,
 "nbformat_minor": 5
}
