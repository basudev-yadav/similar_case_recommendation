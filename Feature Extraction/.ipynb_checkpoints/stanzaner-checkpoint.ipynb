{
 "cells": [
  {
   "cell_type": "code",
   "execution_count": 1,
   "id": "cc469356",
   "metadata": {},
   "outputs": [],
   "source": [
    "import re\n",
    "import os\n",
    "import pandas as pd\n",
    "import stanza\n",
    "\n",
    "#================================================================================================\n",
    "#================================================================================================\n",
    "\n"
   ]
  },
  {
   "cell_type": "code",
   "execution_count": 2,
   "id": "7aa83e2e",
   "metadata": {},
   "outputs": [],
   "source": [
    "def update_labels(tokens,labels,model_name):\n",
    "    R = pd.DataFrame(columns=['PIPELINE/MODEL','TOKEN','LABEL'])\n",
    "    print(\"=====================================================\")\n",
    "    print(\"=====================================================\")\n",
    "    print(\"=====================================================\")\n",
    "    print(\"              FOR THE MODEL \",model_name,\"           \")\n",
    "    print(\"\")\n",
    "    print(\" Number of tokens = \",len(tokens))\n",
    "    print(\" Number of labels = \",len(labels))\n",
    "    print(\"=====================================================\")\n",
    "    print(\"=====================================================\")\n",
    "    print(\"=====================================================\")\n",
    "\n",
    "\n",
    "    for i in range(len(labels)):\n",
    "        if labels[i]=='O':\n",
    "            continue\n",
    "        else:\n",
    "            print(tokens[i],\" : \",labels[i])\n",
    "            X=len(R)\n",
    "            #print(\"Current Length: \",X)\n",
    "            R.loc[X,'PIPELINE/MODEL']=model_name\n",
    "            R.loc[X,'TOKEN']=tokens[i]\n",
    "            R.loc[X,'LABEL']=labels[i]\n",
    "            #print(\"New Lengrh: \",len(R))\n",
    "            #print(\"TABLE after model \",model_name,\": \")\n",
    "            #print(R)\n",
    "    return R\n"
   ]
  },
  {
   "cell_type": "code",
   "execution_count": 3,
   "id": "bbbde155",
   "metadata": {},
   "outputs": [],
   "source": [
    "def stanza_nlp(text):\n",
    "    print(\"======================   STANZA   =========================\")\n",
    "    stanza.download('en')\n",
    "    nlp = stanza.Pipeline(lang='en', processors='tokenize,ner')\n",
    "    doc = nlp(text)\n",
    "    t=[]\n",
    "    l=[]\n",
    "    #print(*[f'entity: {ent.text}\\ttype: {ent.type}' for sent in doc.sentences for ent in sent.ents], sep='\\n')\n",
    "    for sent in doc.sentences:\n",
    "        for ent in sent.ents:\n",
    "            t.append(ent.text)\n",
    "            l.append(ent.type)\n",
    "    #print(t)\n",
    "    #print(l)\n",
    "    return update_labels(t,l,'STANZA-ONTONOTES')\n",
    "\n",
    "#================================================================================================\n",
    "#================================================================================================\n",
    "\n",
    "def create_triples_format(tid,df):\n",
    "  f = pd.DataFrame(columns = ['tid','label','token'])\n",
    "  for i in range(len(df)):\n",
    "    s = len(f)\n",
    "    f.loc[s,'tid'] = tid\n",
    "    f.loc[s,'label'] = df.loc[i,'LABEL']\n",
    "    f.loc[s,'token'] = df.loc[i,'TOKEN']\n",
    "  return f\n",
    "\n",
    "def generate_entities(text):\n",
    "  r = stanza_nlp(text)\n",
    "  return r\n",
    "\n"
   ]
  },
  {
   "cell_type": "code",
   "execution_count": 5,
   "id": "8b7b2627",
   "metadata": {},
   "outputs": [
    {
     "name": "stdout",
     "output_type": "stream",
     "text": [
      "TOTAL FILES =  100\n",
      "========== FILE # 1  ===========\n"
     ]
    },
    {
     "ename": "NameError",
     "evalue": "name 'file' is not defined",
     "output_type": "error",
     "traceback": [
      "\u001b[1;31m---------------------------------------------------------------------------\u001b[0m",
      "\u001b[1;31mNameError\u001b[0m                                 Traceback (most recent call last)",
      "\u001b[1;32m<ipython-input-5-c8f4fd4c74de>\u001b[0m in \u001b[0;36m<module>\u001b[1;34m\u001b[0m\n\u001b[0;32m      6\u001b[0m   \u001b[0mprint\u001b[0m\u001b[1;33m(\u001b[0m\u001b[1;34m\"========== FILE #\"\u001b[0m\u001b[1;33m,\u001b[0m\u001b[0mi\u001b[0m\u001b[1;33m+\u001b[0m\u001b[1;36m1\u001b[0m\u001b[1;33m,\u001b[0m\u001b[1;34m\" ===========\"\u001b[0m\u001b[1;33m)\u001b[0m\u001b[1;33m\u001b[0m\u001b[1;33m\u001b[0m\u001b[0m\n\u001b[0;32m      7\u001b[0m   \u001b[0mtid\u001b[0m \u001b[1;33m=\u001b[0m \u001b[1;33m(\u001b[0m\u001b[0mfiles\u001b[0m\u001b[1;33m[\u001b[0m\u001b[0mi\u001b[0m\u001b[1;33m]\u001b[0m\u001b[1;33m)\u001b[0m\u001b[1;33m[\u001b[0m\u001b[1;33m:\u001b[0m\u001b[1;33m-\u001b[0m\u001b[1;36m4\u001b[0m\u001b[1;33m]\u001b[0m\u001b[1;33m\u001b[0m\u001b[1;33m\u001b[0m\u001b[0m\n\u001b[1;32m----> 8\u001b[1;33m   \u001b[1;32mif\u001b[0m \u001b[0mfile\u001b[0m\u001b[1;33m[\u001b[0m\u001b[0mi\u001b[0m\u001b[1;33m]\u001b[0m\u001b[1;33m.\u001b[0m\u001b[0mendswith\u001b[0m\u001b[1;33m(\u001b[0m\u001b[1;34m\".txt\"\u001b[0m\u001b[1;33m)\u001b[0m\u001b[1;33m:\u001b[0m\u001b[1;33m\u001b[0m\u001b[1;33m\u001b[0m\u001b[0m\n\u001b[0m\u001b[0;32m      9\u001b[0m       \u001b[0mf\u001b[0m \u001b[1;33m=\u001b[0m \u001b[0mopen\u001b[0m\u001b[1;33m(\u001b[0m\u001b[1;34m\"text_files/\"\u001b[0m\u001b[1;33m+\u001b[0m\u001b[0mtid\u001b[0m\u001b[1;33m+\u001b[0m\u001b[1;34m\".txt\"\u001b[0m\u001b[1;33m)\u001b[0m\u001b[1;33m\u001b[0m\u001b[1;33m\u001b[0m\u001b[0m\n\u001b[0;32m     10\u001b[0m       \u001b[0mtext\u001b[0m \u001b[1;33m=\u001b[0m \u001b[0mf\u001b[0m\u001b[1;33m.\u001b[0m\u001b[0mread\u001b[0m\u001b[1;33m(\u001b[0m\u001b[1;33m)\u001b[0m\u001b[1;33m\u001b[0m\u001b[1;33m\u001b[0m\u001b[0m\n",
      "\u001b[1;31mNameError\u001b[0m: name 'file' is not defined"
     ]
    }
   ],
   "source": [
    "files = os.listdir(\"text_files/\")\n",
    "os.mkdir(\"STANZA_TRIPLES/\")\n",
    "\n",
    "print(\"TOTAL FILES = \",len(files))\n",
    "for i in range(len(files)):\n",
    "    print(\"========== FILE #\",i+1,\" ===========\")\n",
    "    tid = (files[i])[:-4]\n",
    "    if files[i].endswith(\".txt\"):  \n",
    "      f = open(\"text_files/\"+tid+\".txt\")\n",
    "      text = f.read()\n",
    "      name = tid+\".csv\"\n",
    "      r = generate_entities(text)\n",
    "      r = create_triples_format(tid,r)\n",
    "      r.to_csv(\"STANZA_TRIPLES/\"+tid+\".csv\",index=False)"
   ]
  },
  {
   "cell_type": "code",
   "execution_count": null,
   "id": "6dca1029",
   "metadata": {},
   "outputs": [],
   "source": []
  }
 ],
 "metadata": {
  "kernelspec": {
   "display_name": "Python 3",
   "language": "python",
   "name": "python3"
  },
  "language_info": {
   "codemirror_mode": {
    "name": "ipython",
    "version": 3
   },
   "file_extension": ".py",
   "mimetype": "text/x-python",
   "name": "python",
   "nbconvert_exporter": "python",
   "pygments_lexer": "ipython3",
   "version": "3.7.9"
  }
 },
 "nbformat": 4,
 "nbformat_minor": 5
}
