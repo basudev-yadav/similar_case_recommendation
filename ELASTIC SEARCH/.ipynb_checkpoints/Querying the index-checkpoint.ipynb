{
 "cells": [
  {
   "cell_type": "code",
   "execution_count": 72,
   "id": "87d5d32b",
   "metadata": {},
   "outputs": [],
   "source": [
    "#import the libraries\n",
    "\n",
    "from elasticsearch import Elasticsearch\n",
    "import json\n",
    "import re\n",
    "import pandas as pd\n",
    "import numpy as np\n",
    "import bs4\n",
    "import lxml\n",
    "from bs4 import BeautifulSoup"
   ]
  },
  {
   "cell_type": "code",
   "execution_count": 73,
   "id": "398ef40c",
   "metadata": {},
   "outputs": [],
   "source": [
    "file = pd.read_csv(\"casemine.csv\")"
   ]
  },
  {
   "cell_type": "code",
   "execution_count": 74,
   "id": "276f8c4d",
   "metadata": {},
   "outputs": [],
   "source": [
    "#initializing the instance of elasticsearch to localhost at port 9200(default)\n",
    "es = Elasticsearch(HOST=\"http://localhost\", PORT=9200)"
   ]
  },
  {
   "cell_type": "code",
   "execution_count": 75,
   "id": "168a7c62",
   "metadata": {},
   "outputs": [
    {
     "data": {
      "text/plain": [
       "{'acknowledged': True, 'shards_acknowledged': True, 'index': 'judgement_index'}"
      ]
     },
     "execution_count": 75,
     "metadata": {},
     "output_type": "execute_result"
    }
   ],
   "source": [
    "#create the index\n",
    "\n",
    "es.indices.delete(index='judgement_index', ignore=[400, 404])\n",
    "es.indices.create(index=\"judgement_index\")"
   ]
  },
  {
   "cell_type": "code",
   "execution_count": 76,
   "id": "383f8ab4",
   "metadata": {},
   "outputs": [],
   "source": [
    "#load the json file\n",
    "\n",
    "file = open(\"data_for_index_p_combined.json\",\"r\",encoding=\"utf-8\")\n",
    "\n",
    "data = json.load(file)\n",
    "file.close()"
   ]
  },
  {
   "cell_type": "code",
   "execution_count": 77,
   "id": "2f9bd55b",
   "metadata": {},
   "outputs": [
    {
     "name": "stderr",
     "output_type": "stream",
     "text": [
      "C:\\Users\\Jayant\\Anaconda3\\lib\\site-packages\\ipykernel_launcher.py:4: DeprecationWarning: The 'body' parameter is deprecated for the 'index' API and will be removed in a future version. Instead use the 'document' parameter. See https://github.com/elastic/elasticsearch-py/issues/1698 for more information\n",
      "  after removing the cwd from sys.path.\n"
     ]
    }
   ],
   "source": [
    "#insert the data in the index\n",
    "\n",
    "for i in data.keys():\n",
    "    es.index(index=\"judgement_index\", doc_type=\"cases\", id=int(i), body=data[i])"
   ]
  },
  {
   "cell_type": "code",
   "execution_count": 78,
   "id": "29c6f0db",
   "metadata": {},
   "outputs": [],
   "source": [
    "def get_id(link):\n",
    "    regex = re.compile(r'[0-9]+')\n",
    "    result = regex.search(link)\n",
    "    \n",
    "    if(result):\n",
    "        return str(result.group())\n",
    "    else:\n",
    "        return \"\""
   ]
  },
  {
   "cell_type": "code",
   "execution_count": 84,
   "id": "8eb59c7e",
   "metadata": {},
   "outputs": [],
   "source": [
    "def return_similar(docid):\n",
    "    file = pd.read_csv(\"casemine.csv\")\n",
    "    \n",
    "    titles=[]\n",
    "    \n",
    "    for i in range(file.shape[0]):\n",
    "        res = []\n",
    "        if get_id(str(file.iloc[i,1])) == str(docid):\n",
    "            res.append(file.iloc[i,2])\n",
    "            res.append(file.iloc[i,4])\n",
    "        if get_id(str(file.iloc[i,3])) == str(docid):\n",
    "            res.append(file.iloc[i,0])\n",
    "        titles.append(res)\n",
    "    return titles"
   ]
  },
  {
   "cell_type": "code",
   "execution_count": 85,
   "id": "9662d1f3",
   "metadata": {},
   "outputs": [],
   "source": [
    "def index_func(where_to_search,text_to_search):\n",
    "    \"\"\"\n",
    "    parameters:\n",
    "    where_to_search: scope of search eg: title, author, etc.\n",
    "    text_to_search: text that you are looking for in the document\n",
    "    \n",
    "    output:\n",
    "    1. returns, if no output is found\n",
    "    2. details of judgement, otherwise\n",
    "    \"\"\"\n",
    "    \n",
    "    #store the result of the query\n",
    "    body = {\n",
    "               \"_source\":[\n",
    "                  \"title\",\n",
    "                  \"author\"\n",
    "                    ],\n",
    "               \"size\":10000,\n",
    "                \"query\":{\n",
    "                    \"match_phrase\":{\n",
    "                        where_to_search : text_to_search,\n",
    "                    }\n",
    "                }\n",
    "    \n",
    "        \n",
    "        }\n",
    "               \n",
    "        \n",
    "    \n",
    "    result = es.search(index=\"judgement_index\", doc_type=\"cases\", body=body)\n",
    "    \n",
    "    #extract the number of results from the result object\n",
    "    num_results = result['hits']['total']['value']\n",
    "    \n",
    "    #return if nothing is found\n",
    "    if num_results == 0:\n",
    "        print(\"No result found!\")\n",
    "        return\n",
    "    else:\n",
    "        #print the number of results found\n",
    "        print(str(num_results)+\" result/s found!\\n\\n\")\n",
    "        \n",
    "        #print the details of the judgement\n",
    "        for i in range(num_results):\n",
    "            res = result['hits']['hits'][i]['_source']\n",
    "            score = result['hits']['hits'][i]['_score']\n",
    "            docid = result['hits']['hits'][i]['_id']\n",
    "            print(\"RESULT \"+str(i+1))\n",
    "            print(\"---------\")\n",
    "            print(\"Document title : \"+str(res['title']))\n",
    "            print(\"Document author : \"+str(res['author']))\n",
    "            print(\"Score : \"+str(score))\n",
    "            similar_judgements = return_similar(docid)\n",
    "            print(\"SIMILAR JUDGEMENTS\")\n",
    "            for s in similar_judgements:\n",
    "                if len(s)>1:\n",
    "                    print(s[0]+str(\"    Rank : \")+str(s[1]))\n",
    "                else:\n",
    "                    print(s)\n",
    "            \n",
    "            print(\"\\n\\n\\n\")\n",
    "        return result\n"
   ]
  },
  {
   "cell_type": "code",
   "execution_count": 88,
   "id": "a4b83cbd",
   "metadata": {},
   "outputs": [
    {
     "name": "stdout",
     "output_type": "stream",
     "text": [
      "What do you want to search?: Wander\n",
      "Where do you want to search in?(title, author, content): title\n"
     ]
    },
    {
     "name": "stderr",
     "output_type": "stream",
     "text": [
      "C:\\Users\\Jayant\\Anaconda3\\lib\\site-packages\\ipykernel_launcher.py:30: DeprecationWarning: The 'body' parameter is deprecated for the 'search' API and will be removed in a future version. Instead use API parameters directly. See https://github.com/elastic/elasticsearch-py/issues/1698 for more information\n"
     ]
    },
    {
     "name": "stdout",
     "output_type": "stream",
     "text": [
      "1 result/s found!\n",
      "\n",
      "\n",
      "RESULT 1\n",
      "---------\n",
      "Document title : Wander Ltd. And Anr. vs Antox India P. Ltd. on 26 April, 1990\n",
      "Document author : O Venkatachaliah\n",
      "Score : 4.144434\n",
      "SIMILAR JUDGEMENTS\n",
      "Astrazeneca Uk Ltd. v. Orchid Chemicals & Pharmaceuticals Ltd.    Rank : 1\n",
      "S.M Dyechem Ltd. v. Cadbury (India) Ltd. .    Rank : 2\n",
      "Veerumal Praveen Kumar v. Needle Industries (India) Ltd. And Anr.    Rank : 3\n",
      "N.R Dongre And Others v. Whirlpool Corporation And Another    Rank : 4\n",
      "Pfizer Products Inc. v. Rajesh Chopra    Rank : 5\n",
      "Mahendra & Mahendra Paper Mills Ltd. v. Mahindra & Mahindra Ltd. .    Rank : 6\n",
      "Lupin Limited v. Johnson & Johnson    Rank : 7\n",
      "Rangoon Chemical Works Pvt. Ltd. v. Royal Medicals    Rank : 8\n",
      "M/S Alkem Laboratories Ltd. Petitioners v. Mega International (P) Ltd. S    Rank : 9\n",
      "Wockhardt Limited v. Torrent Pharmaceuticals Limited And Another    Rank : 10\n",
      "Cadila Health Care Ltd. v. Cadila Pharmaceuticals Ltd. .    Rank : 11\n",
      "Satilila Charitable Society And Anr. v. Skyline Education Institute (I) (P) Ltd.    Rank : 12\n",
      "Rajendra Sadanand Rasal v. Naranppa Thenukyya Kotian And Others S    Rank : 13\n",
      "Purshottam Vishandas Raheja And Another v. Shrichand Vishandas Raheja (Dead) Through Lrs. And Others    Rank : 14\n",
      "Fedders North American v. Show Line    Rank : 15\n"
     ]
    },
    {
     "ename": "IndexError",
     "evalue": "list index out of range",
     "output_type": "error",
     "traceback": [
      "\u001b[1;31m---------------------------------------------------------------------------\u001b[0m",
      "\u001b[1;31mIndexError\u001b[0m                                Traceback (most recent call last)",
      "\u001b[1;32m<ipython-input-88-1c4b798194b7>\u001b[0m in \u001b[0;36m<module>\u001b[1;34m\u001b[0m\n\u001b[0;32m      3\u001b[0m \u001b[1;33m\u001b[0m\u001b[0m\n\u001b[0;32m      4\u001b[0m \u001b[1;33m\u001b[0m\u001b[0m\n\u001b[1;32m----> 5\u001b[1;33m \u001b[0mres\u001b[0m \u001b[1;33m=\u001b[0m \u001b[0mindex_func\u001b[0m\u001b[1;33m(\u001b[0m\u001b[0mwhere_to_search\u001b[0m\u001b[1;33m,\u001b[0m\u001b[0mtext_to_search\u001b[0m\u001b[1;33m)\u001b[0m\u001b[1;33m\u001b[0m\u001b[1;33m\u001b[0m\u001b[0m\n\u001b[0m",
      "\u001b[1;32m<ipython-input-85-04a3f6ef487a>\u001b[0m in \u001b[0;36mindex_func\u001b[1;34m(where_to_search, text_to_search)\u001b[0m\n\u001b[0;32m     57\u001b[0m                     \u001b[0mprint\u001b[0m\u001b[1;33m(\u001b[0m\u001b[0ms\u001b[0m\u001b[1;33m[\u001b[0m\u001b[1;36m0\u001b[0m\u001b[1;33m]\u001b[0m\u001b[1;33m+\u001b[0m\u001b[0mstr\u001b[0m\u001b[1;33m(\u001b[0m\u001b[1;34m\"    Rank : \"\u001b[0m\u001b[1;33m)\u001b[0m\u001b[1;33m+\u001b[0m\u001b[0mstr\u001b[0m\u001b[1;33m(\u001b[0m\u001b[0ms\u001b[0m\u001b[1;33m[\u001b[0m\u001b[1;36m1\u001b[0m\u001b[1;33m]\u001b[0m\u001b[1;33m)\u001b[0m\u001b[1;33m)\u001b[0m\u001b[1;33m\u001b[0m\u001b[1;33m\u001b[0m\u001b[0m\n\u001b[0;32m     58\u001b[0m                 \u001b[1;32melse\u001b[0m\u001b[1;33m:\u001b[0m\u001b[1;33m\u001b[0m\u001b[1;33m\u001b[0m\u001b[0m\n\u001b[1;32m---> 59\u001b[1;33m                     \u001b[0mprint\u001b[0m\u001b[1;33m(\u001b[0m\u001b[0ms\u001b[0m\u001b[1;33m[\u001b[0m\u001b[1;36m0\u001b[0m\u001b[1;33m]\u001b[0m\u001b[1;33m)\u001b[0m\u001b[1;33m\u001b[0m\u001b[1;33m\u001b[0m\u001b[0m\n\u001b[0m\u001b[0;32m     60\u001b[0m \u001b[1;33m\u001b[0m\u001b[0m\n\u001b[0;32m     61\u001b[0m             \u001b[0mprint\u001b[0m\u001b[1;33m(\u001b[0m\u001b[1;34m\"\\n\\n\\n\"\u001b[0m\u001b[1;33m)\u001b[0m\u001b[1;33m\u001b[0m\u001b[1;33m\u001b[0m\u001b[0m\n",
      "\u001b[1;31mIndexError\u001b[0m: list index out of range"
     ]
    }
   ],
   "source": [
    "text_to_search = input(\"What do you want to search?: \")\n",
    "where_to_search = input(\"Where do you want to search in?(title, author, content): \")\n",
    "\n",
    "\n",
    "res = index_func(where_to_search,text_to_search)"
   ]
  },
  {
   "cell_type": "code",
   "execution_count": 45,
   "id": "3f0f1568",
   "metadata": {},
   "outputs": [
    {
     "data": {
      "text/plain": [
       "{'took': 113,\n",
       " 'timed_out': False,\n",
       " '_shards': {'total': 1, 'successful': 1, 'skipped': 0, 'failed': 0},\n",
       " 'hits': {'total': {'value': 1, 'relation': 'eq'},\n",
       "  'max_score': 4.136671,\n",
       "  'hits': [{'_index': 'judgement_index',\n",
       "    '_type': 'cases',\n",
       "    '_id': '330608',\n",
       "    '_score': 4.136671,\n",
       "    '_ignored': ['content.keyword'],\n",
       "    '_source': {'author': 'O Venkatachaliah',\n",
       "     'title': 'Wander Ltd. And Anr. vs Antox India P. Ltd. on 26 April, 1990'}}]}}"
      ]
     },
     "execution_count": 45,
     "metadata": {},
     "output_type": "execute_result"
    }
   ],
   "source": [
    "res"
   ]
  },
  {
   "cell_type": "code",
   "execution_count": null,
   "id": "38e3611c",
   "metadata": {},
   "outputs": [],
   "source": []
  },
  {
   "cell_type": "code",
   "execution_count": null,
   "id": "c80c63cb",
   "metadata": {},
   "outputs": [],
   "source": []
  }
 ],
 "metadata": {
  "kernelspec": {
   "display_name": "Python 3",
   "language": "python",
   "name": "python3"
  },
  "language_info": {
   "codemirror_mode": {
    "name": "ipython",
    "version": 3
   },
   "file_extension": ".py",
   "mimetype": "text/x-python",
   "name": "python",
   "nbconvert_exporter": "python",
   "pygments_lexer": "ipython3",
   "version": "3.7.9"
  }
 },
 "nbformat": 4,
 "nbformat_minor": 5
}
