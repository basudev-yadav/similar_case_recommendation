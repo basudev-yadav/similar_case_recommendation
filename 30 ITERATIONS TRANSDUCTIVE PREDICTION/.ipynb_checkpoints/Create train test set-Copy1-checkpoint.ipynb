{
 "cells": [
  {
   "cell_type": "code",
   "execution_count": 28,
   "id": "70e6df27",
   "metadata": {},
   "outputs": [],
   "source": [
    "import pandas as pd\n",
    "import numpy as np \n",
    "import json\n",
    "import re\n",
    "import os"
   ]
  },
  {
   "cell_type": "code",
   "execution_count": 29,
   "id": "0348892b",
   "metadata": {},
   "outputs": [],
   "source": [
    "df = pd.read_csv(\"TRAIN_TEST_MERGE_UNIQUE.csv\")"
   ]
  },
  {
   "cell_type": "code",
   "execution_count": 30,
   "id": "008add70",
   "metadata": {},
   "outputs": [],
   "source": [
    "counter = 0"
   ]
  },
  {
   "cell_type": "code",
   "execution_count": 31,
   "id": "79b69725",
   "metadata": {},
   "outputs": [],
   "source": [
    "test_df = pd.DataFrame(columns=[\"SUBJECT\",\"RELATION\",\"OBJECT\"])"
   ]
  },
  {
   "cell_type": "code",
   "execution_count": 32,
   "id": "41b59148",
   "metadata": {},
   "outputs": [],
   "source": [
    "def func_helper(index,df,row,indices_to_del):\n",
    "    s = row[0]\n",
    "    o = row[2]\n",
    "    nodes = []\n",
    "    for i in range(df.shape[0]):\n",
    "        if i != index and i not in indices_to_del:\n",
    "            nodes.append(df.iloc[i,0])\n",
    "            nodes.append(df.iloc[i,2])\n",
    "    \n",
    "    if s in nodes and o in nodes:\n",
    "        return True\n",
    "    else:\n",
    "        return False"
   ]
  },
  {
   "cell_type": "code",
   "execution_count": 33,
   "id": "c53fede1",
   "metadata": {},
   "outputs": [],
   "source": [
    "num_edges_to_sample = int(0.10 * len(df))"
   ]
  },
  {
   "cell_type": "code",
   "execution_count": 34,
   "id": "09d737c8",
   "metadata": {},
   "outputs": [
    {
     "data": {
      "text/plain": [
       "218"
      ]
     },
     "execution_count": 34,
     "metadata": {},
     "output_type": "execute_result"
    }
   ],
   "source": [
    "num_edges_to_sample"
   ]
  },
  {
   "cell_type": "code",
   "execution_count": null,
   "id": "feeaec1e",
   "metadata": {},
   "outputs": [],
   "source": []
  },
  {
   "cell_type": "code",
   "execution_count": 35,
   "id": "180cf076",
   "metadata": {},
   "outputs": [],
   "source": [
    "df = df.sample(frac=1)\n",
    "df = df.reset_index()\n",
    "df.drop(['index'],axis=1,inplace=True)"
   ]
  },
  {
   "cell_type": "code",
   "execution_count": 37,
   "id": "b6045e16",
   "metadata": {},
   "outputs": [],
   "source": [
    "indices_to_del = []\n",
    "for i in range(df.shape[0]):\n",
    "    row = df.loc[i]\n",
    "    if func_helper(i,df,row,indices_to_del):\n",
    "        count = len(test_df)\n",
    "        test_df.loc[count] = row\n",
    "        counter = counter + 1\n",
    "        if counter == num_edges_to_sample:\n",
    "            break\n",
    "        indices_to_del.append(i)\n",
    "    "
   ]
  },
  {
   "cell_type": "code",
   "execution_count": 24,
   "id": "f62b6864",
   "metadata": {},
   "outputs": [],
   "source": [
    "test_df.to_csv(\"similarity/input/TEST_SET_SAMPLED.csv\",index=False)"
   ]
  },
  {
   "cell_type": "code",
   "execution_count": 26,
   "id": "693a4f22",
   "metadata": {},
   "outputs": [],
   "source": [
    "X = df.drop(indices_to_del)"
   ]
  },
  {
   "cell_type": "code",
   "execution_count": 27,
   "id": "99776b36",
   "metadata": {},
   "outputs": [],
   "source": [
    "X.to_csv(\"similarity/input/TRAIN_SET_SAMPLED.csv\",index=False)"
   ]
  },
  {
   "cell_type": "code",
   "execution_count": null,
   "id": "3ad5c2f6",
   "metadata": {},
   "outputs": [],
   "source": []
  }
 ],
 "metadata": {
  "kernelspec": {
   "display_name": "Python 3 (ipykernel)",
   "language": "python",
   "name": "python3"
  },
  "language_info": {
   "codemirror_mode": {
    "name": "ipython",
    "version": 3
   },
   "file_extension": ".py",
   "mimetype": "text/x-python",
   "name": "python",
   "nbconvert_exporter": "python",
   "pygments_lexer": "ipython3",
   "version": "3.7.9"
  }
 },
 "nbformat": 4,
 "nbformat_minor": 5
}
