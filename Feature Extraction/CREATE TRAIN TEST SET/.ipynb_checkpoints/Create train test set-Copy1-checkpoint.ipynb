{
 "cells": [
  {
   "cell_type": "code",
   "execution_count": 28,
   "id": "70e6df27",
   "metadata": {},
   "outputs": [],
   "source": [
    "import pandas as pd\n",
    "import numpy as np \n",
    "import json\n",
    "import re\n",
    "import os"
   ]
  },
  {
   "cell_type": "code",
   "execution_count": 29,
   "id": "0348892b",
   "metadata": {},
   "outputs": [],
   "source": [
    "df = pd.read_csv(\"TRAIN_TEST_MERGE_UNIQUE.csv\")"
   ]
  },
  {
   "cell_type": "code",
   "execution_count": 30,
   "id": "008add70",
   "metadata": {},
   "outputs": [],
   "source": [
    "counter = 0"
   ]
  },
  {
   "cell_type": "code",
   "execution_count": 31,
   "id": "79b69725",
   "metadata": {},
   "outputs": [],
   "source": [
    "test_df = pd.DataFrame(columns=[\"SUBJECT\",\"RELATION\",\"OBJECT\"])"
   ]
  },
  {
   "cell_type": "code",
   "execution_count": 32,
   "id": "41b59148",
   "metadata": {},
   "outputs": [],
   "source": [
    "def func_helper(index,df,row,indices_to_del):\n",
    "    s = row[0]\n",
    "    o = row[2]\n",
    "    nodes = []\n",
    "    for i in range(df.shape[0]):\n",
    "        if i != index and i not in indices_to_del:\n",
    "            nodes.append(df.iloc[i,0])\n",
    "            nodes.append(df.iloc[i,2])\n",
    "    \n",
    "    if s in nodes and o in nodes:\n",
    "        return True\n",
    "    else:\n",
    "        return False"
   ]
  },
  {
   "cell_type": "code",
   "execution_count": 33,
   "id": "c53fede1",
   "metadata": {},
   "outputs": [],
   "source": [
    "num_edges_to_sample = int(0.10 * len(df))"
   ]
  },
  {
   "cell_type": "code",
   "execution_count": 34,
   "id": "09d737c8",
   "metadata": {},
   "outputs": [
    {
     "data": {
      "text/plain": [
       "218"
      ]
     },
     "execution_count": 34,
     "metadata": {},
     "output_type": "execute_result"
    }
   ],
   "source": [
    "num_edges_to_sample"
   ]
  },
  {
   "cell_type": "code",
   "execution_count": null,
   "id": "feeaec1e",
   "metadata": {},
   "outputs": [],
   "source": []
  },
  {
   "cell_type": "code",
   "execution_count": 35,
   "id": "180cf076",
   "metadata": {},
   "outputs": [],
   "source": [
    "df = df.sample(frac=1)\n",
    "df = df.reset_index()\n",
    "df.drop(['index'],axis=1,inplace=True)"
   ]
  },
  {
   "cell_type": "code",
   "execution_count": 36,
   "id": "f0438365",
   "metadata": {},
   "outputs": [
    {
     "data": {
      "text/html": [
       "<div>\n",
       "<style scoped>\n",
       "    .dataframe tbody tr th:only-of-type {\n",
       "        vertical-align: middle;\n",
       "    }\n",
       "\n",
       "    .dataframe tbody tr th {\n",
       "        vertical-align: top;\n",
       "    }\n",
       "\n",
       "    .dataframe thead th {\n",
       "        text-align: right;\n",
       "    }\n",
       "</style>\n",
       "<table border=\"1\" class=\"dataframe\">\n",
       "  <thead>\n",
       "    <tr style=\"text-align: right;\">\n",
       "      <th></th>\n",
       "      <th>SUBJECT</th>\n",
       "      <th>RELATION</th>\n",
       "      <th>OBJECT</th>\n",
       "    </tr>\n",
       "  </thead>\n",
       "  <tbody>\n",
       "    <tr>\n",
       "      <th>0</th>\n",
       "      <td>813</td>\n",
       "      <td>similarTo</td>\n",
       "      <td>428</td>\n",
       "    </tr>\n",
       "    <tr>\n",
       "      <th>1</th>\n",
       "      <td>238</td>\n",
       "      <td>similarTo</td>\n",
       "      <td>879</td>\n",
       "    </tr>\n",
       "    <tr>\n",
       "      <th>2</th>\n",
       "      <td>986</td>\n",
       "      <td>similarTo</td>\n",
       "      <td>1028</td>\n",
       "    </tr>\n",
       "    <tr>\n",
       "      <th>3</th>\n",
       "      <td>824</td>\n",
       "      <td>similarTo</td>\n",
       "      <td>567</td>\n",
       "    </tr>\n",
       "    <tr>\n",
       "      <th>4</th>\n",
       "      <td>1004</td>\n",
       "      <td>similarTo</td>\n",
       "      <td>1012</td>\n",
       "    </tr>\n",
       "    <tr>\n",
       "      <th>...</th>\n",
       "      <td>...</td>\n",
       "      <td>...</td>\n",
       "      <td>...</td>\n",
       "    </tr>\n",
       "    <tr>\n",
       "      <th>2177</th>\n",
       "      <td>819</td>\n",
       "      <td>similarTo</td>\n",
       "      <td>200</td>\n",
       "    </tr>\n",
       "    <tr>\n",
       "      <th>2178</th>\n",
       "      <td>266</td>\n",
       "      <td>similarTo</td>\n",
       "      <td>858</td>\n",
       "    </tr>\n",
       "    <tr>\n",
       "      <th>2179</th>\n",
       "      <td>863</td>\n",
       "      <td>similarTo</td>\n",
       "      <td>703</td>\n",
       "    </tr>\n",
       "    <tr>\n",
       "      <th>2180</th>\n",
       "      <td>520</td>\n",
       "      <td>similarTo</td>\n",
       "      <td>798</td>\n",
       "    </tr>\n",
       "    <tr>\n",
       "      <th>2181</th>\n",
       "      <td>825</td>\n",
       "      <td>similarTo</td>\n",
       "      <td>408</td>\n",
       "    </tr>\n",
       "  </tbody>\n",
       "</table>\n",
       "<p>2182 rows × 3 columns</p>\n",
       "</div>"
      ],
      "text/plain": [
       "      SUBJECT   RELATION  OBJECT\n",
       "0         813  similarTo     428\n",
       "1         238  similarTo     879\n",
       "2         986  similarTo    1028\n",
       "3         824  similarTo     567\n",
       "4        1004  similarTo    1012\n",
       "...       ...        ...     ...\n",
       "2177      819  similarTo     200\n",
       "2178      266  similarTo     858\n",
       "2179      863  similarTo     703\n",
       "2180      520  similarTo     798\n",
       "2181      825  similarTo     408\n",
       "\n",
       "[2182 rows x 3 columns]"
      ]
     },
     "execution_count": 36,
     "metadata": {},
     "output_type": "execute_result"
    }
   ],
   "source": [
    "df"
   ]
  },
  {
   "cell_type": "code",
   "execution_count": 37,
   "id": "b6045e16",
   "metadata": {},
   "outputs": [],
   "source": [
    "indices_to_del = []\n",
    "for i in range(df.shape[0]):\n",
    "    row = df.loc[i]\n",
    "    if func_helper(i,df,row,indices_to_del):\n",
    "        count = len(test_df)\n",
    "        test_df.loc[count] = row\n",
    "        counter = counter + 1\n",
    "        if counter == num_edges_to_sample:\n",
    "            break\n",
    "        indices_to_del.append(i)\n",
    "    "
   ]
  },
  {
   "cell_type": "code",
   "execution_count": 38,
   "id": "466db557",
   "metadata": {},
   "outputs": [
    {
     "data": {
      "text/html": [
       "<div>\n",
       "<style scoped>\n",
       "    .dataframe tbody tr th:only-of-type {\n",
       "        vertical-align: middle;\n",
       "    }\n",
       "\n",
       "    .dataframe tbody tr th {\n",
       "        vertical-align: top;\n",
       "    }\n",
       "\n",
       "    .dataframe thead th {\n",
       "        text-align: right;\n",
       "    }\n",
       "</style>\n",
       "<table border=\"1\" class=\"dataframe\">\n",
       "  <thead>\n",
       "    <tr style=\"text-align: right;\">\n",
       "      <th></th>\n",
       "      <th>SUBJECT</th>\n",
       "      <th>RELATION</th>\n",
       "      <th>OBJECT</th>\n",
       "    </tr>\n",
       "  </thead>\n",
       "  <tbody>\n",
       "    <tr>\n",
       "      <th>0</th>\n",
       "      <td>813</td>\n",
       "      <td>similarTo</td>\n",
       "      <td>428</td>\n",
       "    </tr>\n",
       "    <tr>\n",
       "      <th>1</th>\n",
       "      <td>238</td>\n",
       "      <td>similarTo</td>\n",
       "      <td>879</td>\n",
       "    </tr>\n",
       "    <tr>\n",
       "      <th>2</th>\n",
       "      <td>986</td>\n",
       "      <td>similarTo</td>\n",
       "      <td>1028</td>\n",
       "    </tr>\n",
       "    <tr>\n",
       "      <th>3</th>\n",
       "      <td>824</td>\n",
       "      <td>similarTo</td>\n",
       "      <td>567</td>\n",
       "    </tr>\n",
       "    <tr>\n",
       "      <th>4</th>\n",
       "      <td>1004</td>\n",
       "      <td>similarTo</td>\n",
       "      <td>1012</td>\n",
       "    </tr>\n",
       "    <tr>\n",
       "      <th>...</th>\n",
       "      <td>...</td>\n",
       "      <td>...</td>\n",
       "      <td>...</td>\n",
       "    </tr>\n",
       "    <tr>\n",
       "      <th>213</th>\n",
       "      <td>220</td>\n",
       "      <td>similarTo</td>\n",
       "      <td>850</td>\n",
       "    </tr>\n",
       "    <tr>\n",
       "      <th>214</th>\n",
       "      <td>112</td>\n",
       "      <td>similarTo</td>\n",
       "      <td>846</td>\n",
       "    </tr>\n",
       "    <tr>\n",
       "      <th>215</th>\n",
       "      <td>848</td>\n",
       "      <td>similarTo</td>\n",
       "      <td>794</td>\n",
       "    </tr>\n",
       "    <tr>\n",
       "      <th>216</th>\n",
       "      <td>815</td>\n",
       "      <td>similarTo</td>\n",
       "      <td>269</td>\n",
       "    </tr>\n",
       "    <tr>\n",
       "      <th>217</th>\n",
       "      <td>546</td>\n",
       "      <td>similarTo</td>\n",
       "      <td>870</td>\n",
       "    </tr>\n",
       "  </tbody>\n",
       "</table>\n",
       "<p>218 rows × 3 columns</p>\n",
       "</div>"
      ],
      "text/plain": [
       "    SUBJECT   RELATION OBJECT\n",
       "0       813  similarTo    428\n",
       "1       238  similarTo    879\n",
       "2       986  similarTo   1028\n",
       "3       824  similarTo    567\n",
       "4      1004  similarTo   1012\n",
       "..      ...        ...    ...\n",
       "213     220  similarTo    850\n",
       "214     112  similarTo    846\n",
       "215     848  similarTo    794\n",
       "216     815  similarTo    269\n",
       "217     546  similarTo    870\n",
       "\n",
       "[218 rows x 3 columns]"
      ]
     },
     "execution_count": 38,
     "metadata": {},
     "output_type": "execute_result"
    }
   ],
   "source": [
    "test_df"
   ]
  },
  {
   "cell_type": "code",
   "execution_count": 39,
   "id": "f62b6864",
   "metadata": {},
   "outputs": [],
   "source": [
    "test_df.to_csv(\"TEST_SET_SAMPLED.csv\",index=False)"
   ]
  },
  {
   "cell_type": "code",
   "execution_count": 40,
   "id": "693a4f22",
   "metadata": {},
   "outputs": [],
   "source": [
    "X = df.drop(indices_to_del)"
   ]
  },
  {
   "cell_type": "code",
   "execution_count": 41,
   "id": "99776b36",
   "metadata": {},
   "outputs": [],
   "source": [
    "X.to_csv(\"TRAIN_SET_SAMPLED.csv\",index=False)"
   ]
  },
  {
   "cell_type": "code",
   "execution_count": null,
   "id": "61ca98f4",
   "metadata": {},
   "outputs": [],
   "source": []
  }
 ],
 "metadata": {
  "kernelspec": {
   "display_name": "Python 3 (ipykernel)",
   "language": "python",
   "name": "python3"
  },
  "language_info": {
   "codemirror_mode": {
    "name": "ipython",
    "version": 3
   },
   "file_extension": ".py",
   "mimetype": "text/x-python",
   "name": "python",
   "nbconvert_exporter": "python",
   "pygments_lexer": "ipython3",
   "version": "3.7.9"
  }
 },
 "nbformat": 4,
 "nbformat_minor": 5
}
