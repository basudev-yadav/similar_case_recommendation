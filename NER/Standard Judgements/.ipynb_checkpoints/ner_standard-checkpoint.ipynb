{
 "cells": [
  {
   "cell_type": "code",
   "execution_count": 1,
   "id": "2cdab00e",
   "metadata": {},
   "outputs": [],
   "source": [
    "import pandas as pd\n",
    "import numpy as np\n",
    "import re\n",
    "import os\n",
    "import spacy\n",
    "from spacy import displacy"
   ]
  },
  {
   "cell_type": "code",
   "execution_count": 2,
   "id": "cdd97a63",
   "metadata": {},
   "outputs": [],
   "source": [
    "import requests\n",
    "from urllib.parse import urljoin\n",
    "from datetime import datetime\n",
    "import pandas as pd\n",
    "\n",
    "class IndianKanoon:\n",
    "  \"\"\"\n",
    "    https://github.com/aishik-pyne/kanoon\n",
    "    Search query\thttps://api.indiankanoon.org/search/?formInput=<query>&pagenum=<pagenum>\n",
    "    Document\thttps://api.indiankanoon.org/doc/<docid>/\n",
    "    Document fragments\thttps://api.indiankanoon.org/docfragment/<docid>/?formInput=<query>\n",
    "    Document Metainfo\thttps://api.indiankanoon.org/docmeta/<docid>/\n",
    "  \"\"\"\n",
    "\n",
    "  def __init__(self):\n",
    "    self.base_url = \"https://api.indiankanoon.org/\"\n",
    "    self.auth_token = \"6c0262cd025351a53ab784b21634260276288d19\"\n",
    "    \n",
    "    self.headers = {\n",
    "        'authorization': \"Token {}\".format(self.auth_token),\n",
    "        'cache-control': \"no-cache\",\n",
    "    }\n",
    "    self.api_session = requests.Session()\n",
    "    self.api_session.headers = self.headers\n",
    "\n",
    "  def search(self, formInput, pagenum=0,\n",
    "             fromdate=None, todate=None,\n",
    "             title=None, author=None,\n",
    "             cite=None, bench=None, maxpages=50):\n",
    "    #  Creating parameters\n",
    "    params = {\n",
    "        'formInput': formInput,\n",
    "        'pagenum': pagenum,\n",
    "        'maxpages': maxpages\n",
    "    }\n",
    "    if fromdate:\n",
    "      assert isinstance(fromdate, datetime) \n",
    "      params['fromdate'] = fromdate.strftime('%d-%m-&Y')\n",
    "\n",
    "    if todate:\n",
    "      assert isinstance(todate, datetime) \n",
    "      params['todate'] = todate.strftime('%d-%m-&Y')\n",
    "\n",
    "    # Making the request\n",
    "    response = self.api_session.post(\n",
    "        urljoin(self.base_url, 'search/'), params=params)\n",
    "    response.raise_for_status()\n",
    "    return response.json()\n",
    "\n",
    "  def doc(self, docid):\n",
    "    response = self.api_session.post(\n",
    "        urljoin(self.base_url, 'doc/{}/'.format(docid)))\n",
    "    response.raise_for_status()\n",
    "    return response.json()\n",
    "\n",
    "  def docfragment(self, docid, formInput):\n",
    "    params = {\n",
    "        'formInput': formInput,\n",
    "    }\n",
    "    response = self.api_session.post(\n",
    "        urljoin(self.base_url, 'docfragment/{}/'.format(docid)), params=params)\n",
    "    response.raise_for_status()\n",
    "    return response.json()\n",
    "\n",
    "  def docmeta(self, docid):\n",
    "    response = self.api_session.post(\n",
    "        urljoin(self.base_url, 'docmeta/{}/'.format(docid)))\n",
    "    response.raise_for_status()\n",
    "    return response.json()"
   ]
  },
  {
   "cell_type": "code",
   "execution_count": 3,
   "id": "44af20d2",
   "metadata": {},
   "outputs": [],
   "source": [
    "ik = IndianKanoon()"
   ]
  },
  {
   "cell_type": "code",
   "execution_count": 4,
   "id": "db5e4fb4",
   "metadata": {},
   "outputs": [],
   "source": [
    "df = pd.DataFrame(columns=[\"Judgement\",\"Similar Judgement1\",\"Similar Judgement2\",\"Similar Judgement3\"])"
   ]
  },
  {
   "cell_type": "code",
   "execution_count": 5,
   "id": "f7edfa63",
   "metadata": {},
   "outputs": [
    {
     "data": {
      "text/html": [
       "<div>\n",
       "<style scoped>\n",
       "    .dataframe tbody tr th:only-of-type {\n",
       "        vertical-align: middle;\n",
       "    }\n",
       "\n",
       "    .dataframe tbody tr th {\n",
       "        vertical-align: top;\n",
       "    }\n",
       "\n",
       "    .dataframe thead th {\n",
       "        text-align: right;\n",
       "    }\n",
       "</style>\n",
       "<table border=\"1\" class=\"dataframe\">\n",
       "  <thead>\n",
       "    <tr style=\"text-align: right;\">\n",
       "      <th></th>\n",
       "      <th>Judgement</th>\n",
       "      <th>Similar Judgement1</th>\n",
       "      <th>Similar Judgement2</th>\n",
       "      <th>Similar Judgement3</th>\n",
       "    </tr>\n",
       "  </thead>\n",
       "  <tbody>\n",
       "  </tbody>\n",
       "</table>\n",
       "</div>"
      ],
      "text/plain": [
       "Empty DataFrame\n",
       "Columns: [Judgement, Similar Judgement1, Similar Judgement2, Similar Judgement3]\n",
       "Index: []"
      ]
     },
     "execution_count": 5,
     "metadata": {},
     "output_type": "execute_result"
    }
   ],
   "source": [
    "df"
   ]
  },
  {
   "cell_type": "code",
   "execution_count": null,
   "id": "da99c73d",
   "metadata": {},
   "outputs": [],
   "source": [
    "dhanpat = {\n",
    "    'F. Hoffmann-La Roche Ltd. And Anr. vs Cipla Limited':64813,\n",
    "    'Garware-Wall Ropes Ltd. vs Techfab India And 5 Ors':1258171,\n",
    "    'Glaverbel S.A. vs Dave Rose & Ors':705613\n",
    "}\n",
    "\n",
    "amarnath = {\n",
    "          \n",
    "}\n"
   ]
  }
 ],
 "metadata": {
  "kernelspec": {
   "display_name": "Python 3",
   "language": "python",
   "name": "python3"
  },
  "language_info": {
   "codemirror_mode": {
    "name": "ipython",
    "version": 3
   },
   "file_extension": ".py",
   "mimetype": "text/x-python",
   "name": "python",
   "nbconvert_exporter": "python",
   "pygments_lexer": "ipython3",
   "version": "3.7.9"
  }
 },
 "nbformat": 4,
 "nbformat_minor": 5
}
