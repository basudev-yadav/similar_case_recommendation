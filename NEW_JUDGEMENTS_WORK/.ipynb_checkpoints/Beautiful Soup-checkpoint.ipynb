{
 "cells": [
  {
   "cell_type": "code",
   "execution_count": 1,
   "id": "ca89e737",
   "metadata": {},
   "outputs": [],
   "source": [
    "#import the required libraries\n",
    "import bs4\n",
    "import lxml\n",
    "from bs4 import BeautifulSoup\n",
    "import os\n",
    "import json"
   ]
  },
  {
   "cell_type": "code",
   "execution_count": 46,
   "id": "9faec176",
   "metadata": {},
   "outputs": [],
   "source": [
    "#navigate to the folder that contains the html files\n",
    "os.chdir('text_files_html')"
   ]
  },
  {
   "cell_type": "code",
   "execution_count": 48,
   "id": "46f967a7",
   "metadata": {},
   "outputs": [],
   "source": [
    "#tag_dict dictionary is a single json file that will contains all the judgements(title, author, paragraphs)\n",
    "\n",
    "tag_dict = {}\n",
    "\n",
    "#parse the files one by one\n",
    "for file in os.listdir():\n",
    "    \n",
    "    #check if the file is an html file\n",
    "    if file.endswith(\"html\"):\n",
    "        \n",
    "        #f_dict dictionary will contain data of each judgement\n",
    "        f_dict = {}\n",
    "        \n",
    "        #key_val is used to index the data(here it is ID of the judgement)\n",
    "        key_val = int(str(file)[0:-5])\n",
    "        \n",
    "        #open the file and read\n",
    "        f = open(file,\"r\",encoding=\"utf-8\")\n",
    "        content = f.read()\n",
    "        \n",
    "        #initialize the BeautifulSoup object\n",
    "        soup = BeautifulSoup(content,\"lxml\")\n",
    "\n",
    "        #get title of document\n",
    "        title = soup.find(\"div\",{\"class\":\"doc_title\"})\n",
    "        if(title):\n",
    "            title = title.text\n",
    "        else:\n",
    "            title = \"\"\n",
    "\n",
    "\n",
    "        #get author of document\n",
    "        author = soup.find(\"div\",{\"class\":\"doc_author\"})\n",
    "        if(author):\n",
    "            author = author.text\n",
    "        else:\n",
    "            author = \"\"\n",
    "\n",
    "        #pids is an array that will contain all the paragraphs(ids and text)\n",
    "        pids = []\n",
    "        for i in soup.find_all(\"p\"):\n",
    "            pid_dict = {}\n",
    "            pid_dict[i.get('id')] = i.text\n",
    "            pids.append(pid_dict)\n",
    "        \n",
    "        f_dict[\"title\"] = title\n",
    "        f_dict[\"author\"] = author\n",
    "        f_dict[\"pids\"] = pids\n",
    "\n",
    "        tag_dict[key_val] = f_dict\n",
    "    \n",
    "    "
   ]
  },
  {
   "cell_type": "code",
   "execution_count": 50,
   "id": "a45b7301",
   "metadata": {},
   "outputs": [],
   "source": [
    "#navigate back to the folder where you want to save the json file\n",
    "os.chdir(\"..\")"
   ]
  },
  {
   "cell_type": "code",
   "execution_count": 52,
   "id": "98f6589a",
   "metadata": {},
   "outputs": [],
   "source": [
    "with open('tag.json','w',encoding=\"utf-8\") as outfile:\n",
    "    json.dump(tag_dict,outfile,indent=4)"
   ]
  },
  {
   "cell_type": "code",
   "execution_count": null,
   "id": "dfb10c25",
   "metadata": {},
   "outputs": [],
   "source": []
  }
 ],
 "metadata": {
  "kernelspec": {
   "display_name": "Python 3",
   "language": "python",
   "name": "python3"
  },
  "language_info": {
   "codemirror_mode": {
    "name": "ipython",
    "version": 3
   },
   "file_extension": ".py",
   "mimetype": "text/x-python",
   "name": "python",
   "nbconvert_exporter": "python",
   "pygments_lexer": "ipython3",
   "version": "3.7.9"
  }
 },
 "nbformat": 4,
 "nbformat_minor": 5
}
