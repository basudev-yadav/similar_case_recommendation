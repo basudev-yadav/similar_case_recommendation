{
 "cells": [
  {
   "cell_type": "code",
   "execution_count": 11,
   "id": "df12e91f",
   "metadata": {},
   "outputs": [],
   "source": [
    "import pandas as pd\n",
    "import numpy as np\n",
    "import bs4\n",
    "import lxml\n",
    "import re\n",
    "import spacy\n",
    "import os\n",
    "from bs4 import BeautifulSoup"
   ]
  },
  {
   "cell_type": "code",
   "execution_count": null,
   "id": "41c4808c",
   "metadata": {},
   "outputs": [],
   "source": [
    "def get_occurence_from_title(file,word):\n",
    "    \n",
    "    path = \"../text_files_html/\"+str(file)+\".html\"\n",
    "    f = open(path,\"r\",encoding=\"utf-8\")\n",
    "    \n",
    "    soup = BeautifulSoup(f.read(),\"lxml\")\n",
    "    \n",
    "    title = soup.find(\"div\",{\"class\":\"doc_title\"})\n",
    "    \n",
    "    if(!title):\n",
    "        return 0\n",
    "    else:\n",
    "        title = title.text\n",
    "        a = title.split(\" \")\n",
    "        count = 0\n",
    "        \n",
    "        for i in range(0,len(a)):\n",
    "            if word == a[i]:\n",
    "                count = count + 1\n",
    "    \n",
    "    return count"
   ]
  },
  {
   "cell_type": "code",
   "execution_count": null,
   "id": "4e36d1df",
   "metadata": {},
   "outputs": [],
   "source": [
    "def get_occurence_from_author(file,word):\n",
    "    \n",
    "    path = \"../text_files_html/\"+str(file)+\".html\"\n",
    "    f = open(path,\"r\",encoding=\"utf-8\")\n",
    "    \n",
    "    soup = BeautifulSoup(f.read(),\"lxml\")\n",
    "    \n",
    "    author = soup.find(\"div\",{\"class\":\"doc_author\"})\n",
    "    \n",
    "    if(!author):\n",
    "        return 0\n",
    "    else:\n",
    "        author = author.text\n",
    "        a = author.split(\" \")\n",
    "        count = 0\n",
    "        \n",
    "        for i in range(0,len(a)):\n",
    "            if word == a[i]:\n",
    "                count = count + 1\n",
    "    \n",
    "    return count"
   ]
  },
  {
   "cell_type": "code",
   "execution_count": null,
   "id": "752fbe63",
   "metadata": {},
   "outputs": [],
   "source": []
  },
  {
   "cell_type": "code",
   "execution_count": 9,
   "id": "6c8f5d3d",
   "metadata": {},
   "outputs": [],
   "source": [
    "def return_occurence(file,word,scope):\n",
    "    count = 0\n",
    "    \n",
    "    if(scope==\"title\"):\n",
    "        count = get_occurence_from_title(file,word)\n",
    "    elif(scope==\"author\"):\n",
    "        count = get_occurence_from_author(file,word)\n",
    "    else:\n",
    "        count = get_occurence_from_text(file,word)\n",
    "    \n",
    "    return count"
   ]
  },
  {
   "cell_type": "code",
   "execution_count": 7,
   "id": "418a8933",
   "metadata": {},
   "outputs": [],
   "source": [
    "nlp = spacy.load(\"en_core_web_sm\")"
   ]
  },
  {
   "cell_type": "code",
   "execution_count": 8,
   "id": "83e415bb",
   "metadata": {},
   "outputs": [],
   "source": [
    "os.chdir(\"text_files\")"
   ]
  },
  {
   "cell_type": "code",
   "execution_count": null,
   "id": "f026dec0",
   "metadata": {},
   "outputs": [],
   "source": [
    "for i in os.listdir():\n",
    "    f = open(i,\"r\",encoding=\"utf-8\")\n",
    "    \n",
    "    text = f.read()\n",
    "    \n",
    "    res = []\n",
    "    \n",
    "    \n",
    "    words = nlp(text)\n",
    "    \n",
    "    for word in words.ents:\n",
    "        res.append(word.text)\n",
    "        \n",
    "    file_dict = {}\n",
    "    \n",
    "    for j in res:\n",
    "        key = j\n",
    "        value = []\n",
    "        value.append(return_occurence(j,\"title\"))\n",
    "        value.append(return_occurence(j,\"author\"))\n",
    "        value.append(return_occurence(j,\"text\"))\n",
    "        \n",
    "        file_dict[key] = value\n",
    "    \n"
   ]
  },
  {
   "cell_type": "code",
   "execution_count": null,
   "id": "bdcef473",
   "metadata": {},
   "outputs": [],
   "source": []
  }
 ],
 "metadata": {
  "kernelspec": {
   "display_name": "Python 3",
   "language": "python",
   "name": "python3"
  },
  "language_info": {
   "codemirror_mode": {
    "name": "ipython",
    "version": 3
   },
   "file_extension": ".py",
   "mimetype": "text/x-python",
   "name": "python",
   "nbconvert_exporter": "python",
   "pygments_lexer": "ipython3",
   "version": "3.7.9"
  }
 },
 "nbformat": 4,
 "nbformat_minor": 5
}
