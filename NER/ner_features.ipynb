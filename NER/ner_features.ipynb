{
 "cells": [
  {
   "cell_type": "code",
   "execution_count": 1,
   "id": "294e6511",
   "metadata": {},
   "outputs": [],
   "source": [
    "import pandas as pd\n",
    "import numpy as np\n",
    "import re\n",
    "import spacy\n",
    "from spacy import displacy\n",
    "import os"
   ]
  },
  {
   "cell_type": "code",
   "execution_count": 2,
   "id": "76caa537",
   "metadata": {},
   "outputs": [],
   "source": [
    "data = pd.read_csv('features.csv')"
   ]
  },
  {
   "cell_type": "code",
   "execution_count": 3,
   "id": "c688a324",
   "metadata": {},
   "outputs": [
    {
     "data": {
      "text/plain": [
       "Index(['id', 'IKANOON_DOCUMENT_ID', 'DOCUMENT_TITLE', 'DOCUMENT_SOURCE',\n",
       "       'DOCUMENT_LINK', 'ACTS_MENTIONED', 'LEGAL_SCJUDGE', 'LEGAL_DESIGN',\n",
       "       'LEGAL_GEN', 'LEGAL_PATENT', 'LEGAL_TRADEMARK', 'LEGAL_COPYRIGHT',\n",
       "       'LEGAL_RESERVATION_CATEGORY', 'LEGAL_CRIMINAL_PROCEDURE',\n",
       "       'LEGAL_ENTITY', 'LAW', 'INFRINGEMENT', 'PERSON',\n",
       "       'NATION/RELIGIOUS/POL_GROUP', 'GEOGRAPHICAL_LOC', 'LANGUAGE',\n",
       "       'LOCATION_STRUCTURE', 'LOCATION', 'ORGANIZATION', 'CONTACTNAME',\n",
       "       'ORGANIZATION2', 'COPYRIGHT_ACT', 'PATENTS_ACT', 'DESIGNS_ACT',\n",
       "       'INFORMATION_TECHNOLOGY_ACT', 'TRADEMARK_ACT'],\n",
       "      dtype='object')"
      ]
     },
     "execution_count": 3,
     "metadata": {},
     "output_type": "execute_result"
    }
   ],
   "source": [
    "data.columns"
   ]
  },
  {
   "cell_type": "code",
   "execution_count": 8,
   "id": "021cb3f8",
   "metadata": {},
   "outputs": [
    {
     "data": {
      "text/plain": [
       "Index(['PERSON', 'NATION/RELIGIOUS/POL_GROUP', 'GEOGRAPHICAL_LOC', 'LANGUAGE',\n",
       "       'LOCATION_STRUCTURE', 'LOCATION', 'ORGANIZATION'],\n",
       "      dtype='object')"
      ]
     },
     "execution_count": 8,
     "metadata": {},
     "output_type": "execute_result"
    }
   ],
   "source": [
    "data.columns[17:24]"
   ]
  },
  {
   "cell_type": "code",
   "execution_count": 9,
   "id": "cf28fd34",
   "metadata": {},
   "outputs": [],
   "source": [
    "nlp = spacy.load(\"en_core_web_sm\")"
   ]
  },
  {
   "cell_type": "code",
   "execution_count": 11,
   "id": "e88821e9",
   "metadata": {},
   "outputs": [],
   "source": [
    "os.chdir('text files new')"
   ]
  },
  {
   "cell_type": "code",
   "execution_count": 12,
   "id": "754e5831",
   "metadata": {},
   "outputs": [
    {
     "data": {
      "text/plain": [
       "<function nt.listdir(path=None)>"
      ]
     },
     "execution_count": 12,
     "metadata": {},
     "output_type": "execute_result"
    }
   ],
   "source": []
  },
  {
   "cell_type": "code",
   "execution_count": 23,
   "id": "a67fa9a0",
   "metadata": {},
   "outputs": [],
   "source": [
    "columns = [\"ID\"]\n",
    "for i in data.columns[17:24]:\n",
    "    columns.append(i)"
   ]
  },
  {
   "cell_type": "code",
   "execution_count": 24,
   "id": "eec00996",
   "metadata": {},
   "outputs": [
    {
     "data": {
      "text/plain": [
       "['ID',\n",
       " 'PERSON',\n",
       " 'NATION/RELIGIOUS/POL_GROUP',\n",
       " 'GEOGRAPHICAL_LOC',\n",
       " 'LANGUAGE',\n",
       " 'LOCATION_STRUCTURE',\n",
       " 'LOCATION',\n",
       " 'ORGANIZATION']"
      ]
     },
     "execution_count": 24,
     "metadata": {},
     "output_type": "execute_result"
    }
   ],
   "source": [
    "columns"
   ]
  },
  {
   "cell_type": "code",
   "execution_count": 68,
   "id": "b4cfef77",
   "metadata": {},
   "outputs": [],
   "source": [
    "df = pd.DataFrame(columns = columns)"
   ]
  },
  {
   "cell_type": "code",
   "execution_count": 69,
   "id": "d21cce83",
   "metadata": {},
   "outputs": [
    {
     "data": {
      "text/html": [
       "<div>\n",
       "<style scoped>\n",
       "    .dataframe tbody tr th:only-of-type {\n",
       "        vertical-align: middle;\n",
       "    }\n",
       "\n",
       "    .dataframe tbody tr th {\n",
       "        vertical-align: top;\n",
       "    }\n",
       "\n",
       "    .dataframe thead th {\n",
       "        text-align: right;\n",
       "    }\n",
       "</style>\n",
       "<table border=\"1\" class=\"dataframe\">\n",
       "  <thead>\n",
       "    <tr style=\"text-align: right;\">\n",
       "      <th></th>\n",
       "      <th>ID</th>\n",
       "      <th>PERSON</th>\n",
       "      <th>NATION/RELIGIOUS/POL_GROUP</th>\n",
       "      <th>GEOGRAPHICAL_LOC</th>\n",
       "      <th>LANGUAGE</th>\n",
       "      <th>LOCATION_STRUCTURE</th>\n",
       "      <th>LOCATION</th>\n",
       "      <th>ORGANIZATION</th>\n",
       "    </tr>\n",
       "  </thead>\n",
       "  <tbody>\n",
       "  </tbody>\n",
       "</table>\n",
       "</div>"
      ],
      "text/plain": [
       "Empty DataFrame\n",
       "Columns: [ID, PERSON, NATION/RELIGIOUS/POL_GROUP, GEOGRAPHICAL_LOC, LANGUAGE, LOCATION_STRUCTURE, LOCATION, ORGANIZATION]\n",
       "Index: []"
      ]
     },
     "execution_count": 69,
     "metadata": {},
     "output_type": "execute_result"
    }
   ],
   "source": [
    "df"
   ]
  },
  {
   "cell_type": "code",
   "execution_count": 56,
   "id": "bf396474",
   "metadata": {},
   "outputs": [],
   "source": [
    "def get_most_freq(data):\n",
    "    '''\n",
    "    parameters : dictionary with (key,count) as pair\n",
    "    returns most frequent key in the dictionary\n",
    "    '''\n",
    "    res = \"\"\n",
    "    count = 0\n",
    "    \n",
    "    for i in data.keys():\n",
    "        if data[i] > count:\n",
    "            count = data[i]\n",
    "            res = i\n",
    "    \n",
    "    return res"
   ]
  },
  {
   "cell_type": "code",
   "execution_count": 57,
   "id": "4620396c",
   "metadata": {},
   "outputs": [],
   "source": [
    "files = []\n",
    "\n",
    "for i in os.listdir():\n",
    "    if i.endswith(\".txt\"):\n",
    "        files.append(i)"
   ]
  },
  {
   "cell_type": "code",
   "execution_count": 58,
   "id": "5ba78aa8",
   "metadata": {},
   "outputs": [],
   "source": [
    "files = files[0:2]"
   ]
  },
  {
   "cell_type": "code",
   "execution_count": 59,
   "id": "8a781208",
   "metadata": {},
   "outputs": [
    {
     "data": {
      "text/plain": [
       "['1004544.txt', '102042281.txt']"
      ]
     },
     "execution_count": 59,
     "metadata": {},
     "output_type": "execute_result"
    }
   ],
   "source": [
    "files"
   ]
  },
  {
   "cell_type": "code",
   "execution_count": 70,
   "id": "70608894",
   "metadata": {},
   "outputs": [],
   "source": [
    "counter = 0\n",
    "\n",
    "for file in os.listdir():\n",
    "    \n",
    "    if file.endswith(\".txt\"):\n",
    "        \n",
    "        #read the file\n",
    "        f = open(file,\"r\",encoding=\"utf-8\")\n",
    "        \n",
    "        text = f.read()\n",
    "        \n",
    "        person_dict = dict()\n",
    "        location_dict = dict()\n",
    "        gpe_dict = dict()\n",
    "        language_dict = dict()\n",
    "        org_dict = dict()\n",
    "        group_dict = dict()\n",
    "        \n",
    "        doc = nlp(text)\n",
    "        \n",
    "        for word in doc.ents:\n",
    "            if word.label_ == 'PERSON':\n",
    "                if word.text in person_dict.keys():\n",
    "                    person_dict[word.text] = person_dict[word.text] + 1\n",
    "                else:\n",
    "                    person_dict[word.text] = 1\n",
    "            \n",
    "            if word.label_ == 'LOC':\n",
    "                if word.text in location_dict.keys():\n",
    "                    location_dict[word.text] = location_dict[word.text] + 1\n",
    "                else:\n",
    "                    location_dict[word.text] = 1\n",
    "                    \n",
    "            if word.label_ == 'LANGUAGE':\n",
    "                if word.text in language_dict.keys():\n",
    "                    language_dict[word.text] = language_dict[word.text] + 1\n",
    "                else:\n",
    "                    language_dict[word.text] = 1\n",
    "                    \n",
    "            if word.label_ == 'ORG':\n",
    "                if word.text in org_dict.keys():\n",
    "                    org_dict[word.text] = org_dict[word.text] + 1\n",
    "                else:\n",
    "                    org_dict[word.text] = 1\n",
    "                    \n",
    "            if word.label_ == 'NORP':\n",
    "                if word.text in group_dict.keys():\n",
    "                    group_dict[word.text] = group_dict[word.text] + 1\n",
    "                else:\n",
    "                    group_dict[word.text] = 1\n",
    "                    \n",
    "            if word.label_ == 'GPE':\n",
    "                if word.text in gpe_dict.keys():\n",
    "                    gpe_dict[word.text] = gpe_dict[word.text] + 1\n",
    "                else:\n",
    "                    gpe_dict[word.text] = 1\n",
    "                    \n",
    "        result = [str(file)[:-4] , get_most_freq(person_dict) , get_most_freq(group_dict) , get_most_freq(gpe_dict) , get_most_freq(language_dict) , \"\" , get_most_freq(location_dict) , get_most_freq(org_dict)]\n",
    "        df.loc[counter] = result\n",
    "            \n",
    "        counter = counter + 1\n",
    "            "
   ]
  },
  {
   "cell_type": "code",
   "execution_count": 71,
   "id": "cc2a3362",
   "metadata": {},
   "outputs": [
    {
     "data": {
      "text/html": [
       "<div>\n",
       "<style scoped>\n",
       "    .dataframe tbody tr th:only-of-type {\n",
       "        vertical-align: middle;\n",
       "    }\n",
       "\n",
       "    .dataframe tbody tr th {\n",
       "        vertical-align: top;\n",
       "    }\n",
       "\n",
       "    .dataframe thead th {\n",
       "        text-align: right;\n",
       "    }\n",
       "</style>\n",
       "<table border=\"1\" class=\"dataframe\">\n",
       "  <thead>\n",
       "    <tr style=\"text-align: right;\">\n",
       "      <th></th>\n",
       "      <th>ID</th>\n",
       "      <th>PERSON</th>\n",
       "      <th>NATION/RELIGIOUS/POL_GROUP</th>\n",
       "      <th>GEOGRAPHICAL_LOC</th>\n",
       "      <th>LANGUAGE</th>\n",
       "      <th>LOCATION_STRUCTURE</th>\n",
       "      <th>LOCATION</th>\n",
       "      <th>ORGANIZATION</th>\n",
       "    </tr>\n",
       "  </thead>\n",
       "  <tbody>\n",
       "    <tr>\n",
       "      <th>0</th>\n",
       "      <td>1004544</td>\n",
       "      <td>ZIFI</td>\n",
       "      <td>ZOSPAR</td>\n",
       "      <td>IA</td>\n",
       "      <td>English</td>\n",
       "      <td></td>\n",
       "      <td>Devnagri</td>\n",
       "      <td>CEFI</td>\n",
       "    </tr>\n",
       "    <tr>\n",
       "      <th>1</th>\n",
       "      <td>102042281</td>\n",
       "      <td>Defendant</td>\n",
       "      <td>Indian</td>\n",
       "      <td>CS(OS</td>\n",
       "      <td></td>\n",
       "      <td></td>\n",
       "      <td></td>\n",
       "      <td>Plaintiff</td>\n",
       "    </tr>\n",
       "    <tr>\n",
       "      <th>2</th>\n",
       "      <td>1025815</td>\n",
       "      <td>Vakil</td>\n",
       "      <td>Indian</td>\n",
       "      <td>India</td>\n",
       "      <td>English</td>\n",
       "      <td></td>\n",
       "      <td>Europe</td>\n",
       "      <td>PICNIC</td>\n",
       "    </tr>\n",
       "    <tr>\n",
       "      <th>3</th>\n",
       "      <td>1062207</td>\n",
       "      <td>Plaintiff</td>\n",
       "      <td>Notice</td>\n",
       "      <td>Plaintiffs</td>\n",
       "      <td></td>\n",
       "      <td></td>\n",
       "      <td></td>\n",
       "      <td>Plaintiff</td>\n",
       "    </tr>\n",
       "    <tr>\n",
       "      <th>4</th>\n",
       "      <td>106681665</td>\n",
       "      <td>O.P. Poddar</td>\n",
       "      <td>Indian</td>\n",
       "      <td>Ors</td>\n",
       "      <td></td>\n",
       "      <td></td>\n",
       "      <td></td>\n",
       "      <td>Magistrate</td>\n",
       "    </tr>\n",
       "    <tr>\n",
       "      <th>...</th>\n",
       "      <td>...</td>\n",
       "      <td>...</td>\n",
       "      <td>...</td>\n",
       "      <td>...</td>\n",
       "      <td>...</td>\n",
       "      <td>...</td>\n",
       "      <td>...</td>\n",
       "      <td>...</td>\n",
       "    </tr>\n",
       "    <tr>\n",
       "      <th>90</th>\n",
       "      <td>8433581</td>\n",
       "      <td>Defendant</td>\n",
       "      <td>Hindu</td>\n",
       "      <td>I.A.</td>\n",
       "      <td></td>\n",
       "      <td></td>\n",
       "      <td></td>\n",
       "      <td>CS</td>\n",
       "    </tr>\n",
       "    <tr>\n",
       "      <th>91</th>\n",
       "      <td>850381</td>\n",
       "      <td>Mickey Mouse'</td>\n",
       "      <td>American</td>\n",
       "      <td>India</td>\n",
       "      <td></td>\n",
       "      <td></td>\n",
       "      <td></td>\n",
       "      <td>WHIRLPOOL</td>\n",
       "    </tr>\n",
       "    <tr>\n",
       "      <th>92</th>\n",
       "      <td>858066</td>\n",
       "      <td>Ramdev Masala'</td>\n",
       "      <td>Hindus</td>\n",
       "      <td>Pravinbhai</td>\n",
       "      <td>Grotrian</td>\n",
       "      <td></td>\n",
       "      <td>laches\u0005</td>\n",
       "      <td>MOU</td>\n",
       "    </tr>\n",
       "    <tr>\n",
       "      <th>93</th>\n",
       "      <td>94612663</td>\n",
       "      <td>Bench</td>\n",
       "      <td>Madras</td>\n",
       "      <td>Del.</td>\n",
       "      <td>Grotrian</td>\n",
       "      <td></td>\n",
       "      <td>Section 124(b</td>\n",
       "      <td>Court</td>\n",
       "    </tr>\n",
       "    <tr>\n",
       "      <th>94</th>\n",
       "      <td>98291024</td>\n",
       "      <td>Bhagwati Prasad</td>\n",
       "      <td>Partially</td>\n",
       "      <td>Bombay</td>\n",
       "      <td></td>\n",
       "      <td></td>\n",
       "      <td>Metropolitan</td>\n",
       "      <td>Magistrate</td>\n",
       "    </tr>\n",
       "  </tbody>\n",
       "</table>\n",
       "<p>95 rows × 8 columns</p>\n",
       "</div>"
      ],
      "text/plain": [
       "           ID           PERSON NATION/RELIGIOUS/POL_GROUP GEOGRAPHICAL_LOC  \\\n",
       "0     1004544             ZIFI                     ZOSPAR               IA   \n",
       "1   102042281        Defendant                     Indian            CS(OS   \n",
       "2     1025815            Vakil                     Indian            India   \n",
       "3     1062207        Plaintiff                     Notice       Plaintiffs   \n",
       "4   106681665      O.P. Poddar                     Indian              Ors   \n",
       "..        ...              ...                        ...              ...   \n",
       "90    8433581        Defendant                      Hindu             I.A.   \n",
       "91     850381    Mickey Mouse'                   American            India   \n",
       "92     858066   Ramdev Masala'                     Hindus       Pravinbhai   \n",
       "93   94612663            Bench                     Madras             Del.   \n",
       "94   98291024  Bhagwati Prasad                  Partially           Bombay   \n",
       "\n",
       "    LANGUAGE LOCATION_STRUCTURE       LOCATION ORGANIZATION  \n",
       "0    English                          Devnagri         CEFI  \n",
       "1                                                 Plaintiff  \n",
       "2    English                            Europe       PICNIC  \n",
       "3                                                 Plaintiff  \n",
       "4                                                Magistrate  \n",
       "..       ...                ...            ...          ...  \n",
       "90                                                       CS  \n",
       "91                                                WHIRLPOOL  \n",
       "92  Grotrian                           laches\u0005          MOU  \n",
       "93  Grotrian                     Section 124(b        Court  \n",
       "94                                Metropolitan   Magistrate  \n",
       "\n",
       "[95 rows x 8 columns]"
      ]
     },
     "execution_count": 71,
     "metadata": {},
     "output_type": "execute_result"
    }
   ],
   "source": [
    "df"
   ]
  },
  {
   "cell_type": "code",
   "execution_count": 30,
   "id": "84554fbb",
   "metadata": {},
   "outputs": [
    {
     "data": {
      "text/plain": [
       "{'a': 7, 'b': 14}"
      ]
     },
     "execution_count": 30,
     "metadata": {},
     "output_type": "execute_result"
    }
   ],
   "source": [
    "le_dict"
   ]
  },
  {
   "cell_type": "code",
   "execution_count": 72,
   "id": "1fcfbd74",
   "metadata": {},
   "outputs": [],
   "source": [
    "df.to_csv(\"ner_features_new_text.csv\",index=False)"
   ]
  },
  {
   "cell_type": "code",
   "execution_count": null,
   "id": "bd6d5c9c",
   "metadata": {},
   "outputs": [],
   "source": [
    "#NER features done and now anu features are left + some expert advice on the selection\n",
    "\n",
    "#you have to pass a dictionary and a text file, anu will return a json file containing the results corresponding to each entry"
   ]
  },
  {
   "cell_type": "code",
   "execution_count": null,
   "id": "906dfe76",
   "metadata": {},
   "outputs": [],
   "source": []
  }
 ],
 "metadata": {
  "kernelspec": {
   "display_name": "Python 3",
   "language": "python",
   "name": "python3"
  },
  "language_info": {
   "codemirror_mode": {
    "name": "ipython",
    "version": 3
   },
   "file_extension": ".py",
   "mimetype": "text/x-python",
   "name": "python",
   "nbconvert_exporter": "python",
   "pygments_lexer": "ipython3",
   "version": "3.7.9"
  }
 },
 "nbformat": 4,
 "nbformat_minor": 5
}
