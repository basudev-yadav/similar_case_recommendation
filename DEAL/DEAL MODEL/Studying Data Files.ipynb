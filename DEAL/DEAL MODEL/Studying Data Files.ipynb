{
 "cells": [
  {
   "cell_type": "code",
   "execution_count": 1,
   "id": "7b3b3d85",
   "metadata": {},
   "outputs": [],
   "source": [
    "import numpy as np"
   ]
  },
  {
   "cell_type": "code",
   "execution_count": 2,
   "id": "d99e0d42",
   "metadata": {},
   "outputs": [],
   "source": [
    "import torch"
   ]
  },
  {
   "cell_type": "code",
   "execution_count": 3,
   "id": "273f5e23",
   "metadata": {},
   "outputs": [],
   "source": [
    "import scipy.sparse as sp"
   ]
  },
  {
   "cell_type": "code",
   "execution_count": 4,
   "id": "ca60a052",
   "metadata": {},
   "outputs": [],
   "source": [
    "import os"
   ]
  },
  {
   "cell_type": "code",
   "execution_count": 5,
   "id": "503c5fc1",
   "metadata": {},
   "outputs": [
    {
     "name": "stdout",
     "output_type": "stream",
     "text": [
      ".git\n",
      ".idea\n",
      ".ipynb_checkpoints\n",
      "About dist data\n",
      "amazon_electronics_computers.npz\n",
      "args.py\n",
      "A_sp.npz\n",
      "citeseer.edges\n",
      "citeseer.node_labels\n",
      "data\n",
      "dataset.py\n",
      "datasets\n",
      "data_arrays_link.npz\n",
      "dists-1.dat\n",
      "dists.txt\n",
      "dist_graph.gexf\n",
      "EDGES.txt\n",
      "edge_samples.txt\n",
      "FEATURES.txt\n",
      "ind.citeseer.x\n",
      "ind_train_A.npz\n",
      "ind_train_X.npz\n",
      "LICENSE\n",
      "model.py\n",
      "MSC_FEE_4TH_SEM.pdf\n",
      "nodes_hide.npy\n",
      "nodes_keep.npy\n",
      "Prepare Data for DEAL.ipynb\n",
      "Preparing data for DEAL\n",
      "pv0.10_pt0.00_pn0.10_arrays.npz\n",
      "README.md\n",
      "sample_graph.gexf\n",
      "Studying Data Files.ipynb\n",
      "train.py\n",
      "Untitled.ipynb\n",
      "utils.py\n",
      "X_sp.npz\n",
      "z.npy\n",
      "__pycache__\n"
     ]
    }
   ],
   "source": [
    "for file in os.listdir():\n",
    "    print(file)"
   ]
  },
  {
   "cell_type": "markdown",
   "id": "03309ff4",
   "metadata": {},
   "source": [
    "# List of files used in the program\n",
    "\n",
    "- A_sp.npz\n",
    "- data_arrays_link.npz\n",
    "- ind_train_A.npz\n",
    "- ind_train_X.npz\n",
    "- nodes_hide.npy\n",
    "- nodes_keep.npy\n",
    "- pv0.10_pt0.00_pn0.10_arrays.npz\n",
    "- X_sp.npz\n",
    "- z.npy"
   ]
  },
  {
   "cell_type": "markdown",
   "id": "30c9fecb",
   "metadata": {},
   "source": [
    "## A_sp.npz"
   ]
  },
  {
   "cell_type": "code",
   "execution_count": 6,
   "id": "e6e46051",
   "metadata": {},
   "outputs": [],
   "source": [
    "#npz implies numpy zip files"
   ]
  },
  {
   "cell_type": "code",
   "execution_count": 7,
   "id": "6a16c7e2",
   "metadata": {},
   "outputs": [],
   "source": [
    "A = sp.load_npz('A_sp.npz')"
   ]
  },
  {
   "cell_type": "code",
   "execution_count": 8,
   "id": "d9cae564",
   "metadata": {},
   "outputs": [
    {
     "data": {
      "text/plain": [
       "<3327x3327 sparse matrix of type '<class 'numpy.float64'>'\n",
       "\twith 4552 stored elements in Compressed Sparse Row format>"
      ]
     },
     "execution_count": 8,
     "metadata": {},
     "output_type": "execute_result"
    }
   ],
   "source": [
    "A"
   ]
  },
  {
   "cell_type": "code",
   "execution_count": 9,
   "id": "fc20fbe7",
   "metadata": {},
   "outputs": [
    {
     "data": {
      "text/plain": [
       "(array([[0., 0., 0., ..., 0., 0., 0.],\n",
       "        [0., 0., 0., ..., 0., 0., 0.],\n",
       "        [0., 0., 0., ..., 0., 0., 0.],\n",
       "        ...,\n",
       "        [0., 0., 0., ..., 0., 0., 0.],\n",
       "        [0., 0., 0., ..., 0., 0., 0.],\n",
       "        [0., 0., 0., ..., 0., 0., 0.]]),\n",
       " (3327, 3327))"
      ]
     },
     "execution_count": 9,
     "metadata": {},
     "output_type": "execute_result"
    }
   ],
   "source": [
    "#print the matrix A\n",
    "A.toarray(),A.toarray().shape"
   ]
  },
  {
   "cell_type": "code",
   "execution_count": 10,
   "id": "93e6df57",
   "metadata": {},
   "outputs": [
    {
     "data": {
      "text/plain": [
       "1.0"
      ]
     },
     "execution_count": 10,
     "metadata": {},
     "output_type": "execute_result"
    }
   ],
   "source": [
    "A.toarray()[2,3285]"
   ]
  },
  {
   "cell_type": "code",
   "execution_count": null,
   "id": "67e60132",
   "metadata": {},
   "outputs": [],
   "source": []
  },
  {
   "cell_type": "code",
   "execution_count": 11,
   "id": "62d1ce6c",
   "metadata": {},
   "outputs": [],
   "source": [
    "#The shape implies that the dataset contains 3327 nodes"
   ]
  },
  {
   "cell_type": "code",
   "execution_count": 12,
   "id": "d2323196",
   "metadata": {},
   "outputs": [
    {
     "data": {
      "text/plain": [
       "(array([   0,    1,    1, ..., 3301, 3319, 3322]),\n",
       " array([ 628,  158,  486, ..., 3302, 3320, 3323]))"
      ]
     },
     "execution_count": 12,
     "metadata": {},
     "output_type": "execute_result"
    }
   ],
   "source": [
    "A.nonzero()"
   ]
  },
  {
   "cell_type": "code",
   "execution_count": 13,
   "id": "45369255",
   "metadata": {},
   "outputs": [
    {
     "data": {
      "text/plain": [
       "\"\\nsize_A = A.toarray().shape\\nA_mat = A.toarray()\\nedge_count = 0\\nfor i in range(size_A[0]):\\n    for j in range(size_A[1]):\\n        if A_mat[i][j] == 1.0:\\n            edge_count = edge_count + 1\\n            print(str(i) + ',' + str(j))\\n\""
      ]
     },
     "execution_count": 13,
     "metadata": {},
     "output_type": "execute_result"
    }
   ],
   "source": [
    "#Let's try to print the edges\n",
    "'''\n",
    "size_A = A.toarray().shape\n",
    "A_mat = A.toarray()\n",
    "edge_count = 0\n",
    "for i in range(size_A[0]):\n",
    "    for j in range(size_A[1]):\n",
    "        if A_mat[i][j] == 1.0:\n",
    "            edge_count = edge_count + 1\n",
    "            print(str(i) + ',' + str(j))\n",
    "'''"
   ]
  },
  {
   "cell_type": "code",
   "execution_count": 14,
   "id": "85e879c3",
   "metadata": {},
   "outputs": [],
   "source": [
    "#print(\"The network corresponding to matrix A contains \"+str(edge_count)+\" edges.\")"
   ]
  },
  {
   "cell_type": "markdown",
   "id": "01b8c480",
   "metadata": {},
   "source": [
    "## X_sp.npz"
   ]
  },
  {
   "cell_type": "code",
   "execution_count": 15,
   "id": "f18ae64b",
   "metadata": {},
   "outputs": [],
   "source": [
    "X = sp.load_npz('X_sp.npz')"
   ]
  },
  {
   "cell_type": "code",
   "execution_count": 16,
   "id": "79b1f774",
   "metadata": {},
   "outputs": [
    {
     "data": {
      "text/plain": [
       "(array([[0., 0., 0., ..., 0., 0., 0.],\n",
       "        [0., 0., 0., ..., 0., 0., 0.],\n",
       "        [0., 0., 0., ..., 0., 0., 0.],\n",
       "        ...,\n",
       "        [0., 0., 0., ..., 0., 0., 0.],\n",
       "        [0., 0., 0., ..., 0., 0., 0.],\n",
       "        [0., 0., 0., ..., 0., 0., 0.]], dtype=float32),\n",
       " (3327, 3703))"
      ]
     },
     "execution_count": 16,
     "metadata": {},
     "output_type": "execute_result"
    }
   ],
   "source": [
    "#print the matrix X\n",
    "X.toarray(),X.toarray().shape"
   ]
  },
  {
   "cell_type": "code",
   "execution_count": 17,
   "id": "b0db0cc1",
   "metadata": {},
   "outputs": [],
   "source": [
    "#X matrix contains the features of the nodes\n",
    "#the size of the matrix is (3327,3703) that means there are 3327 nodes and each node has a feature of length 3703"
   ]
  },
  {
   "cell_type": "markdown",
   "id": "42f18134",
   "metadata": {},
   "source": [
    "## pv0.10_pt0.00_pn0.10_arrays.npz"
   ]
  },
  {
   "cell_type": "code",
   "execution_count": 18,
   "id": "d36c6592",
   "metadata": {},
   "outputs": [],
   "source": [
    "#this file contains multiple matrices/arrays corresponding to train_ones, val_ones, val_zeros, test_ones, test_zeros\n",
    "\n",
    "p = np.load('pv0.10_pt0.00_pn0.10_arrays.npz')\n",
    "train_ones,val_ones, val_zeros, test_ones, test_zeros = p.values()"
   ]
  },
  {
   "cell_type": "code",
   "execution_count": 19,
   "id": "4751cbe2",
   "metadata": {},
   "outputs": [
    {
     "data": {
      "text/plain": [
       "0.11134708737864078"
      ]
     },
     "execution_count": 19,
     "metadata": {},
     "output_type": "execute_result"
    }
   ],
   "source": [
    "len(val_ones)/len(train_ones)"
   ]
  },
  {
   "cell_type": "code",
   "execution_count": 20,
   "id": "69119eef",
   "metadata": {},
   "outputs": [
    {
     "data": {
      "text/plain": [
       "(array([[1171, 2018],\n",
       "        [1368, 2557],\n",
       "        [1205, 2399],\n",
       "        ...,\n",
       "        [2762, 2784],\n",
       "        [2816, 2817],\n",
       "        [2819, 2820]]),\n",
       " (3296, 2))"
      ]
     },
     "execution_count": 20,
     "metadata": {},
     "output_type": "execute_result"
    }
   ],
   "source": [
    "train_ones,train_ones.shape"
   ]
  },
  {
   "cell_type": "code",
   "execution_count": 21,
   "id": "5a61505f",
   "metadata": {},
   "outputs": [],
   "source": [
    "#return unique elements in 2-D array\n",
    "def get_unique_2D(data):\n",
    "    nodes_list = []\n",
    "    for i in range(data.shape[0]):\n",
    "        for j in range(data.shape[1]):\n",
    "            nodes_list.append(data[i][j])\n",
    "    \n",
    "    nodes_list = list(set(nodes_list))\n",
    "    return nodes_list"
   ]
  },
  {
   "cell_type": "code",
   "execution_count": 22,
   "id": "ddb85961",
   "metadata": {},
   "outputs": [
    {
     "data": {
      "text/plain": [
       "2824"
      ]
     },
     "execution_count": 22,
     "metadata": {},
     "output_type": "execute_result"
    }
   ],
   "source": [
    "#Let's find the list of nodes present in the file\n",
    "\n",
    "nodes_list = get_unique_2D(train_ones)\n",
    "len(nodes_list)"
   ]
  },
  {
   "cell_type": "code",
   "execution_count": 23,
   "id": "16911516",
   "metadata": {},
   "outputs": [
    {
     "data": {
      "text/plain": [
       "367"
      ]
     },
     "execution_count": 23,
     "metadata": {},
     "output_type": "execute_result"
    }
   ],
   "source": [
    "val_ones.shape[0]"
   ]
  },
  {
   "cell_type": "code",
   "execution_count": 24,
   "id": "32e7dc87",
   "metadata": {},
   "outputs": [
    {
     "data": {
      "text/plain": [
       "367"
      ]
     },
     "execution_count": 24,
     "metadata": {},
     "output_type": "execute_result"
    }
   ],
   "source": [
    "val_zeros.shape[0]"
   ]
  },
  {
   "cell_type": "markdown",
   "id": "440a0d96",
   "metadata": {},
   "source": [
    "## ind_train_A.npz"
   ]
  },
  {
   "cell_type": "code",
   "execution_count": 25,
   "id": "f64fb479",
   "metadata": {},
   "outputs": [],
   "source": [
    "a_train = sp.load_npz('ind_train_A.npz')"
   ]
  },
  {
   "cell_type": "code",
   "execution_count": 26,
   "id": "b0dca618",
   "metadata": {},
   "outputs": [
    {
     "data": {
      "text/plain": [
       "<2824x2824 sparse matrix of type '<class 'numpy.float64'>'\n",
       "\twith 3663 stored elements in Compressed Sparse Row format>"
      ]
     },
     "execution_count": 26,
     "metadata": {},
     "output_type": "execute_result"
    }
   ],
   "source": [
    "a_train"
   ]
  },
  {
   "cell_type": "code",
   "execution_count": 27,
   "id": "d19dc2c8",
   "metadata": {},
   "outputs": [
    {
     "data": {
      "text/plain": [
       "(array([[0., 0., 0., ..., 0., 0., 0.],\n",
       "        [0., 0., 0., ..., 0., 0., 0.],\n",
       "        [0., 0., 0., ..., 0., 0., 0.],\n",
       "        ...,\n",
       "        [0., 0., 0., ..., 0., 0., 0.],\n",
       "        [0., 0., 0., ..., 0., 0., 0.],\n",
       "        [0., 0., 0., ..., 0., 0., 0.]]),\n",
       " (2824, 2824))"
      ]
     },
     "execution_count": 27,
     "metadata": {},
     "output_type": "execute_result"
    }
   ],
   "source": [
    "a_train.toarray(),a_train.toarray().shape"
   ]
  },
  {
   "cell_type": "code",
   "execution_count": 28,
   "id": "c5392d39",
   "metadata": {},
   "outputs": [
    {
     "data": {
      "text/plain": [
       "1.0"
      ]
     },
     "execution_count": 28,
     "metadata": {},
     "output_type": "execute_result"
    }
   ],
   "source": [
    "a_train.toarray()[1242][2753]"
   ]
  },
  {
   "cell_type": "code",
   "execution_count": 29,
   "id": "81bd7e1b",
   "metadata": {},
   "outputs": [
    {
     "data": {
      "text/plain": [
       "\"\\nsize_A = a_train.toarray().shape\\nA_mat = a_train.toarray()\\nedge_count = 0\\nfor i in range(size_A[0]):\\n    for j in range(size_A[1]):\\n        if A_mat[i][j] == 1.0:\\n            edge_count = edge_count + 1\\n            print(str(i) + ',' + str(j))\\n\""
      ]
     },
     "execution_count": 29,
     "metadata": {},
     "output_type": "execute_result"
    }
   ],
   "source": [
    "'''\n",
    "size_A = a_train.toarray().shape\n",
    "A_mat = a_train.toarray()\n",
    "edge_count = 0\n",
    "for i in range(size_A[0]):\n",
    "    for j in range(size_A[1]):\n",
    "        if A_mat[i][j] == 1.0:\n",
    "            edge_count = edge_count + 1\n",
    "            print(str(i) + ',' + str(j))\n",
    "'''"
   ]
  },
  {
   "cell_type": "code",
   "execution_count": 30,
   "id": "fc5e12d2",
   "metadata": {},
   "outputs": [],
   "source": [
    "#that means ind_A_train contains information about edges of these 2824 particular nodes"
   ]
  },
  {
   "cell_type": "markdown",
   "id": "45684776",
   "metadata": {},
   "source": [
    "## ind_train_X.npz"
   ]
  },
  {
   "cell_type": "code",
   "execution_count": 31,
   "id": "4490d5ce",
   "metadata": {},
   "outputs": [],
   "source": [
    "x_train = sp.load_npz('ind_train_X.npz')"
   ]
  },
  {
   "cell_type": "code",
   "execution_count": 32,
   "id": "059d05e8",
   "metadata": {},
   "outputs": [
    {
     "data": {
      "text/plain": [
       "<2824x3703 sparse matrix of type '<class 'numpy.float32'>'\n",
       "\twith 89403 stored elements in Compressed Sparse Row format>"
      ]
     },
     "execution_count": 32,
     "metadata": {},
     "output_type": "execute_result"
    }
   ],
   "source": [
    "x_train"
   ]
  },
  {
   "cell_type": "code",
   "execution_count": 33,
   "id": "b7c21735",
   "metadata": {},
   "outputs": [
    {
     "data": {
      "text/plain": [
       "(array([[0., 0., 0., ..., 0., 0., 0.],\n",
       "        [0., 0., 0., ..., 0., 0., 0.],\n",
       "        [0., 0., 0., ..., 0., 0., 0.],\n",
       "        ...,\n",
       "        [0., 0., 0., ..., 0., 0., 0.],\n",
       "        [0., 0., 0., ..., 0., 0., 0.],\n",
       "        [0., 0., 0., ..., 0., 0., 0.]], dtype=float32),\n",
       " (2824, 3703))"
      ]
     },
     "execution_count": 33,
     "metadata": {},
     "output_type": "execute_result"
    }
   ],
   "source": [
    "x_train.toarray() , x_train.toarray().shape"
   ]
  },
  {
   "cell_type": "code",
   "execution_count": 34,
   "id": "51d66825",
   "metadata": {},
   "outputs": [],
   "source": [
    "#ind_train_x contains features of the 2824 nodes that are used for training the model"
   ]
  },
  {
   "cell_type": "markdown",
   "id": "64043281",
   "metadata": {},
   "source": [
    "### nodes_keep.npy"
   ]
  },
  {
   "cell_type": "code",
   "execution_count": 35,
   "id": "7f8ffb79",
   "metadata": {},
   "outputs": [],
   "source": [
    "nodes_keep = np.unique(np.load('nodes_keep.npy'))"
   ]
  },
  {
   "cell_type": "code",
   "execution_count": 36,
   "id": "b01cc42c",
   "metadata": {},
   "outputs": [
    {
     "data": {
      "text/plain": [
       "array([   0,    1,    3, ..., 3324, 3325, 3326], dtype=int64)"
      ]
     },
     "execution_count": 36,
     "metadata": {},
     "output_type": "execute_result"
    }
   ],
   "source": [
    "nodes_keep"
   ]
  },
  {
   "cell_type": "markdown",
   "id": "44de2314",
   "metadata": {},
   "source": [
    "### nodes_hide.npy"
   ]
  },
  {
   "cell_type": "code",
   "execution_count": 37,
   "id": "50234509",
   "metadata": {},
   "outputs": [],
   "source": [
    "nodes_hides = np.unique(np.load('nodes_hide.npy'))"
   ]
  },
  {
   "cell_type": "code",
   "execution_count": 38,
   "id": "7cb24da1",
   "metadata": {},
   "outputs": [
    {
     "data": {
      "text/plain": [
       "array([   2,   23,   25,   37,   45,   55,   56,   70,   72,   88,  107,\n",
       "        112,  115,  125,  148,  161,  169,  173,  174,  177,  185,  192,\n",
       "        193,  215,  221,  223,  226,  234,  240,  243,  252,  267,  276,\n",
       "        280,  293,  294,  312,  325,  339,  341,  355,  358,  359,  362,\n",
       "        365,  384,  398,  410,  420,  436,  446,  450,  453,  468,  474,\n",
       "        478,  485,  489,  492,  496,  498,  511,  519,  526,  540,  546,\n",
       "        549,  555,  559,  563,  572,  576,  582,  583,  586,  592,  603,\n",
       "        613,  625,  647,  655,  656,  665,  676,  677,  679,  708,  719,\n",
       "        722,  737,  738,  747,  760,  768,  769,  783,  785,  787,  789,\n",
       "        794,  798,  805,  814,  821,  822,  827,  828,  831,  834,  838,\n",
       "        843,  845,  848,  855,  856,  861,  864,  870,  872,  880,  883,\n",
       "        892,  896,  898,  899,  905,  908,  909,  910,  913,  922,  926,\n",
       "        930,  937,  939,  944,  949,  957,  965,  967,  973,  979,  983,\n",
       "       1006, 1014, 1015, 1024, 1025, 1028, 1029, 1046, 1047, 1057, 1060,\n",
       "       1061, 1067, 1069, 1081, 1091, 1106, 1107, 1108, 1113, 1120, 1121,\n",
       "       1127, 1141, 1148, 1150, 1153, 1157, 1158, 1159, 1164, 1166, 1171,\n",
       "       1181, 1188, 1197, 1200, 1228, 1232, 1241, 1247, 1249, 1253, 1262,\n",
       "       1263, 1269, 1270, 1272, 1281, 1283, 1284, 1285, 1286, 1288, 1289,\n",
       "       1294, 1311, 1312, 1314, 1317, 1323, 1326, 1360, 1370, 1375, 1384,\n",
       "       1387, 1397, 1402, 1406, 1408, 1412, 1413, 1415, 1436, 1440, 1442,\n",
       "       1474, 1479, 1480, 1483, 1496, 1497, 1500, 1509, 1513, 1516, 1518,\n",
       "       1520, 1523, 1525, 1536, 1542, 1544, 1548, 1549, 1552, 1564, 1572,\n",
       "       1578, 1602, 1607, 1612, 1613, 1614, 1616, 1621, 1627, 1632, 1639,\n",
       "       1654, 1659, 1665, 1672, 1685, 1693, 1697, 1711, 1718, 1722, 1723,\n",
       "       1732, 1742, 1745, 1746, 1752, 1753, 1764, 1765, 1774, 1806, 1809,\n",
       "       1819, 1837, 1838, 1840, 1849, 1854, 1856, 1869, 1870, 1877, 1881,\n",
       "       1885, 1886, 1889, 1893, 1897, 1899, 1918, 1924, 1930, 1931, 1934,\n",
       "       1937, 1945, 1964, 1974, 1975, 1979, 1986, 1987, 1990, 1998, 2003,\n",
       "       2005, 2011, 2016, 2019, 2025, 2040, 2043, 2067, 2068, 2069, 2086,\n",
       "       2088, 2090, 2100, 2102, 2107, 2119, 2123, 2131, 2158, 2172, 2181,\n",
       "       2187, 2193, 2194, 2199, 2200, 2234, 2243, 2256, 2258, 2264, 2265,\n",
       "       2268, 2279, 2280, 2294, 2301, 2304, 2312, 2315, 2317, 2320, 2332,\n",
       "       2336, 2341, 2344, 2359, 2374, 2376, 2384, 2391, 2400, 2403, 2423,\n",
       "       2437, 2441, 2450, 2451, 2453, 2456, 2457, 2467, 2485, 2496, 2503,\n",
       "       2504, 2532, 2535, 2538, 2547, 2556, 2563, 2567, 2569, 2576, 2579,\n",
       "       2585, 2591, 2600, 2602, 2603, 2607, 2629, 2630, 2637, 2643, 2652,\n",
       "       2673, 2677, 2684, 2690, 2692, 2693, 2705, 2710, 2718, 2724, 2735,\n",
       "       2741, 2742, 2750, 2754, 2755, 2757, 2768, 2769, 2774, 2778, 2784,\n",
       "       2786, 2787, 2798, 2800, 2803, 2806, 2807, 2811, 2813, 2825, 2826,\n",
       "       2835, 2843, 2849, 2850, 2865, 2872, 2873, 2875, 2876, 2881, 2895,\n",
       "       2896, 2897, 2914, 2915, 2930, 2932, 2940, 2942, 2944, 2950, 2951,\n",
       "       2957, 2967, 2979, 2981, 2984, 3013, 3028, 3029, 3030, 3046, 3049,\n",
       "       3053, 3055, 3056, 3063, 3070, 3072, 3073, 3074, 3078, 3079, 3082,\n",
       "       3089, 3091, 3117, 3118, 3122, 3123, 3133, 3141, 3147, 3156, 3170,\n",
       "       3186, 3190, 3206, 3211, 3216, 3217, 3218, 3228, 3241, 3250, 3260,\n",
       "       3278, 3280, 3283, 3284, 3285, 3287, 3313, 3316], dtype=int64)"
      ]
     },
     "execution_count": 38,
     "metadata": {},
     "output_type": "execute_result"
    }
   ],
   "source": [
    "nodes_hides"
   ]
  },
  {
   "cell_type": "code",
   "execution_count": 39,
   "id": "c3d1c30a",
   "metadata": {},
   "outputs": [],
   "source": [
    "for i in nodes_hides:\n",
    "    np.append(nodes_keep,i)"
   ]
  },
  {
   "cell_type": "code",
   "execution_count": 40,
   "id": "c0bde50e",
   "metadata": {},
   "outputs": [
    {
     "data": {
      "text/plain": [
       "2824"
      ]
     },
     "execution_count": 40,
     "metadata": {},
     "output_type": "execute_result"
    }
   ],
   "source": [
    "len(list(set(nodes_keep)))"
   ]
  },
  {
   "cell_type": "code",
   "execution_count": null,
   "id": "8a779f19",
   "metadata": {},
   "outputs": [],
   "source": []
  },
  {
   "cell_type": "code",
   "execution_count": null,
   "id": "62ea66fe",
   "metadata": {},
   "outputs": [],
   "source": []
  },
  {
   "cell_type": "markdown",
   "id": "4c0396cc",
   "metadata": {},
   "source": [
    "## make test_edges and val_edges"
   ]
  },
  {
   "cell_type": "code",
   "execution_count": 41,
   "id": "21f7cadc",
   "metadata": {},
   "outputs": [],
   "source": [
    "test_edges = np.row_stack((test_ones, test_zeros))\n",
    "val_edges = np.row_stack((val_ones, val_zeros))"
   ]
  },
  {
   "cell_type": "code",
   "execution_count": 42,
   "id": "03de9d84",
   "metadata": {
    "scrolled": true
   },
   "outputs": [
    {
     "data": {
      "text/plain": [
       "(array([[   2, 3285],\n",
       "        [  12,  677],\n",
       "        [  12,  794],\n",
       "        ...,\n",
       "        [3146, 3147],\n",
       "        [3228, 3236],\n",
       "        [3286, 3287]], dtype=int64),\n",
       " array([[3156, 1549],\n",
       "        [3156, 1080],\n",
       "        [3156, 3148],\n",
       "        ...,\n",
       "        [3287, 1287],\n",
       "        [3313,  888],\n",
       "        [3316, 1874]], dtype=int64))"
      ]
     },
     "execution_count": 42,
     "metadata": {},
     "output_type": "execute_result"
    }
   ],
   "source": [
    "test_ones,test_zeros"
   ]
  },
  {
   "cell_type": "code",
   "execution_count": 43,
   "id": "e6d8b0ad",
   "metadata": {},
   "outputs": [],
   "source": [
    "gt_labels = A[test_edges[:, 0], test_edges[:, 1]].A1"
   ]
  },
  {
   "cell_type": "code",
   "execution_count": null,
   "id": "11a3d74c",
   "metadata": {},
   "outputs": [],
   "source": []
  },
  {
   "cell_type": "code",
   "execution_count": 44,
   "id": "955e18cb",
   "metadata": {},
   "outputs": [
    {
     "data": {
      "text/plain": [
       "(array([   2,   12,   12, ..., 3287, 3313, 3316], dtype=int64),\n",
       " array([3285,  677,  794, ..., 1287,  888, 1874], dtype=int64))"
      ]
     },
     "execution_count": 44,
     "metadata": {},
     "output_type": "execute_result"
    }
   ],
   "source": [
    "test_edges[:,0],test_edges[:,1]"
   ]
  },
  {
   "cell_type": "code",
   "execution_count": 45,
   "id": "395cfa2c",
   "metadata": {},
   "outputs": [
    {
     "data": {
      "text/plain": [
       "(array([[2016, 2018],\n",
       "        [1242, 2753],\n",
       "        [1747, 2020],\n",
       "        [  52, 1205],\n",
       "        [ 663, 1917],\n",
       "        [ 326, 1678],\n",
       "        [ 923, 1135],\n",
       "        [  24, 1709],\n",
       "        [ 724, 1506],\n",
       "        [1805, 1933],\n",
       "        [ 810, 2021],\n",
       "        [ 558, 2182],\n",
       "        [1260, 1789],\n",
       "        [1426, 2084],\n",
       "        [2238, 2553],\n",
       "        [1205, 1749],\n",
       "        [2110, 2210],\n",
       "        [1568, 1615],\n",
       "        [1197, 2010],\n",
       "        [ 609, 1425],\n",
       "        [ 745, 2795],\n",
       "        [ 435, 1371],\n",
       "        [2104, 2400],\n",
       "        [1205, 2256],\n",
       "        [  39, 1489],\n",
       "        [ 394, 2259],\n",
       "        [ 388, 2303],\n",
       "        [ 236, 2231],\n",
       "        [ 149, 2381],\n",
       "        [1120, 2389],\n",
       "        [  96, 1858],\n",
       "        [1147, 1553],\n",
       "        [ 880, 1747],\n",
       "        [ 950, 2147],\n",
       "        [ 663,  766],\n",
       "        [ 388, 2301],\n",
       "        [1882, 2250],\n",
       "        [1408, 2036],\n",
       "        [ 124,  938],\n",
       "        [ 663,  783],\n",
       "        [ 122, 1642],\n",
       "        [1205, 1919],\n",
       "        [1212, 1375],\n",
       "        [1751, 2182],\n",
       "        [1205, 2397],\n",
       "        [1990, 1991],\n",
       "        [  86,  118],\n",
       "        [ 132, 1064],\n",
       "        [  88, 1940],\n",
       "        [1326, 2056],\n",
       "        [1964, 2005],\n",
       "        [1084, 2005],\n",
       "        [ 756, 1071],\n",
       "        [ 135,  827],\n",
       "        [ 201, 1297],\n",
       "        [2196, 2417],\n",
       "        [  22, 1714],\n",
       "        [ 610,  752],\n",
       "        [ 160,  579],\n",
       "        [ 516,  978],\n",
       "        [  18, 1231],\n",
       "        [ 929, 1371],\n",
       "        [2181, 2500],\n",
       "        [ 884, 2365],\n",
       "        [ 729, 2115],\n",
       "        [ 236, 2749],\n",
       "        [ 895, 2759],\n",
       "        [1287, 1591],\n",
       "        [ 135, 1152],\n",
       "        [ 318, 2255],\n",
       "        [1709, 1711],\n",
       "        [1226, 1332],\n",
       "        [2303, 2514],\n",
       "        [ 737, 1852],\n",
       "        [ 579, 2245],\n",
       "        [ 766, 1910],\n",
       "        [ 202, 2365],\n",
       "        [  42, 2652],\n",
       "        [1225, 2040],\n",
       "        [ 663, 1662],\n",
       "        [ 429, 1329],\n",
       "        [1467, 2078],\n",
       "        [1412, 2039],\n",
       "        [ 792,  995],\n",
       "        [1993, 1994],\n",
       "        [1927, 2779],\n",
       "        [1964, 2442],\n",
       "        [ 675, 2240],\n",
       "        [ 538, 1326],\n",
       "        [1039, 2365],\n",
       "        [1410, 2064],\n",
       "        [2498, 2508],\n",
       "        [2152, 2240],\n",
       "        [ 495, 1125],\n",
       "        [1615, 2740],\n",
       "        [1591, 1684],\n",
       "        [1278, 2049],\n",
       "        [1670, 2406],\n",
       "        [ 964, 1786],\n",
       "        [ 139, 1375],\n",
       "        [1552, 2044],\n",
       "        [ 868, 2283],\n",
       "        [1962, 1982],\n",
       "        [2012, 2370],\n",
       "        [ 579, 1375],\n",
       "        [2264, 2420],\n",
       "        [ 555,  989],\n",
       "        [ 863, 1028],\n",
       "        [1735, 2803],\n",
       "        [2123, 2251],\n",
       "        [1710, 2604],\n",
       "        [ 165, 2132],\n",
       "        [ 850, 2481],\n",
       "        [ 824, 2056],\n",
       "        [  39, 1375],\n",
       "        [  15, 1326],\n",
       "        [1212, 1820],\n",
       "        [ 141, 1420],\n",
       "        [ 663, 2231],\n",
       "        [ 584, 1003],\n",
       "        [ 956, 2340],\n",
       "        [1205, 2038],\n",
       "        [  67, 2504],\n",
       "        [ 122, 1321],\n",
       "        [2120, 2756],\n",
       "        [ 137, 1410],\n",
       "        [1315, 2098],\n",
       "        [1426, 2085],\n",
       "        [ 196,  663],\n",
       "        [  24, 1205],\n",
       "        [ 476, 1244],\n",
       "        [1858, 2360],\n",
       "        [1671, 1747],\n",
       "        [ 412, 1990],\n",
       "        [ 200, 2756],\n",
       "        [ 363, 1130],\n",
       "        [1198, 2428],\n",
       "        [  74,  569],\n",
       "        [2659, 2751],\n",
       "        [1371, 2182],\n",
       "        [1050, 1180],\n",
       "        [ 773, 1092],\n",
       "        [ 542, 1845],\n",
       "        [1506, 2521],\n",
       "        [1326, 2054],\n",
       "        [ 950, 2483],\n",
       "        [ 747, 1874],\n",
       "        [ 798,  954],\n",
       "        [1340, 1564],\n",
       "        [  15, 1361],\n",
       "        [ 950, 1383],\n",
       "        [  98, 2263],\n",
       "        [ 768, 2378],\n",
       "        [ 976, 2707],\n",
       "        [1382, 2432],\n",
       "        [ 548,  663],\n",
       "        [ 702, 2562],\n",
       "        [1560, 2082],\n",
       "        [ 748, 1560],\n",
       "        [1337, 2131],\n",
       "        [ 476, 2336],\n",
       "        [ 861, 2124],\n",
       "        [  88, 2136],\n",
       "        [ 594, 1769],\n",
       "        [1103, 1241],\n",
       "        [1863, 2132],\n",
       "        [ 847, 1027],\n",
       "        [ 223,  235],\n",
       "        [ 124, 1863],\n",
       "        [1075, 2110],\n",
       "        [ 336, 2504],\n",
       "        [1251, 2649],\n",
       "        [ 485, 2369],\n",
       "        [ 873, 1375],\n",
       "        [1200, 1882],\n",
       "        [ 202, 1938],\n",
       "        [1118, 2738],\n",
       "        [1049, 1092],\n",
       "        [  53,  694],\n",
       "        [1375, 1489],\n",
       "        [1966, 1986],\n",
       "        [ 507, 1196],\n",
       "        [1138, 1645],\n",
       "        [ 199, 2718],\n",
       "        [1496, 2779],\n",
       "        [ 378, 1790],\n",
       "        [ 329, 1197],\n",
       "        [1011, 2564],\n",
       "        [1205, 2400],\n",
       "        [2026, 2454],\n",
       "        [1004, 1357],\n",
       "        [ 196,  828],\n",
       "        [ 663, 1394],\n",
       "        [ 956, 1335],\n",
       "        [1009, 2707],\n",
       "        [  17,  710],\n",
       "        [ 921, 2417],\n",
       "        [ 212, 2428],\n",
       "        [ 619, 2060],\n",
       "        [  11, 1372],\n",
       "        [ 735, 2145],\n",
       "        [ 884, 2104],\n",
       "        [  51,  649],\n",
       "        [ 624, 2627],\n",
       "        [ 883, 1209],\n",
       "        [2365, 2366],\n",
       "        [ 894, 1972],\n",
       "        [ 884, 1368],\n",
       "        [ 628, 1461],\n",
       "        [1252, 1875],\n",
       "        [ 443, 1948],\n",
       "        [ 138,  653],\n",
       "        [ 969, 2457],\n",
       "        [ 587,  748],\n",
       "        [ 476, 1444],\n",
       "        [  74,  792],\n",
       "        [ 584,  940],\n",
       "        [ 773, 2365],\n",
       "        [1462, 2370],\n",
       "        [  54, 1748],\n",
       "        [ 271, 1895],\n",
       "        [  87, 1021],\n",
       "        [1678, 1987],\n",
       "        [  15, 1205],\n",
       "        [1212, 2058],\n",
       "        [2066, 2184],\n",
       "        [ 434, 1824],\n",
       "        [ 267, 1917],\n",
       "        [1371, 2569],\n",
       "        [ 277,  783],\n",
       "        [ 135, 1490],\n",
       "        [ 766, 1645],\n",
       "        [ 267, 1205],\n",
       "        [ 821, 1650],\n",
       "        [1437, 2639],\n",
       "        [1546, 1851],\n",
       "        [ 277, 1448],\n",
       "        [2036, 2038],\n",
       "        [ 663, 2271],\n",
       "        [1160, 2195],\n",
       "        [1665, 2116],\n",
       "        [ 185,  357],\n",
       "        [1538, 1854],\n",
       "        [1031, 2362],\n",
       "        [ 935, 1737],\n",
       "        [1326, 2481],\n",
       "        [1641, 2082],\n",
       "        [ 122, 2132],\n",
       "        [1487, 1969],\n",
       "        [1182, 2724],\n",
       "        [ 440,  867],\n",
       "        [2015, 2438],\n",
       "        [ 271,  511],\n",
       "        [ 765, 1935],\n",
       "        [ 568, 2191],\n",
       "        [ 634,  930],\n",
       "        [ 793, 2194],\n",
       "        [1049, 1410],\n",
       "        [1606, 2302],\n",
       "        [ 965, 1591],\n",
       "        [2010, 2786],\n",
       "        [1006, 1160],\n",
       "        [ 735, 1410],\n",
       "        [ 820, 2575],\n",
       "        [ 958, 1468],\n",
       "        [2231, 2365],\n",
       "        [ 885, 1300],\n",
       "        [ 807, 1958],\n",
       "        [ 622, 1207],\n",
       "        [ 223, 1307],\n",
       "        [ 135, 2115],\n",
       "        [  49, 1611],\n",
       "        [ 502,  587],\n",
       "        [ 765, 1852],\n",
       "        [1450, 1880],\n",
       "        [ 490,  978],\n",
       "        [ 293,  925],\n",
       "        [2104, 2365],\n",
       "        [  52, 1034],\n",
       "        [ 922, 1447],\n",
       "        [ 320,  352],\n",
       "        [ 626, 1966],\n",
       "        [ 953, 1560],\n",
       "        [2052, 2302],\n",
       "        [ 201, 2388],\n",
       "        [  29, 2553],\n",
       "        [1196, 2388],\n",
       "        [ 185,  388],\n",
       "        [ 748, 1130],\n",
       "        [2219, 2221],\n",
       "        [1320, 2179],\n",
       "        [ 884, 1391],\n",
       "        [1555, 2235],\n",
       "        [ 277, 1645],\n",
       "        [ 234, 2085],\n",
       "        [ 195, 1917],\n",
       "        [ 604, 2493],\n",
       "        [1357, 2568],\n",
       "        [1426, 1885],\n",
       "        [2110, 2209],\n",
       "        [ 893, 1553],\n",
       "        [2178, 2707],\n",
       "        [  85, 1927],\n",
       "        [ 659, 1227],\n",
       "        [  15, 2053],\n",
       "        [1011, 1745],\n",
       "        [ 745,  861],\n",
       "        [1337, 2005],\n",
       "        [ 391, 2128],\n",
       "        [ 544,  783],\n",
       "        [  99,  476],\n",
       "        [ 172, 1547],\n",
       "        [ 562,  720],\n",
       "        [ 429,  448],\n",
       "        [ 429,  938],\n",
       "        [ 511, 1205],\n",
       "        [ 548, 2183],\n",
       "        [1112, 1242],\n",
       "        [1146, 1796],\n",
       "        [ 311, 2245],\n",
       "        [ 765, 2259],\n",
       "        [ 969, 2285],\n",
       "        [ 538,  544],\n",
       "        [ 653, 2096],\n",
       "        [2274, 2276],\n",
       "        [1004, 2196],\n",
       "        [  54, 1789],\n",
       "        [ 710, 1219],\n",
       "        [ 333, 2777],\n",
       "        [1300, 1606],\n",
       "        [2011, 2163],\n",
       "        [1692, 1877],\n",
       "        [ 603, 2730],\n",
       "        [ 824, 1891],\n",
       "        [  72,  516],\n",
       "        [2140, 2469],\n",
       "        [ 622, 2013],\n",
       "        [  40, 1047],\n",
       "        [ 705, 2183],\n",
       "        [ 419, 2149],\n",
       "        [1642, 2043],\n",
       "        [ 706, 1751],\n",
       "        [1529, 1845],\n",
       "        [ 123, 1205],\n",
       "        [  51,  651],\n",
       "        [ 430, 1398],\n",
       "        [1353, 2759],\n",
       "        [ 558, 1628],\n",
       "        [ 215, 2717],\n",
       "        [1228, 2331],\n",
       "        [ 476, 2586],\n",
       "        [1342, 2355],\n",
       "        [ 909, 1573],\n",
       "        [ 476, 2410],\n",
       "        [1903, 2239],\n",
       "        [1805, 2457],\n",
       "        [ 196, 1034],\n",
       "        [1724, 2616],\n",
       "        [ 868, 1938],\n",
       "        [1205, 2268],\n",
       "        [1686, 2659],\n",
       "        [ 605, 2055],\n",
       "        [ 688, 1546],\n",
       "        [1025, 1032],\n",
       "        [1578, 1771],\n",
       "        [ 438,  765],\n",
       "        [ 544, 2481]]),\n",
       " array([[   0, 1315],\n",
       "        [   6,  597],\n",
       "        [  11, 2319],\n",
       "        [  13,  437],\n",
       "        [  26, 2751],\n",
       "        [  40,   94],\n",
       "        [  43,  577],\n",
       "        [  47,  772],\n",
       "        [  48, 2023],\n",
       "        [  52,  455],\n",
       "        [  54, 2209],\n",
       "        [  58, 1238],\n",
       "        [  59, 1498],\n",
       "        [  62, 1477],\n",
       "        [  67, 1592],\n",
       "        [  73, 2632],\n",
       "        [  75, 2025],\n",
       "        [  77,  700],\n",
       "        [  80, 1187],\n",
       "        [  80, 2558],\n",
       "        [  81,  645],\n",
       "        [  84,   90],\n",
       "        [ 103,   99],\n",
       "        [ 105, 2735],\n",
       "        [ 106,  754],\n",
       "        [ 107,  504],\n",
       "        [ 108,  456],\n",
       "        [ 119, 2362],\n",
       "        [ 121, 1323],\n",
       "        [ 123, 2555],\n",
       "        [ 126, 2120],\n",
       "        [ 127,   13],\n",
       "        [ 131, 1980],\n",
       "        [ 145, 1776],\n",
       "        [ 145, 2685],\n",
       "        [ 163, 1214],\n",
       "        [ 164, 2474],\n",
       "        [ 176, 1425],\n",
       "        [ 187, 2438],\n",
       "        [ 198, 2170],\n",
       "        [ 228,  850],\n",
       "        [ 231, 1943],\n",
       "        [ 236, 1244],\n",
       "        [ 250, 1179],\n",
       "        [ 251,  932],\n",
       "        [ 254,  459],\n",
       "        [ 254, 1171],\n",
       "        [ 255, 1860],\n",
       "        [ 267,  179],\n",
       "        [ 267, 1929],\n",
       "        [ 268,  765],\n",
       "        [ 274, 2248],\n",
       "        [ 275,   41],\n",
       "        [ 297, 1811],\n",
       "        [ 300, 2304],\n",
       "        [ 303, 1920],\n",
       "        [ 331, 2032],\n",
       "        [ 340,  564],\n",
       "        [ 340, 1570],\n",
       "        [ 344, 1539],\n",
       "        [ 344, 1612],\n",
       "        [ 353, 2770],\n",
       "        [ 357, 2310],\n",
       "        [ 357, 2583],\n",
       "        [ 359, 1832],\n",
       "        [ 360, 2138],\n",
       "        [ 362, 2728],\n",
       "        [ 366, 1044],\n",
       "        [ 367, 1017],\n",
       "        [ 375, 2677],\n",
       "        [ 377,  260],\n",
       "        [ 385,  264],\n",
       "        [ 387,  320],\n",
       "        [ 392, 1231],\n",
       "        [ 395, 1352],\n",
       "        [ 407, 1785],\n",
       "        [ 419, 2398],\n",
       "        [ 425,  781],\n",
       "        [ 433,  477],\n",
       "        [ 438, 1146],\n",
       "        [ 445, 1823],\n",
       "        [ 448, 2414],\n",
       "        [ 466, 1685],\n",
       "        [ 468, 1599],\n",
       "        [ 474, 1168],\n",
       "        [ 475, 1296],\n",
       "        [ 478, 1476],\n",
       "        [ 492,   18],\n",
       "        [ 494, 1808],\n",
       "        [ 497, 2299],\n",
       "        [ 503, 1703],\n",
       "        [ 505, 1253],\n",
       "        [ 508, 2208],\n",
       "        [ 511, 2468],\n",
       "        [ 513, 2415],\n",
       "        [ 515, 1417],\n",
       "        [ 518, 1610],\n",
       "        [ 525,  568],\n",
       "        [ 529,  497],\n",
       "        [ 540, 2441],\n",
       "        [ 544,  637],\n",
       "        [ 557, 2333],\n",
       "        [ 561, 2312],\n",
       "        [ 563,  335],\n",
       "        [ 585, 1970],\n",
       "        [ 588, 1253],\n",
       "        [ 588, 2432],\n",
       "        [ 595,  147],\n",
       "        [ 600, 1027],\n",
       "        [ 602, 1426],\n",
       "        [ 609, 2292],\n",
       "        [ 611,  964],\n",
       "        [ 618,   16],\n",
       "        [ 627,  454],\n",
       "        [ 632, 1154],\n",
       "        [ 637, 1100],\n",
       "        [ 646, 2248],\n",
       "        [ 653,  504],\n",
       "        [ 672,  492],\n",
       "        [ 676, 1156],\n",
       "        [ 681, 2444],\n",
       "        [ 696,  954],\n",
       "        [ 697, 1310],\n",
       "        [ 701, 2222],\n",
       "        [ 702, 2564],\n",
       "        [ 715, 1117],\n",
       "        [ 717, 1626],\n",
       "        [ 723, 1306],\n",
       "        [ 732,  151],\n",
       "        [ 746, 2092],\n",
       "        [ 750,  819],\n",
       "        [ 762, 1883],\n",
       "        [ 772,  689],\n",
       "        [ 777,  997],\n",
       "        [ 781,  328],\n",
       "        [ 784, 2684],\n",
       "        [ 795, 1053],\n",
       "        [ 797, 1263],\n",
       "        [ 802, 1578],\n",
       "        [ 813, 2554],\n",
       "        [ 814,   91],\n",
       "        [ 837, 1017],\n",
       "        [ 838, 2254],\n",
       "        [ 839, 1110],\n",
       "        [ 846, 1152],\n",
       "        [ 855,  805],\n",
       "        [ 855, 2556],\n",
       "        [ 855, 2681],\n",
       "        [ 859,  476],\n",
       "        [ 859,  774],\n",
       "        [ 860, 2085],\n",
       "        [ 865, 1897],\n",
       "        [ 884,  650],\n",
       "        [ 884, 1181],\n",
       "        [ 886,  820],\n",
       "        [ 902, 2727],\n",
       "        [ 903, 2741],\n",
       "        [ 908,  931],\n",
       "        [ 909,  136],\n",
       "        [ 909, 1229],\n",
       "        [ 912,  884],\n",
       "        [ 919,  318],\n",
       "        [ 921, 1663],\n",
       "        [ 930, 1010],\n",
       "        [ 937,  413],\n",
       "        [ 943,  313],\n",
       "        [ 956, 1663],\n",
       "        [ 966,  631],\n",
       "        [ 966, 2393],\n",
       "        [ 968,  232],\n",
       "        [ 968, 2512],\n",
       "        [ 969,   99],\n",
       "        [ 970,  323],\n",
       "        [ 972, 2349],\n",
       "        [ 975,  827],\n",
       "        [ 984,  778],\n",
       "        [ 993, 1354],\n",
       "        [ 999, 2471],\n",
       "        [1000, 1897],\n",
       "        [1007, 2494],\n",
       "        [1016,   28],\n",
       "        [1017, 1083],\n",
       "        [1019, 2383],\n",
       "        [1025, 1748],\n",
       "        [1026, 2245],\n",
       "        [1027, 2123],\n",
       "        [1036, 2380],\n",
       "        [1038, 2517],\n",
       "        [1041, 1631],\n",
       "        [1045,   63],\n",
       "        [1048, 1699],\n",
       "        [1052,  284],\n",
       "        [1058,   76],\n",
       "        [1058, 2561],\n",
       "        [1063,  757],\n",
       "        [1079, 1898],\n",
       "        [1086, 2064],\n",
       "        [1089, 1099],\n",
       "        [1094, 2808],\n",
       "        [1099, 2145],\n",
       "        [1106, 2251],\n",
       "        [1112, 1405],\n",
       "        [1124, 1806],\n",
       "        [1131, 2192],\n",
       "        [1134, 2336],\n",
       "        [1136, 1173],\n",
       "        [1137, 2449],\n",
       "        [1147, 1315],\n",
       "        [1151,  277],\n",
       "        [1154,   27],\n",
       "        [1157, 1602],\n",
       "        [1158, 1476],\n",
       "        [1164,  610],\n",
       "        [1187,  486],\n",
       "        [1194, 1739],\n",
       "        [1210, 2572],\n",
       "        [1213,  194],\n",
       "        [1215, 1661],\n",
       "        [1217, 1346],\n",
       "        [1225,  943],\n",
       "        [1228, 2099],\n",
       "        [1252, 1211],\n",
       "        [1253, 2403],\n",
       "        [1257,  110],\n",
       "        [1257, 2181],\n",
       "        [1264, 1549],\n",
       "        [1268,  783],\n",
       "        [1278, 1010],\n",
       "        [1289,  652],\n",
       "        [1296, 1802],\n",
       "        [1301,  814],\n",
       "        [1305,  789],\n",
       "        [1307,  522],\n",
       "        [1307,  655],\n",
       "        [1311, 2174],\n",
       "        [1318, 2254],\n",
       "        [1341,  488],\n",
       "        [1348, 1125],\n",
       "        [1352, 2031],\n",
       "        [1372, 1030],\n",
       "        [1372, 2054],\n",
       "        [1375,  766],\n",
       "        [1378, 1140],\n",
       "        [1388, 2697],\n",
       "        [1394,  767],\n",
       "        [1395, 1126],\n",
       "        [1396,   63],\n",
       "        [1397, 2454],\n",
       "        [1413,  168],\n",
       "        [1435, 1773],\n",
       "        [1435, 2035],\n",
       "        [1443,  715],\n",
       "        [1449,  722],\n",
       "        [1449, 1061],\n",
       "        [1454, 2086],\n",
       "        [1462, 1355],\n",
       "        [1462, 2432],\n",
       "        [1467, 1323],\n",
       "        [1528, 2074],\n",
       "        [1548,  645],\n",
       "        [1554,  970],\n",
       "        [1555, 2645],\n",
       "        [1570, 1862],\n",
       "        [1583, 1024],\n",
       "        [1584, 2673],\n",
       "        [1587,  215],\n",
       "        [1588,  913],\n",
       "        [1603, 2322],\n",
       "        [1604,  315],\n",
       "        [1605,  360],\n",
       "        [1609, 1588],\n",
       "        [1612, 1560],\n",
       "        [1614, 1293],\n",
       "        [1619,  711],\n",
       "        [1627, 1184],\n",
       "        [1633,  260],\n",
       "        [1633, 1798],\n",
       "        [1636,  362],\n",
       "        [1648, 2059],\n",
       "        [1656,  370],\n",
       "        [1660, 2719],\n",
       "        [1681,  671],\n",
       "        [1689,  101],\n",
       "        [1693, 2487],\n",
       "        [1694,  588],\n",
       "        [1714, 1222],\n",
       "        [1717,  278],\n",
       "        [1723, 1403],\n",
       "        [1724,  518],\n",
       "        [1727,  603],\n",
       "        [1728, 1255],\n",
       "        [1734, 1060],\n",
       "        [1735,  201],\n",
       "        [1737, 2168],\n",
       "        [1751,  235],\n",
       "        [1756, 2096],\n",
       "        [1758, 1637],\n",
       "        [1762, 1149],\n",
       "        [1764,  931],\n",
       "        [1773, 1260],\n",
       "        [1782,  393],\n",
       "        [1782, 2080],\n",
       "        [1782, 2559],\n",
       "        [1788, 1976],\n",
       "        [1792, 1684],\n",
       "        [1795,  128],\n",
       "        [1802,  272],\n",
       "        [1810,  752],\n",
       "        [1818, 2183],\n",
       "        [1832, 2185],\n",
       "        [1841, 1049],\n",
       "        [1846, 1444],\n",
       "        [1851, 2420],\n",
       "        [1854,  442],\n",
       "        [1866, 2781],\n",
       "        [1878, 2094],\n",
       "        [1885, 2348],\n",
       "        [1890, 2327],\n",
       "        [1893,    8],\n",
       "        [1899,  153],\n",
       "        [1903, 1686],\n",
       "        [1905, 1944],\n",
       "        [1911, 1227],\n",
       "        [1914,  544],\n",
       "        [1915,  359],\n",
       "        [1915,  693],\n",
       "        [1917,  856],\n",
       "        [1918,  645],\n",
       "        [1923, 2280],\n",
       "        [1925, 1105],\n",
       "        [1925, 1650],\n",
       "        [1930, 2302],\n",
       "        [1935,  486],\n",
       "        [1945,  172],\n",
       "        [1947,  626],\n",
       "        [1948, 1782],\n",
       "        [1959, 1534],\n",
       "        [1959, 2621],\n",
       "        [1967, 2573],\n",
       "        [1970, 1424],\n",
       "        [1973, 1485],\n",
       "        [1978,   80],\n",
       "        [1987, 1981],\n",
       "        [1994, 2778],\n",
       "        [2000,  141],\n",
       "        [2004, 2159],\n",
       "        [2005,  157],\n",
       "        [2020, 1775],\n",
       "        [2025, 2627],\n",
       "        [2031,  657],\n",
       "        [2039, 1998],\n",
       "        [2041,  449],\n",
       "        [2042,   68],\n",
       "        [2050, 1838],\n",
       "        [2055, 1400],\n",
       "        [2057, 1929],\n",
       "        [2064, 2759],\n",
       "        [2077, 2117],\n",
       "        [2077, 2139],\n",
       "        [2109, 2506],\n",
       "        [2116,   91],\n",
       "        [2127, 1035],\n",
       "        [2132, 1301],\n",
       "        [2135, 1348],\n",
       "        [2142, 1823],\n",
       "        [2143, 1026],\n",
       "        [2144, 1908]], dtype=int64))"
      ]
     },
     "execution_count": 45,
     "metadata": {},
     "output_type": "execute_result"
    }
   ],
   "source": [
    "val_ones , val_zeros"
   ]
  },
  {
   "cell_type": "code",
   "execution_count": 46,
   "id": "98d81307",
   "metadata": {},
   "outputs": [
    {
     "data": {
      "text/plain": [
       "array([[   2, 3285],\n",
       "       [  12,  677],\n",
       "       [  12,  794],\n",
       "       ...,\n",
       "       [3146, 3147],\n",
       "       [3228, 3236],\n",
       "       [3286, 3287]], dtype=int64)"
      ]
     },
     "execution_count": 46,
     "metadata": {},
     "output_type": "execute_result"
    }
   ],
   "source": [
    "test_ones"
   ]
  },
  {
   "cell_type": "code",
   "execution_count": 47,
   "id": "a8ba8034",
   "metadata": {},
   "outputs": [
    {
     "data": {
      "text/plain": [
       "(array([[   2, 3285],\n",
       "        [  12,  677],\n",
       "        [  12,  794],\n",
       "        ...,\n",
       "        [3287, 1287],\n",
       "        [3313,  888],\n",
       "        [3316, 1874]], dtype=int64),\n",
       " array([[2016, 2018],\n",
       "        [1242, 2753],\n",
       "        [1747, 2020],\n",
       "        ...,\n",
       "        [2142, 1823],\n",
       "        [2143, 1026],\n",
       "        [2144, 1908]], dtype=int64))"
      ]
     },
     "execution_count": 47,
     "metadata": {},
     "output_type": "execute_result"
    }
   ],
   "source": [
    "test_edges,val_edges"
   ]
  },
  {
   "cell_type": "code",
   "execution_count": 48,
   "id": "4a6a1c0f",
   "metadata": {},
   "outputs": [],
   "source": [
    "def check_edge(v1,v2,arr):\n",
    "    for i in range(arr.shape[0]):\n",
    "        if arr[i][0] == v1 and arr[i][1] == v2:\n",
    "            return True\n",
    "    return False"
   ]
  },
  {
   "cell_type": "code",
   "execution_count": 49,
   "id": "04d09b83",
   "metadata": {},
   "outputs": [
    {
     "data": {
      "text/plain": [
       "(2055, 1047)"
      ]
     },
     "execution_count": 49,
     "metadata": {},
     "output_type": "execute_result"
    }
   ],
   "source": [
    "len(get_unique_2D(test_edges)) , len(get_unique_2D(val_edges))"
   ]
  },
  {
   "cell_type": "code",
   "execution_count": 50,
   "id": "d9206a01",
   "metadata": {},
   "outputs": [],
   "source": [
    "gt_labels = A[test_edges[:, 0], test_edges[:, 1]].A1"
   ]
  },
  {
   "cell_type": "code",
   "execution_count": 51,
   "id": "9da9cf03",
   "metadata": {},
   "outputs": [
    {
     "data": {
      "text/plain": [
       "array([1., 1., 1., ..., 0., 0., 0.])"
      ]
     },
     "execution_count": 51,
     "metadata": {},
     "output_type": "execute_result"
    }
   ],
   "source": [
    "gt_labels"
   ]
  },
  {
   "cell_type": "code",
   "execution_count": 52,
   "id": "886a954c",
   "metadata": {},
   "outputs": [],
   "source": [
    "var_x = x_train"
   ]
  },
  {
   "cell_type": "code",
   "execution_count": 53,
   "id": "a9877320",
   "metadata": {},
   "outputs": [],
   "source": [
    "def convert_sSp_tSp(var_x):\n",
    "    coo = var_x.tocoo()\n",
    "    values = coo.data\n",
    "    indices = np.vstack((coo.row, coo.col))\n",
    "    i = torch.LongTensor(indices)\n",
    "    v = torch.FloatTensor(values)\n",
    "    shape = coo.shape\n",
    "    return torch.sparse.FloatTensor(i, v, torch.Size(shape))"
   ]
  },
  {
   "cell_type": "code",
   "execution_count": 54,
   "id": "1175e499",
   "metadata": {},
   "outputs": [],
   "source": [
    "sp_attrM = convert_sSp_tSp(x_train).to('cpu')"
   ]
  },
  {
   "cell_type": "code",
   "execution_count": null,
   "id": "8e980abd",
   "metadata": {},
   "outputs": [],
   "source": []
  },
  {
   "cell_type": "code",
   "execution_count": 55,
   "id": "7d275b0a",
   "metadata": {},
   "outputs": [],
   "source": [
    "val_labels = a_train[val_edges[:, 0], val_edges[:, 1]].A1"
   ]
  },
  {
   "cell_type": "code",
   "execution_count": 56,
   "id": "d433d07e",
   "metadata": {},
   "outputs": [
    {
     "data": {
      "text/plain": [
       "array([1., 1., 1., 1., 1., 1., 1., 1., 1., 1., 1., 1., 1., 1., 1., 1., 1.,\n",
       "       1., 1., 1., 1., 1., 1., 1., 1., 1., 1., 1., 1., 1., 1., 1., 1., 1.,\n",
       "       1., 1., 1., 1., 1., 1., 1., 1., 1., 1., 1., 1., 1., 1., 1., 1., 1.,\n",
       "       1., 1., 1., 1., 1., 1., 1., 1., 1., 1., 1., 1., 1., 1., 1., 1., 1.,\n",
       "       1., 1., 1., 1., 1., 1., 1., 1., 1., 1., 1., 1., 1., 1., 1., 1., 1.,\n",
       "       1., 1., 1., 1., 1., 1., 1., 1., 1., 1., 1., 1., 1., 1., 1., 1., 1.,\n",
       "       1., 1., 1., 1., 1., 1., 1., 1., 1., 1., 1., 1., 1., 1., 1., 1., 1.,\n",
       "       1., 1., 1., 1., 1., 1., 1., 1., 1., 1., 1., 1., 1., 1., 1., 1., 1.,\n",
       "       1., 1., 1., 1., 1., 1., 1., 1., 1., 1., 1., 1., 1., 1., 1., 1., 1.,\n",
       "       1., 1., 1., 1., 1., 1., 1., 1., 1., 1., 1., 1., 1., 1., 1., 1., 1.,\n",
       "       1., 1., 1., 1., 1., 1., 1., 1., 1., 1., 1., 1., 1., 1., 1., 1., 1.,\n",
       "       1., 1., 1., 1., 1., 1., 1., 1., 1., 1., 1., 1., 1., 1., 1., 1., 1.,\n",
       "       1., 1., 1., 1., 1., 1., 1., 1., 1., 1., 1., 1., 1., 1., 1., 1., 1.,\n",
       "       1., 1., 1., 1., 1., 1., 1., 1., 1., 1., 1., 1., 1., 1., 1., 1., 1.,\n",
       "       1., 1., 1., 1., 1., 1., 1., 1., 1., 1., 1., 1., 1., 1., 1., 1., 1.,\n",
       "       1., 1., 1., 1., 1., 1., 1., 1., 1., 1., 1., 1., 1., 1., 1., 1., 1.,\n",
       "       1., 1., 1., 1., 1., 1., 1., 1., 1., 1., 1., 1., 1., 1., 1., 1., 1.,\n",
       "       1., 1., 1., 1., 1., 1., 1., 1., 1., 1., 1., 1., 1., 1., 1., 1., 1.,\n",
       "       1., 1., 1., 1., 1., 1., 1., 1., 1., 1., 1., 1., 1., 1., 1., 1., 1.,\n",
       "       1., 1., 1., 1., 1., 1., 1., 1., 1., 1., 1., 1., 1., 1., 1., 1., 1.,\n",
       "       1., 1., 1., 1., 1., 1., 1., 1., 1., 1., 1., 1., 1., 1., 1., 1., 1.,\n",
       "       1., 1., 1., 1., 1., 1., 1., 1., 1., 1., 0., 0., 0., 0., 0., 0., 0.,\n",
       "       0., 0., 0., 0., 0., 0., 0., 0., 0., 0., 0., 0., 0., 0., 0., 0., 0.,\n",
       "       0., 0., 0., 0., 0., 0., 0., 0., 0., 0., 0., 0., 0., 0., 0., 0., 0.,\n",
       "       0., 0., 0., 0., 0., 0., 0., 0., 0., 0., 0., 0., 0., 0., 0., 0., 0.,\n",
       "       0., 0., 0., 0., 0., 0., 0., 0., 0., 0., 0., 0., 0., 0., 0., 0., 0.,\n",
       "       0., 0., 0., 0., 0., 0., 0., 0., 0., 0., 0., 0., 0., 0., 0., 0., 0.,\n",
       "       0., 0., 0., 0., 0., 0., 0., 0., 0., 0., 0., 0., 0., 0., 0., 0., 0.,\n",
       "       0., 0., 0., 0., 0., 0., 0., 0., 0., 0., 0., 0., 0., 0., 0., 0., 0.,\n",
       "       0., 0., 0., 0., 0., 0., 0., 0., 0., 0., 0., 0., 0., 0., 0., 0., 0.,\n",
       "       0., 0., 0., 0., 0., 0., 0., 0., 0., 0., 0., 0., 0., 0., 0., 0., 0.,\n",
       "       0., 0., 0., 0., 0., 0., 0., 0., 0., 0., 0., 0., 0., 0., 0., 0., 0.,\n",
       "       0., 0., 0., 0., 0., 0., 0., 0., 0., 0., 0., 0., 0., 0., 0., 0., 0.,\n",
       "       0., 0., 0., 0., 0., 0., 0., 0., 0., 0., 0., 0., 0., 0., 0., 0., 0.,\n",
       "       0., 0., 0., 0., 0., 0., 0., 0., 0., 0., 0., 0., 0., 0., 0., 0., 0.,\n",
       "       0., 0., 0., 0., 0., 0., 0., 0., 0., 0., 0., 0., 0., 0., 0., 0., 0.,\n",
       "       0., 0., 0., 0., 0., 0., 0., 0., 0., 0., 0., 0., 0., 0., 0., 0., 0.,\n",
       "       0., 0., 0., 0., 0., 0., 0., 0., 0., 0., 0., 0., 0., 0., 0., 0., 0.,\n",
       "       0., 0., 0., 0., 0., 0., 0., 0., 0., 0., 0., 0., 0., 0., 0., 0., 0.,\n",
       "       0., 0., 0., 0., 0., 0., 0., 0., 0., 0., 0., 0., 0., 0., 0., 0., 0.,\n",
       "       0., 0., 0., 0., 0., 0., 0., 0., 0., 0., 0., 0., 0., 0., 0., 0., 0.,\n",
       "       0., 0., 0., 0., 0., 0., 0., 0., 0., 0., 0., 0., 0., 0., 0., 0., 0.,\n",
       "       0., 0., 0., 0., 0., 0., 0., 0., 0., 0., 0., 0., 0., 0., 0., 0., 0.,\n",
       "       0., 0., 0.])"
      ]
     },
     "execution_count": 56,
     "metadata": {},
     "output_type": "execute_result"
    }
   ],
   "source": [
    "val_labels"
   ]
  },
  {
   "cell_type": "code",
   "execution_count": 57,
   "id": "a5c73665",
   "metadata": {},
   "outputs": [],
   "source": [
    "val_labels = a_train[val_edges[:, 0], val_edges[:, 1]].A1"
   ]
  },
  {
   "cell_type": "code",
   "execution_count": 58,
   "id": "17eda5b6",
   "metadata": {},
   "outputs": [
    {
     "data": {
      "text/plain": [
       "array([1., 1., 1., 1., 1., 1., 1., 1., 1., 1., 1., 1., 1., 1., 1., 1., 1.,\n",
       "       1., 1., 1., 1., 1., 1., 1., 1., 1., 1., 1., 1., 1., 1., 1., 1., 1.,\n",
       "       1., 1., 1., 1., 1., 1., 1., 1., 1., 1., 1., 1., 1., 1., 1., 1., 1.,\n",
       "       1., 1., 1., 1., 1., 1., 1., 1., 1., 1., 1., 1., 1., 1., 1., 1., 1.,\n",
       "       1., 1., 1., 1., 1., 1., 1., 1., 1., 1., 1., 1., 1., 1., 1., 1., 1.,\n",
       "       1., 1., 1., 1., 1., 1., 1., 1., 1., 1., 1., 1., 1., 1., 1., 1., 1.,\n",
       "       1., 1., 1., 1., 1., 1., 1., 1., 1., 1., 1., 1., 1., 1., 1., 1., 1.,\n",
       "       1., 1., 1., 1., 1., 1., 1., 1., 1., 1., 1., 1., 1., 1., 1., 1., 1.,\n",
       "       1., 1., 1., 1., 1., 1., 1., 1., 1., 1., 1., 1., 1., 1., 1., 1., 1.,\n",
       "       1., 1., 1., 1., 1., 1., 1., 1., 1., 1., 1., 1., 1., 1., 1., 1., 1.,\n",
       "       1., 1., 1., 1., 1., 1., 1., 1., 1., 1., 1., 1., 1., 1., 1., 1., 1.,\n",
       "       1., 1., 1., 1., 1., 1., 1., 1., 1., 1., 1., 1., 1., 1., 1., 1., 1.,\n",
       "       1., 1., 1., 1., 1., 1., 1., 1., 1., 1., 1., 1., 1., 1., 1., 1., 1.,\n",
       "       1., 1., 1., 1., 1., 1., 1., 1., 1., 1., 1., 1., 1., 1., 1., 1., 1.,\n",
       "       1., 1., 1., 1., 1., 1., 1., 1., 1., 1., 1., 1., 1., 1., 1., 1., 1.,\n",
       "       1., 1., 1., 1., 1., 1., 1., 1., 1., 1., 1., 1., 1., 1., 1., 1., 1.,\n",
       "       1., 1., 1., 1., 1., 1., 1., 1., 1., 1., 1., 1., 1., 1., 1., 1., 1.,\n",
       "       1., 1., 1., 1., 1., 1., 1., 1., 1., 1., 1., 1., 1., 1., 1., 1., 1.,\n",
       "       1., 1., 1., 1., 1., 1., 1., 1., 1., 1., 1., 1., 1., 1., 1., 1., 1.,\n",
       "       1., 1., 1., 1., 1., 1., 1., 1., 1., 1., 1., 1., 1., 1., 1., 1., 1.,\n",
       "       1., 1., 1., 1., 1., 1., 1., 1., 1., 1., 1., 1., 1., 1., 1., 1., 1.,\n",
       "       1., 1., 1., 1., 1., 1., 1., 1., 1., 1., 0., 0., 0., 0., 0., 0., 0.,\n",
       "       0., 0., 0., 0., 0., 0., 0., 0., 0., 0., 0., 0., 0., 0., 0., 0., 0.,\n",
       "       0., 0., 0., 0., 0., 0., 0., 0., 0., 0., 0., 0., 0., 0., 0., 0., 0.,\n",
       "       0., 0., 0., 0., 0., 0., 0., 0., 0., 0., 0., 0., 0., 0., 0., 0., 0.,\n",
       "       0., 0., 0., 0., 0., 0., 0., 0., 0., 0., 0., 0., 0., 0., 0., 0., 0.,\n",
       "       0., 0., 0., 0., 0., 0., 0., 0., 0., 0., 0., 0., 0., 0., 0., 0., 0.,\n",
       "       0., 0., 0., 0., 0., 0., 0., 0., 0., 0., 0., 0., 0., 0., 0., 0., 0.,\n",
       "       0., 0., 0., 0., 0., 0., 0., 0., 0., 0., 0., 0., 0., 0., 0., 0., 0.,\n",
       "       0., 0., 0., 0., 0., 0., 0., 0., 0., 0., 0., 0., 0., 0., 0., 0., 0.,\n",
       "       0., 0., 0., 0., 0., 0., 0., 0., 0., 0., 0., 0., 0., 0., 0., 0., 0.,\n",
       "       0., 0., 0., 0., 0., 0., 0., 0., 0., 0., 0., 0., 0., 0., 0., 0., 0.,\n",
       "       0., 0., 0., 0., 0., 0., 0., 0., 0., 0., 0., 0., 0., 0., 0., 0., 0.,\n",
       "       0., 0., 0., 0., 0., 0., 0., 0., 0., 0., 0., 0., 0., 0., 0., 0., 0.,\n",
       "       0., 0., 0., 0., 0., 0., 0., 0., 0., 0., 0., 0., 0., 0., 0., 0., 0.,\n",
       "       0., 0., 0., 0., 0., 0., 0., 0., 0., 0., 0., 0., 0., 0., 0., 0., 0.,\n",
       "       0., 0., 0., 0., 0., 0., 0., 0., 0., 0., 0., 0., 0., 0., 0., 0., 0.,\n",
       "       0., 0., 0., 0., 0., 0., 0., 0., 0., 0., 0., 0., 0., 0., 0., 0., 0.,\n",
       "       0., 0., 0., 0., 0., 0., 0., 0., 0., 0., 0., 0., 0., 0., 0., 0., 0.,\n",
       "       0., 0., 0., 0., 0., 0., 0., 0., 0., 0., 0., 0., 0., 0., 0., 0., 0.,\n",
       "       0., 0., 0., 0., 0., 0., 0., 0., 0., 0., 0., 0., 0., 0., 0., 0., 0.,\n",
       "       0., 0., 0., 0., 0., 0., 0., 0., 0., 0., 0., 0., 0., 0., 0., 0., 0.,\n",
       "       0., 0., 0., 0., 0., 0., 0., 0., 0., 0., 0., 0., 0., 0., 0., 0., 0.,\n",
       "       0., 0., 0.])"
      ]
     },
     "execution_count": 58,
     "metadata": {},
     "output_type": "execute_result"
    }
   ],
   "source": [
    "val_labels"
   ]
  },
  {
   "cell_type": "code",
   "execution_count": 59,
   "id": "963d40b6",
   "metadata": {},
   "outputs": [],
   "source": [
    "def get_train_data(A_train, batch_size,tv_edges,inductive):\n",
    "    nodes = []\n",
    "    labels = []\n",
    "    tmp_A = A_train.tolil()\n",
    "    \n",
    "    nodeNum = A_train.shape[0]\n",
    "    \n",
    "    if not inductive:\n",
    "        forbidden_Matrix = sp.lil_matrix(A_train.shape)\n",
    "        forbidden_Matrix[tv_edges[:,0],tv_edges[:,1]] = 1\n",
    "        while True:\n",
    "            a = random.randint(0,nodeNum-1)\n",
    "            b = random.randint(0,nodeNum-1)\n",
    "            if not(forbidden_Matrix[a,b]):\n",
    "                nodes.append([a,b])\n",
    "                if tmp_A[a,b]:\n",
    "                    labels.append(1)\n",
    "                else:\n",
    "                    labels.append(0)\n",
    "\n",
    "            if len(tmp_A.rows[a]):    \n",
    "                neigh = np.random.choice(tmp_A.rows[a])\n",
    "                if not(forbidden_Matrix[a,neigh]):\n",
    "                    nodes.append([a,neigh])\n",
    "                    labels.append(1)\n",
    "\n",
    "            if len(labels) >= batch_size:\n",
    "                yield torch.LongTensor(nodes), torch.LongTensor(labels)\n",
    "                del nodes[:]\n",
    "                del labels[:]\n",
    "    else:\n",
    "        while True:\n",
    "            a = random.randint(0,nodeNum-1)\n",
    "            b = random.randint(0,nodeNum-1)\n",
    "            nodes.append([a,b])\n",
    "            if tmp_A[a,b]:\n",
    "                labels.append(1)\n",
    "            else:\n",
    "                labels.append(0)\n",
    "\n",
    "            if len(tmp_A.rows[a]):    \n",
    "                neigh = np.random.choice(tmp_A.rows[a])\n",
    "                nodes.append([a,neigh])\n",
    "                labels.append(1)\n",
    "\n",
    "            if len(labels) >= batch_size:\n",
    "                yield torch.LongTensor(nodes), torch.LongTensor(labels)\n",
    "                del nodes[:]\n",
    "                del labels[:]"
   ]
  },
  {
   "cell_type": "code",
   "execution_count": 60,
   "id": "780ba5a2",
   "metadata": {},
   "outputs": [],
   "source": [
    "data_loader = iter(get_train_data(a_train, int(x_train.shape[0] *0.2),np.vstack((test_edges,val_edges)),True))"
   ]
  },
  {
   "cell_type": "code",
   "execution_count": 61,
   "id": "420181d4",
   "metadata": {},
   "outputs": [
    {
     "data": {
      "text/plain": [
       "<generator object get_train_data at 0x000001E00C0E5C48>"
      ]
     },
     "execution_count": 61,
     "metadata": {},
     "output_type": "execute_result"
    }
   ],
   "source": [
    "data_loader"
   ]
  },
  {
   "cell_type": "code",
   "execution_count": 62,
   "id": "d6eeb5dc",
   "metadata": {},
   "outputs": [],
   "source": [
    "import random"
   ]
  },
  {
   "cell_type": "code",
   "execution_count": 63,
   "id": "8932e2fd",
   "metadata": {},
   "outputs": [],
   "source": [
    "inputs, labels = next(data_loader)"
   ]
  },
  {
   "cell_type": "code",
   "execution_count": 64,
   "id": "65294804",
   "metadata": {},
   "outputs": [
    {
     "data": {
      "text/plain": [
       "(tensor([[2542,  277],\n",
       "         [2112,   95],\n",
       "         [1537,  269],\n",
       "         ...,\n",
       "         [1791, 2365],\n",
       "         [1546, 2121],\n",
       "         [1546, 1611]]),\n",
       " tensor([0, 0, 0, 1, 0, 1, 0, 1, 0, 1, 0, 0, 0, 0, 1, 0, 1, 0, 1, 0, 1, 0, 1, 0,\n",
       "         1, 0, 1, 0, 1, 0, 0, 1, 0, 0, 0, 0, 1, 0, 1, 0, 0, 1, 0, 0, 1, 0, 1, 0,\n",
       "         0, 0, 1, 0, 0, 1, 0, 1, 0, 1, 0, 1, 0, 1, 0, 1, 0, 1, 0, 0, 1, 0, 0, 1,\n",
       "         0, 1, 0, 1, 0, 0, 1, 0, 1, 0, 1, 0, 0, 0, 1, 0, 1, 0, 1, 0, 0, 1, 0, 1,\n",
       "         0, 1, 0, 0, 1, 0, 0, 1, 0, 1, 0, 1, 0, 1, 0, 1, 0, 1, 0, 1, 0, 0, 0, 0,\n",
       "         0, 0, 1, 0, 0, 1, 0, 0, 1, 0, 0, 1, 0, 1, 0, 0, 1, 0, 0, 0, 1, 0, 1, 0,\n",
       "         0, 1, 0, 0, 1, 0, 1, 0, 1, 0, 1, 0, 0, 0, 1, 0, 1, 0, 1, 0, 1, 0, 1, 0,\n",
       "         1, 0, 0, 0, 1, 0, 1, 0, 1, 0, 1, 0, 0, 1, 0, 0, 1, 0, 1, 0, 1, 0, 1, 0,\n",
       "         1, 0, 0, 0, 0, 0, 0, 0, 1, 0, 1, 0, 1, 0, 1, 0, 1, 0, 0, 1, 0, 1, 0, 1,\n",
       "         0, 1, 0, 0, 1, 0, 1, 0, 0, 0, 1, 0, 0, 0, 0, 1, 0, 0, 1, 0, 0, 1, 0, 1,\n",
       "         0, 1, 0, 1, 0, 0, 1, 0, 1, 0, 1, 0, 0, 1, 0, 1, 0, 1, 0, 1, 0, 0, 0, 1,\n",
       "         0, 1, 0, 0, 1, 0, 1, 0, 0, 0, 1, 0, 1, 0, 1, 0, 0, 1, 0, 1, 0, 0, 0, 1,\n",
       "         0, 0, 0, 1, 0, 1, 0, 0, 1, 0, 1, 0, 1, 0, 0, 1, 0, 1, 0, 1, 0, 1, 0, 1,\n",
       "         0, 1, 0, 1, 0, 0, 0, 0, 1, 0, 1, 0, 1, 0, 0, 0, 1, 0, 1, 0, 1, 0, 1, 0,\n",
       "         0, 0, 1, 0, 1, 0, 1, 0, 0, 1, 0, 0, 0, 1, 0, 1, 0, 0, 0, 1, 0, 1, 0, 1,\n",
       "         0, 1, 0, 1, 0, 1, 0, 1, 0, 1, 0, 1, 0, 1, 0, 1, 0, 1, 0, 1, 0, 0, 0, 1,\n",
       "         0, 1, 0, 1, 0, 0, 1, 0, 0, 0, 1, 0, 1, 0, 0, 1, 0, 1, 0, 0, 1, 0, 0, 0,\n",
       "         1, 0, 0, 0, 1, 0, 1, 0, 1, 0, 1, 0, 1, 0, 1, 0, 1, 0, 1, 0, 0, 0, 1, 0,\n",
       "         1, 0, 0, 0, 1, 0, 0, 0, 1, 0, 0, 1, 0, 0, 0, 1, 0, 0, 1, 0, 0, 1, 0, 0,\n",
       "         1, 0, 1, 0, 1, 0, 0, 1, 0, 1, 0, 0, 1, 0, 1, 0, 0, 1, 0, 1, 0, 1, 0, 1,\n",
       "         0, 1, 0, 0, 0, 0, 1, 0, 1, 0, 1, 0, 0, 1, 0, 1, 0, 1, 0, 0, 1, 0, 1, 0,\n",
       "         0, 0, 1, 0, 0, 0, 1, 0, 1, 0, 1, 0, 1, 0, 1, 0, 1, 0, 0, 1, 0, 0, 1, 0,\n",
       "         0, 1, 0, 0, 1, 0, 0, 1, 0, 1, 0, 1, 0, 1, 0, 1, 0, 1, 0, 1, 0, 1, 0, 0,\n",
       "         1, 0, 1, 0, 1, 0, 0, 1, 0, 1, 0, 1]))"
      ]
     },
     "execution_count": 64,
     "metadata": {},
     "output_type": "execute_result"
    }
   ],
   "source": [
    "inputs , labels"
   ]
  },
  {
   "cell_type": "code",
   "execution_count": 65,
   "id": "3cc5b006",
   "metadata": {},
   "outputs": [
    {
     "data": {
      "text/plain": [
       "564"
      ]
     },
     "execution_count": 65,
     "metadata": {},
     "output_type": "execute_result"
    }
   ],
   "source": [
    "inputs , labels = next(data_loader)\n",
    "len(inputs)"
   ]
  },
  {
   "cell_type": "code",
   "execution_count": 66,
   "id": "321fe196",
   "metadata": {},
   "outputs": [
    {
     "data": {
      "text/plain": [
       "tensor([0, 0, 1, 0, 1, 0, 0, 0, 0, 1, 0, 0, 0, 1, 0, 1, 0, 1, 0, 0, 1, 0, 1, 0,\n",
       "        1, 0, 0, 0, 1, 0, 0, 1, 0, 1, 0, 1, 0, 1, 0, 1, 0, 1, 0, 1, 0, 1, 0, 0,\n",
       "        0, 1, 0, 0, 0, 1, 0, 0, 1, 0, 1, 0, 0, 1, 0, 1, 0, 0, 1, 0, 0, 1, 0, 1,\n",
       "        0, 1, 0, 1, 0, 0, 1, 0, 1, 0, 1, 0, 1, 0, 0, 1, 0, 1, 0, 0, 1, 0, 0, 1,\n",
       "        0, 1, 0, 1, 0, 1, 0, 1, 0, 1, 0, 1, 0, 0, 1, 0, 1, 0, 1, 0, 0, 1, 0, 1,\n",
       "        0, 0, 1, 0, 0, 0, 1, 0, 1, 0, 0, 0, 1, 0, 1, 0, 0, 1, 0, 1, 0, 1, 0, 0,\n",
       "        1, 0, 1, 0, 1, 0, 1, 0, 1, 0, 1, 0, 1, 0, 1, 0, 1, 0, 1, 0, 0, 0, 1, 0,\n",
       "        1, 0, 1, 0, 0, 1, 0, 1, 0, 1, 0, 1, 0, 0, 0, 1, 0, 1, 0, 0, 1, 0, 1, 0,\n",
       "        0, 0, 1, 0, 1, 0, 1, 0, 1, 0, 1, 0, 0, 1, 0, 0, 0, 1, 0, 1, 0, 1, 0, 0,\n",
       "        1, 0, 1, 0, 1, 0, 1, 0, 1, 0, 1, 0, 1, 0, 1, 0, 1, 0, 0, 0, 1, 0, 1, 0,\n",
       "        0, 0, 1, 0, 1, 0, 1, 0, 0, 1, 0, 1, 0, 1, 0, 1, 0, 1, 0, 1, 0, 1, 0, 0,\n",
       "        1, 0, 1, 0, 1, 0, 1, 0, 1, 0, 1, 0, 1, 0, 1, 0, 0, 1, 0, 1, 0, 0, 1, 0,\n",
       "        1, 0, 1, 0, 1, 0, 1, 0, 1, 0, 0, 1, 0, 0, 1, 0, 1, 0, 1, 0, 1, 0, 1, 0,\n",
       "        1, 0, 1, 0, 0, 1, 0, 0, 1, 0, 1, 0, 1, 0, 1, 0, 1, 0, 1, 0, 1, 0, 1, 0,\n",
       "        0, 1, 0, 1, 0, 1, 0, 1, 0, 1, 0, 0, 1, 0, 0, 0, 1, 0, 1, 0, 0, 1, 0, 1,\n",
       "        0, 0, 0, 1, 0, 1, 0, 1, 0, 1, 0, 0, 1, 0, 0, 1, 0, 0, 1, 0, 1, 0, 0, 1,\n",
       "        0, 1, 0, 1, 0, 0, 1, 0, 1, 0, 0, 1, 0, 0, 0, 1, 0, 1, 0, 1, 0, 1, 0, 0,\n",
       "        0, 1, 0, 1, 0, 0, 1, 0, 1, 0, 1, 0, 1, 0, 0, 1, 0, 1, 0, 1, 0, 1, 0, 1,\n",
       "        0, 1, 0, 0, 1, 0, 0, 0, 0, 1, 0, 0, 1, 0, 1, 0, 1, 0, 1, 0, 0, 1, 0, 0,\n",
       "        0, 1, 0, 0, 1, 0, 0, 1, 0, 1, 0, 1, 0, 0, 1, 0, 0, 0, 0, 1, 0, 0, 1, 0,\n",
       "        0, 0, 1, 0, 1, 0, 1, 0, 0, 1, 0, 0, 1, 0, 1, 0, 1, 0, 1, 0, 0, 0, 0, 0,\n",
       "        0, 1, 0, 0, 0, 0, 0, 0, 1, 0, 1, 0, 0, 0, 1, 0, 0, 1, 0, 1, 0, 1, 0, 0,\n",
       "        1, 0, 1, 0, 1, 0, 1, 0, 1, 0, 0, 1, 0, 0, 0, 1, 0, 1, 0, 1, 0, 1, 0, 1,\n",
       "        0, 1, 0, 1, 0, 1, 0, 0, 0, 1, 0, 1])"
      ]
     },
     "execution_count": 66,
     "metadata": {},
     "output_type": "execute_result"
    }
   ],
   "source": [
    "labels"
   ]
  },
  {
   "cell_type": "code",
   "execution_count": 67,
   "id": "cf39a3c7",
   "metadata": {},
   "outputs": [],
   "source": [
    "op , oq = next(data_loader)"
   ]
  },
  {
   "cell_type": "code",
   "execution_count": 68,
   "id": "48aa00b0",
   "metadata": {},
   "outputs": [
    {
     "data": {
      "text/plain": [
       "(tensor([[ 974, 2722],\n",
       "         [2660,  216],\n",
       "         [1117, 1447],\n",
       "         ...,\n",
       "         [1072, 1431],\n",
       "         [1049, 1393],\n",
       "         [1049, 2426]]),\n",
       " tensor([0, 0, 0, 1, 0, 1, 0, 1, 0, 0, 1, 0, 0, 1, 0, 1, 0, 0, 0, 0, 1, 0, 1, 0,\n",
       "         1, 0, 1, 0, 1, 0, 0, 0, 1, 0, 1, 0, 1, 0, 1, 0, 0, 1, 0, 1, 0, 1, 0, 0,\n",
       "         1, 0, 1, 0, 1, 0, 1, 0, 0, 0, 1, 0, 1, 0, 0, 1, 0, 0, 0, 1, 0, 1, 0, 1,\n",
       "         0, 1, 0, 0, 0, 0, 1, 0, 1, 0, 1, 0, 1, 0, 1, 0, 1, 0, 1, 0, 1, 0, 1, 0,\n",
       "         0, 1, 0, 1, 0, 1, 0, 1, 0, 1, 0, 1, 0, 1, 0, 0, 0, 1, 0, 1, 0, 1, 0, 1,\n",
       "         0, 0, 0, 1, 0, 0, 0, 1, 0, 1, 0, 1, 0, 1, 0, 0, 1, 0, 0, 1, 0, 1, 0, 0,\n",
       "         0, 1, 0, 1, 0, 1, 0, 0, 1, 0, 0, 1, 0, 1, 0, 0, 0, 1, 0, 0, 1, 0, 1, 0,\n",
       "         1, 0, 1, 0, 1, 0, 0, 0, 1, 0, 1, 0, 1, 0, 0, 1, 0, 1, 0, 1, 0, 0, 0, 1,\n",
       "         0, 0, 1, 0, 0, 0, 1, 0, 1, 0, 0, 0, 0, 1, 0, 1, 0, 0, 0, 1, 0, 1, 0, 0,\n",
       "         1, 0, 0, 1, 0, 1, 0, 1, 0, 1, 0, 0, 1, 0, 1, 0, 1, 0, 1, 0, 1, 0, 0, 1,\n",
       "         0, 1, 0, 0, 1, 0, 1, 0, 0, 1, 0, 1, 0, 1, 0, 1, 0, 1, 0, 0, 0, 1, 0, 0,\n",
       "         1, 0, 0, 1, 0, 0, 1, 0, 0, 0, 1, 0, 1, 0, 1, 0, 1, 0, 1, 0, 0, 1, 0, 1,\n",
       "         0, 1, 0, 1, 0, 1, 0, 1, 0, 1, 0, 1, 0, 1, 0, 1, 0, 1, 0, 1, 0, 0, 0, 1,\n",
       "         0, 1, 0, 0, 0, 1, 0, 0, 1, 0, 1, 0, 0, 1, 0, 0, 0, 1, 0, 1, 0, 1, 0, 0,\n",
       "         1, 0, 1, 0, 0, 0, 1, 0, 1, 0, 1, 0, 1, 0, 1, 0, 1, 0, 0, 0, 0, 1, 0, 1,\n",
       "         0, 1, 0, 1, 0, 1, 0, 0, 0, 0, 1, 0, 0, 0, 0, 0, 0, 0, 1, 0, 0, 1, 0, 0,\n",
       "         0, 1, 0, 0, 0, 1, 0, 1, 0, 0, 1, 0, 1, 0, 0, 1, 0, 0, 1, 0, 1, 0, 0, 0,\n",
       "         0, 1, 0, 1, 0, 1, 0, 1, 0, 1, 0, 1, 0, 1, 0, 1, 0, 0, 0, 1, 0, 1, 0, 1,\n",
       "         0, 1, 0, 1, 0, 0, 0, 1, 0, 1, 0, 1, 0, 1, 0, 0, 1, 0, 0, 1, 0, 1, 0, 1,\n",
       "         0, 0, 1, 0, 1, 0, 1, 0, 1, 0, 1, 0, 1, 0, 0, 0, 0, 1, 0, 1, 0, 0, 1, 0,\n",
       "         0, 1, 0, 0, 1, 0, 1, 0, 0, 0, 1, 0, 0, 1, 0, 1, 0, 1, 0, 1, 0, 1, 0, 1,\n",
       "         0, 1, 0, 1, 0, 1, 0, 1, 0, 0, 0, 0, 0, 1, 0, 1, 0, 0, 0, 1, 0, 1, 0, 1,\n",
       "         0, 1, 0, 1, 0, 0, 0, 0, 0, 0, 1, 0, 0, 1, 0, 0, 1, 0, 1, 0, 0, 1, 0, 1,\n",
       "         0, 1, 0, 1, 0, 1, 0, 0, 1, 0, 1, 0, 1]))"
      ]
     },
     "execution_count": 68,
     "metadata": {},
     "output_type": "execute_result"
    }
   ],
   "source": [
    "op , oq"
   ]
  },
  {
   "cell_type": "code",
   "execution_count": 69,
   "id": "d3f734b8",
   "metadata": {},
   "outputs": [],
   "source": [
    "v = a_train.tolil()"
   ]
  },
  {
   "cell_type": "code",
   "execution_count": 70,
   "id": "401f3060",
   "metadata": {},
   "outputs": [
    {
     "data": {
      "text/plain": [
       "[549]"
      ]
     },
     "execution_count": 70,
     "metadata": {},
     "output_type": "execute_result"
    }
   ],
   "source": [
    "v.rows[0]"
   ]
  },
  {
   "cell_type": "code",
   "execution_count": 71,
   "id": "00fa81e7",
   "metadata": {},
   "outputs": [
    {
     "data": {
      "text/plain": [
       "564"
      ]
     },
     "execution_count": 71,
     "metadata": {},
     "output_type": "execute_result"
    }
   ],
   "source": [
    "int(0.2 * 2824)"
   ]
  },
  {
   "cell_type": "code",
   "execution_count": 72,
   "id": "a6e43b59",
   "metadata": {},
   "outputs": [
    {
     "data": {
      "text/plain": [
       "565"
      ]
     },
     "execution_count": 72,
     "metadata": {},
     "output_type": "execute_result"
    }
   ],
   "source": [
    "inputs,labels=next(data_loader)\n",
    "len(inputs)"
   ]
  },
  {
   "cell_type": "code",
   "execution_count": 73,
   "id": "322c7aac",
   "metadata": {},
   "outputs": [],
   "source": [
    "class Data:\n",
    "    x = None\n",
    "    edge_index =None\n",
    "    anchorset_id = None\n",
    "    dists_max = None\n",
    "    dists_argmax = None\n",
    "    dists = None\n",
    "    def __init__(self, x, edge_index, dists_max = None, dists_argmax = None, dists = None):\n",
    "        self.x = x\n",
    "        self.edge_index = edge_index\n",
    "        self.dists_max = dists_max\n",
    "        self.dists_argmax = dists_argmax\n",
    "    def copy(self):\n",
    "        return Data(self.x, self.edge_index,\n",
    "                    self.dists_max if not self.dists_max is None else None,\n",
    "                    self.dists_argmax if not self.dists_argmax is None else None,\n",
    "                    self.dists if not self.dists is None else None)"
   ]
  },
  {
   "cell_type": "code",
   "execution_count": 74,
   "id": "46c3d63c",
   "metadata": {},
   "outputs": [],
   "source": [
    "def convert_sSp_tSp(x):\n",
    "    coo = x.tocoo()\n",
    "    values = coo.data\n",
    "    indices = np.vstack((coo.row, coo.col))\n",
    "    i = torch.LongTensor(indices)\n",
    "    v = torch.FloatTensor(values)\n",
    "    shape = coo.shape\n",
    "    return torch.sparse.FloatTensor(i, v, torch.Size(shape))"
   ]
  },
  {
   "cell_type": "code",
   "execution_count": 75,
   "id": "674bcad5",
   "metadata": {},
   "outputs": [],
   "source": [
    "data = Data(convert_sSp_tSp(x_train).to_dense().to('cpu'), torch.LongTensor(train_ones.T).to('cpu'))"
   ]
  },
  {
   "cell_type": "code",
   "execution_count": 76,
   "id": "0f3f47de",
   "metadata": {},
   "outputs": [
    {
     "data": {
      "text/plain": [
       "tensor([[0., 0., 0.,  ..., 0., 0., 0.],\n",
       "        [0., 0., 0.,  ..., 0., 0., 0.],\n",
       "        [0., 0., 0.,  ..., 0., 0., 0.],\n",
       "        ...,\n",
       "        [0., 0., 0.,  ..., 0., 0., 0.],\n",
       "        [0., 0., 0.,  ..., 0., 0., 0.],\n",
       "        [0., 0., 0.,  ..., 0., 0., 0.]])"
      ]
     },
     "execution_count": 76,
     "metadata": {},
     "output_type": "execute_result"
    }
   ],
   "source": [
    "L = x_train\n",
    "coo = L.tocoo()\n",
    "values = coo.data\n",
    "indices = np.vstack((coo.row, coo.col))\n",
    "i = torch.LongTensor(indices)\n",
    "v = torch.FloatTensor(values)\n",
    "shape = coo.shape\n",
    "torch.sparse.FloatTensor(i, v, torch.Size(shape)).to_dense().to('cpu')"
   ]
  },
  {
   "cell_type": "code",
   "execution_count": 77,
   "id": "bc681aef",
   "metadata": {},
   "outputs": [
    {
     "data": {
      "text/plain": [
       "array([[1171, 1368, 1205, ..., 2762, 2816, 2819],\n",
       "       [2018, 2557, 2399, ..., 2784, 2817, 2820]])"
      ]
     },
     "execution_count": 77,
     "metadata": {},
     "output_type": "execute_result"
    }
   ],
   "source": [
    "train_ones.T"
   ]
  },
  {
   "cell_type": "code",
   "execution_count": 78,
   "id": "738b054a",
   "metadata": {},
   "outputs": [
    {
     "data": {
      "text/plain": [
       "1.0"
      ]
     },
     "execution_count": 78,
     "metadata": {},
     "output_type": "execute_result"
    }
   ],
   "source": [
    "coo.toarray()[0,3647]"
   ]
  },
  {
   "cell_type": "code",
   "execution_count": 79,
   "id": "2623fc70",
   "metadata": {},
   "outputs": [
    {
     "data": {
      "text/plain": [
       "array([[   0,    0,    0, ..., 2823, 2823, 2823],\n",
       "       [3647, 3548, 3502, ...,  223,  169,   87]])"
      ]
     },
     "execution_count": 79,
     "metadata": {},
     "output_type": "execute_result"
    }
   ],
   "source": [
    "indices"
   ]
  },
  {
   "cell_type": "code",
   "execution_count": 80,
   "id": "3c2aabf4",
   "metadata": {},
   "outputs": [
    {
     "data": {
      "text/plain": [
       "<__main__.Data at 0x1e00eba7a48>"
      ]
     },
     "execution_count": 80,
     "metadata": {},
     "output_type": "execute_result"
    }
   ],
   "source": [
    "data"
   ]
  },
  {
   "cell_type": "code",
   "execution_count": 81,
   "id": "7ab0ebf5",
   "metadata": {},
   "outputs": [],
   "source": [
    "data.dists"
   ]
  },
  {
   "cell_type": "code",
   "execution_count": 82,
   "id": "5b768b23",
   "metadata": {},
   "outputs": [
    {
     "data": {
      "text/plain": [
       "array([[2016, 2018],\n",
       "       [1242, 2753],\n",
       "       [1747, 2020],\n",
       "       ...,\n",
       "       [2142, 1823],\n",
       "       [2143, 1026],\n",
       "       [2144, 1908]], dtype=int64)"
      ]
     },
     "execution_count": 82,
     "metadata": {},
     "output_type": "execute_result"
    }
   ],
   "source": [
    "val_edges"
   ]
  },
  {
   "cell_type": "code",
   "execution_count": 83,
   "id": "35b72158",
   "metadata": {},
   "outputs": [
    {
     "data": {
      "text/plain": [
       "array([2016, 1242, 1747,   52,  663,  326,  923,   24,  724, 1805,  810,\n",
       "        558, 1260, 1426, 2238, 1205, 2110, 1568, 1197,  609,  745,  435,\n",
       "       2104, 1205,   39,  394,  388,  236,  149, 1120,   96, 1147,  880,\n",
       "        950,  663,  388, 1882, 1408,  124,  663,  122, 1205, 1212, 1751,\n",
       "       1205, 1990,   86,  132,   88, 1326, 1964, 1084,  756,  135,  201,\n",
       "       2196,   22,  610,  160,  516,   18,  929, 2181,  884,  729,  236,\n",
       "        895, 1287,  135,  318, 1709, 1226, 2303,  737,  579,  766,  202,\n",
       "         42, 1225,  663,  429, 1467, 1412,  792, 1993, 1927, 1964,  675,\n",
       "        538, 1039, 1410, 2498, 2152,  495, 1615, 1591, 1278, 1670,  964,\n",
       "        139, 1552,  868, 1962, 2012,  579, 2264,  555,  863, 1735, 2123,\n",
       "       1710,  165,  850,  824,   39,   15, 1212,  141,  663,  584,  956,\n",
       "       1205,   67,  122, 2120,  137, 1315, 1426,  196,   24,  476, 1858,\n",
       "       1671,  412,  200,  363, 1198,   74, 2659, 1371, 1050,  773,  542,\n",
       "       1506, 1326,  950,  747,  798, 1340,   15,  950,   98,  768,  976,\n",
       "       1382,  548,  702, 1560,  748, 1337,  476,  861,   88,  594, 1103,\n",
       "       1863,  847,  223,  124, 1075,  336, 1251,  485,  873, 1200,  202,\n",
       "       1118, 1049,   53, 1375, 1966,  507, 1138,  199, 1496,  378,  329,\n",
       "       1011, 1205, 2026, 1004,  196,  663,  956, 1009,   17,  921,  212,\n",
       "        619,   11,  735,  884,   51,  624,  883, 2365,  894,  884,  628,\n",
       "       1252,  443,  138,  969,  587,  476,   74,  584,  773, 1462,   54,\n",
       "        271,   87, 1678,   15, 1212, 2066,  434,  267, 1371,  277,  135,\n",
       "        766,  267,  821, 1437, 1546,  277, 2036,  663, 1160, 1665,  185,\n",
       "       1538, 1031,  935, 1326, 1641,  122, 1487, 1182,  440, 2015,  271,\n",
       "        765,  568,  634,  793, 1049, 1606,  965, 2010, 1006,  735,  820,\n",
       "        958, 2231,  885,  807,  622,  223,  135,   49,  502,  765, 1450,\n",
       "        490,  293, 2104,   52,  922,  320,  626,  953, 2052,  201,   29,\n",
       "       1196,  185,  748, 2219, 1320,  884, 1555,  277,  234,  195,  604,\n",
       "       1357, 1426, 2110,  893, 2178,   85,  659,   15, 1011,  745, 1337,\n",
       "        391,  544,   99,  172,  562,  429,  429,  511,  548, 1112, 1146,\n",
       "        311,  765,  969,  538,  653, 2274, 1004,   54,  710,  333, 1300,\n",
       "       2011, 1692,  603,  824,   72, 2140,  622,   40,  705,  419, 1642,\n",
       "        706, 1529,  123,   51,  430, 1353,  558,  215, 1228,  476, 1342,\n",
       "        909,  476, 1903, 1805,  196, 1724,  868, 1205, 1686,  605,  688,\n",
       "       1025, 1578,  438,  544,    0,    6,   11,   13,   26,   40,   43,\n",
       "         47,   48,   52,   54,   58,   59,   62,   67,   73,   75,   77,\n",
       "         80,   80,   81,   84,  103,  105,  106,  107,  108,  119,  121,\n",
       "        123,  126,  127,  131,  145,  145,  163,  164,  176,  187,  198,\n",
       "        228,  231,  236,  250,  251,  254,  254,  255,  267,  267,  268,\n",
       "        274,  275,  297,  300,  303,  331,  340,  340,  344,  344,  353,\n",
       "        357,  357,  359,  360,  362,  366,  367,  375,  377,  385,  387,\n",
       "        392,  395,  407,  419,  425,  433,  438,  445,  448,  466,  468,\n",
       "        474,  475,  478,  492,  494,  497,  503,  505,  508,  511,  513,\n",
       "        515,  518,  525,  529,  540,  544,  557,  561,  563,  585,  588,\n",
       "        588,  595,  600,  602,  609,  611,  618,  627,  632,  637,  646,\n",
       "        653,  672,  676,  681,  696,  697,  701,  702,  715,  717,  723,\n",
       "        732,  746,  750,  762,  772,  777,  781,  784,  795,  797,  802,\n",
       "        813,  814,  837,  838,  839,  846,  855,  855,  855,  859,  859,\n",
       "        860,  865,  884,  884,  886,  902,  903,  908,  909,  909,  912,\n",
       "        919,  921,  930,  937,  943,  956,  966,  966,  968,  968,  969,\n",
       "        970,  972,  975,  984,  993,  999, 1000, 1007, 1016, 1017, 1019,\n",
       "       1025, 1026, 1027, 1036, 1038, 1041, 1045, 1048, 1052, 1058, 1058,\n",
       "       1063, 1079, 1086, 1089, 1094, 1099, 1106, 1112, 1124, 1131, 1134,\n",
       "       1136, 1137, 1147, 1151, 1154, 1157, 1158, 1164, 1187, 1194, 1210,\n",
       "       1213, 1215, 1217, 1225, 1228, 1252, 1253, 1257, 1257, 1264, 1268,\n",
       "       1278, 1289, 1296, 1301, 1305, 1307, 1307, 1311, 1318, 1341, 1348,\n",
       "       1352, 1372, 1372, 1375, 1378, 1388, 1394, 1395, 1396, 1397, 1413,\n",
       "       1435, 1435, 1443, 1449, 1449, 1454, 1462, 1462, 1467, 1528, 1548,\n",
       "       1554, 1555, 1570, 1583, 1584, 1587, 1588, 1603, 1604, 1605, 1609,\n",
       "       1612, 1614, 1619, 1627, 1633, 1633, 1636, 1648, 1656, 1660, 1681,\n",
       "       1689, 1693, 1694, 1714, 1717, 1723, 1724, 1727, 1728, 1734, 1735,\n",
       "       1737, 1751, 1756, 1758, 1762, 1764, 1773, 1782, 1782, 1782, 1788,\n",
       "       1792, 1795, 1802, 1810, 1818, 1832, 1841, 1846, 1851, 1854, 1866,\n",
       "       1878, 1885, 1890, 1893, 1899, 1903, 1905, 1911, 1914, 1915, 1915,\n",
       "       1917, 1918, 1923, 1925, 1925, 1930, 1935, 1945, 1947, 1948, 1959,\n",
       "       1959, 1967, 1970, 1973, 1978, 1987, 1994, 2000, 2004, 2005, 2020,\n",
       "       2025, 2031, 2039, 2041, 2042, 2050, 2055, 2057, 2064, 2077, 2077,\n",
       "       2109, 2116, 2127, 2132, 2135, 2142, 2143, 2144], dtype=int64)"
      ]
     },
     "execution_count": 83,
     "metadata": {},
     "output_type": "execute_result"
    }
   ],
   "source": [
    "val_edges[:,0]"
   ]
  },
  {
   "cell_type": "code",
   "execution_count": null,
   "id": "3d31d7c6",
   "metadata": {},
   "outputs": [],
   "source": []
  },
  {
   "cell_type": "code",
   "execution_count": null,
   "id": "a3009baf",
   "metadata": {},
   "outputs": [],
   "source": []
  },
  {
   "cell_type": "code",
   "execution_count": 84,
   "id": "75f9f213",
   "metadata": {},
   "outputs": [],
   "source": [
    "import pickle"
   ]
  },
  {
   "cell_type": "code",
   "execution_count": 85,
   "id": "fa66162b",
   "metadata": {},
   "outputs": [],
   "source": [
    "dd = pickle.load(open('dists-1.dat','rb'))"
   ]
  },
  {
   "cell_type": "code",
   "execution_count": 86,
   "id": "53f0ebe3",
   "metadata": {},
   "outputs": [
    {
     "data": {
      "text/plain": [
       "(tensor([[1.0000, 0.0000, 0.0000,  ..., 0.0000, 0.0000, 0.0000],\n",
       "         [0.0000, 1.0000, 0.0000,  ..., 0.1667, 0.0000, 0.0000],\n",
       "         [0.0000, 0.0000, 1.0000,  ..., 0.0000, 0.0000, 0.0000],\n",
       "         ...,\n",
       "         [0.0000, 0.1667, 0.0000,  ..., 1.0000, 0.0000, 0.0000],\n",
       "         [0.0000, 0.0000, 0.0000,  ..., 0.0000, 1.0000, 0.0000],\n",
       "         [0.0000, 0.0000, 0.0000,  ..., 0.0000, 0.0000, 0.0000]]),\n",
       " torch.Size([3327, 3327]))"
      ]
     },
     "execution_count": 86,
     "metadata": {},
     "output_type": "execute_result"
    }
   ],
   "source": [
    "dd,dd.shape"
   ]
  },
  {
   "cell_type": "code",
   "execution_count": 87,
   "id": "b44d5743",
   "metadata": {},
   "outputs": [
    {
     "data": {
      "text/plain": [
       "tensor(0.)"
      ]
     },
     "execution_count": 87,
     "metadata": {},
     "output_type": "execute_result"
    }
   ],
   "source": [
    "dd[1800][876]"
   ]
  },
  {
   "cell_type": "code",
   "execution_count": 88,
   "id": "cf1c0fe0",
   "metadata": {},
   "outputs": [
    {
     "data": {
      "text/plain": [
       "(tensor([[ 974, 2722],\n",
       "         [2660,  216],\n",
       "         [1117, 1447],\n",
       "         ...,\n",
       "         [1072, 1431],\n",
       "         [1049, 1393],\n",
       "         [1049, 2426]]),\n",
       " tensor([0, 0, 0, 1, 0, 1, 0, 1, 0, 0, 1, 0, 0, 1, 0, 1, 0, 0, 0, 0, 1, 0, 1, 0,\n",
       "         1, 0, 1, 0, 1, 0, 0, 0, 1, 0, 1, 0, 1, 0, 1, 0, 0, 1, 0, 1, 0, 1, 0, 0,\n",
       "         1, 0, 1, 0, 1, 0, 1, 0, 0, 0, 1, 0, 1, 0, 0, 1, 0, 0, 0, 1, 0, 1, 0, 1,\n",
       "         0, 1, 0, 0, 0, 0, 1, 0, 1, 0, 1, 0, 1, 0, 1, 0, 1, 0, 1, 0, 1, 0, 1, 0,\n",
       "         0, 1, 0, 1, 0, 1, 0, 1, 0, 1, 0, 1, 0, 1, 0, 0, 0, 1, 0, 1, 0, 1, 0, 1,\n",
       "         0, 0, 0, 1, 0, 0, 0, 1, 0, 1, 0, 1, 0, 1, 0, 0, 1, 0, 0, 1, 0, 1, 0, 0,\n",
       "         0, 1, 0, 1, 0, 1, 0, 0, 1, 0, 0, 1, 0, 1, 0, 0, 0, 1, 0, 0, 1, 0, 1, 0,\n",
       "         1, 0, 1, 0, 1, 0, 0, 0, 1, 0, 1, 0, 1, 0, 0, 1, 0, 1, 0, 1, 0, 0, 0, 1,\n",
       "         0, 0, 1, 0, 0, 0, 1, 0, 1, 0, 0, 0, 0, 1, 0, 1, 0, 0, 0, 1, 0, 1, 0, 0,\n",
       "         1, 0, 0, 1, 0, 1, 0, 1, 0, 1, 0, 0, 1, 0, 1, 0, 1, 0, 1, 0, 1, 0, 0, 1,\n",
       "         0, 1, 0, 0, 1, 0, 1, 0, 0, 1, 0, 1, 0, 1, 0, 1, 0, 1, 0, 0, 0, 1, 0, 0,\n",
       "         1, 0, 0, 1, 0, 0, 1, 0, 0, 0, 1, 0, 1, 0, 1, 0, 1, 0, 1, 0, 0, 1, 0, 1,\n",
       "         0, 1, 0, 1, 0, 1, 0, 1, 0, 1, 0, 1, 0, 1, 0, 1, 0, 1, 0, 1, 0, 0, 0, 1,\n",
       "         0, 1, 0, 0, 0, 1, 0, 0, 1, 0, 1, 0, 0, 1, 0, 0, 0, 1, 0, 1, 0, 1, 0, 0,\n",
       "         1, 0, 1, 0, 0, 0, 1, 0, 1, 0, 1, 0, 1, 0, 1, 0, 1, 0, 0, 0, 0, 1, 0, 1,\n",
       "         0, 1, 0, 1, 0, 1, 0, 0, 0, 0, 1, 0, 0, 0, 0, 0, 0, 0, 1, 0, 0, 1, 0, 0,\n",
       "         0, 1, 0, 0, 0, 1, 0, 1, 0, 0, 1, 0, 1, 0, 0, 1, 0, 0, 1, 0, 1, 0, 0, 0,\n",
       "         0, 1, 0, 1, 0, 1, 0, 1, 0, 1, 0, 1, 0, 1, 0, 1, 0, 0, 0, 1, 0, 1, 0, 1,\n",
       "         0, 1, 0, 1, 0, 0, 0, 1, 0, 1, 0, 1, 0, 1, 0, 0, 1, 0, 0, 1, 0, 1, 0, 1,\n",
       "         0, 0, 1, 0, 1, 0, 1, 0, 1, 0, 1, 0, 1, 0, 0, 0, 0, 1, 0, 1, 0, 0, 1, 0,\n",
       "         0, 1, 0, 0, 1, 0, 1, 0, 0, 0, 1, 0, 0, 1, 0, 1, 0, 1, 0, 1, 0, 1, 0, 1,\n",
       "         0, 1, 0, 1, 0, 1, 0, 1, 0, 0, 0, 0, 0, 1, 0, 1, 0, 0, 0, 1, 0, 1, 0, 1,\n",
       "         0, 1, 0, 1, 0, 0, 0, 0, 0, 0, 1, 0, 0, 1, 0, 0, 1, 0, 1, 0, 0, 1, 0, 1,\n",
       "         0, 1, 0, 1, 0, 1, 0, 0, 1, 0, 1, 0, 1]))"
      ]
     },
     "execution_count": 88,
     "metadata": {},
     "output_type": "execute_result"
    }
   ],
   "source": [
    "op , oq"
   ]
  },
  {
   "cell_type": "code",
   "execution_count": 89,
   "id": "d8dbdf26",
   "metadata": {},
   "outputs": [
    {
     "data": {
      "text/plain": [
       "tensor([1086, 2319])"
      ]
     },
     "execution_count": 89,
     "metadata": {},
     "output_type": "execute_result"
    }
   ],
   "source": [
    "op[7]"
   ]
  },
  {
   "cell_type": "code",
   "execution_count": 90,
   "id": "a7fcc984",
   "metadata": {},
   "outputs": [
    {
     "data": {
      "text/plain": [
       "\"\\ntm = 1632\\nfor i in range(dd.shape[0]):\\n    if i==tm:\\n        for j in range(dd.shape[1]):\\n            if dd[i][j] != 0.0:\\n                print(str(i) + ',' + str(j) + '==>' + str(dd[i][j]))\\n\""
      ]
     },
     "execution_count": 90,
     "metadata": {},
     "output_type": "execute_result"
    }
   ],
   "source": [
    "'''\n",
    "tm = 1632\n",
    "for i in range(dd.shape[0]):\n",
    "    if i==tm:\n",
    "        for j in range(dd.shape[1]):\n",
    "            if dd[i][j] != 0.0:\n",
    "                print(str(i) + ',' + str(j) + '==>' + str(dd[i][j]))\n",
    "'''"
   ]
  },
  {
   "cell_type": "code",
   "execution_count": null,
   "id": "3175a45d",
   "metadata": {},
   "outputs": [],
   "source": []
  },
  {
   "cell_type": "code",
   "execution_count": null,
   "id": "8106d860",
   "metadata": {},
   "outputs": [],
   "source": []
  },
  {
   "cell_type": "code",
   "execution_count": 91,
   "id": "137d8007",
   "metadata": {},
   "outputs": [],
   "source": [
    "inputs,labels=next(data_loader)"
   ]
  },
  {
   "cell_type": "code",
   "execution_count": 92,
   "id": "395d7cb8",
   "metadata": {},
   "outputs": [],
   "source": [
    "inputs,labels=next(data_loader)\n",
    "for i in range(inputs.shape[0]):\n",
    "    if inputs[i][0] == 0 and inputs[i][1] == 628:\n",
    "        print(True)"
   ]
  },
  {
   "cell_type": "code",
   "execution_count": 93,
   "id": "9f758bef",
   "metadata": {},
   "outputs": [
    {
     "data": {
      "text/plain": [
       "1.0"
      ]
     },
     "execution_count": 93,
     "metadata": {},
     "output_type": "execute_result"
    }
   ],
   "source": [
    "a_train.toarray()[1632][2496]"
   ]
  },
  {
   "cell_type": "code",
   "execution_count": 94,
   "id": "bc3fac7d",
   "metadata": {},
   "outputs": [
    {
     "data": {
      "text/plain": [
       "(tensor([[1474,  827],\n",
       "         [ 151, 2444],\n",
       "         [ 151, 1612],\n",
       "         ...,\n",
       "         [ 911, 2576],\n",
       "         [1796, 2240],\n",
       "         [1796, 2031]]),\n",
       " tensor([0, 0, 1, 0, 0, 1, 0, 1, 0, 0, 1, 0, 1, 0, 1, 0, 1, 0, 1, 0, 1, 0, 1, 0,\n",
       "         1, 0, 1, 0, 1, 0, 1, 0, 1, 0, 0, 1, 0, 0, 1, 0, 1, 0, 1, 0, 1, 0, 1, 0,\n",
       "         1, 0, 1, 0, 1, 0, 1, 0, 0, 1, 0, 1, 0, 1, 0, 1, 0, 0, 1, 0, 1, 0, 0, 0,\n",
       "         1, 0, 1, 0, 1, 0, 0, 1, 0, 0, 1, 0, 1, 0, 1, 0, 0, 1, 0, 1, 0, 0, 1, 0,\n",
       "         1, 0, 0, 0, 1, 0, 1, 0, 0, 1, 0, 0, 1, 0, 1, 0, 0, 1, 0, 0, 1, 0, 1, 0,\n",
       "         1, 0, 1, 0, 1, 0, 1, 0, 1, 0, 0, 1, 0, 1, 0, 1, 0, 0, 1, 0, 0, 1, 0, 1,\n",
       "         0, 1, 0, 1, 0, 0, 1, 0, 1, 0, 0, 0, 1, 0, 1, 0, 1, 0, 1, 0, 1, 0, 1, 0,\n",
       "         1, 0, 1, 0, 0, 1, 0, 0, 0, 1, 0, 1, 0, 0, 1, 0, 0, 0, 0, 1, 0, 1, 0, 1,\n",
       "         0, 0, 1, 0, 1, 0, 0, 1, 0, 0, 0, 1, 0, 1, 0, 0, 0, 0, 1, 0, 0, 1, 0, 1,\n",
       "         0, 1, 0, 1, 0, 0, 0, 0, 0, 1, 0, 1, 0, 1, 0, 0, 1, 0, 0, 0, 0, 0, 1, 0,\n",
       "         1, 0, 1, 0, 1, 0, 0, 1, 0, 0, 1, 0, 1, 0, 1, 0, 1, 0, 1, 0, 1, 0, 1, 0,\n",
       "         1, 0, 0, 0, 1, 0, 1, 0, 0, 0, 1, 0, 0, 1, 0, 1, 0, 1, 0, 1, 0, 1, 0, 0,\n",
       "         0, 1, 0, 1, 0, 1, 0, 1, 0, 1, 0, 1, 0, 1, 0, 1, 0, 1, 0, 1, 0, 1, 0, 1,\n",
       "         0, 1, 0, 1, 0, 1, 0, 1, 0, 1, 0, 1, 0, 1, 0, 0, 1, 0, 0, 1, 0, 0, 0, 1,\n",
       "         0, 1, 0, 1, 0, 1, 0, 1, 0, 0, 1, 0, 1, 0, 1, 0, 0, 0, 0, 0, 1, 0, 1, 0,\n",
       "         0, 1, 0, 1, 0, 0, 1, 0, 0, 0, 1, 0, 1, 0, 1, 0, 1, 0, 0, 1, 0, 1, 0, 1,\n",
       "         0, 1, 0, 1, 0, 1, 0, 1, 0, 0, 1, 0, 1, 0, 1, 0, 0, 1, 0, 1, 0, 1, 0, 0,\n",
       "         1, 0, 1, 0, 0, 1, 0, 1, 0, 1, 0, 1, 0, 0, 1, 0, 0, 1, 0, 1, 0, 0, 0, 0,\n",
       "         1, 0, 0, 1, 0, 0, 0, 1, 0, 0, 0, 0, 0, 0, 0, 1, 0, 1, 0, 0, 1, 0, 0, 1,\n",
       "         0, 0, 1, 0, 1, 0, 0, 1, 0, 1, 0, 1, 0, 1, 0, 1, 0, 1, 0, 1, 0, 1, 0, 1,\n",
       "         0, 1, 0, 0, 0, 1, 0, 0, 1, 0, 0, 1, 0, 1, 0, 1, 0, 1, 0, 0, 1, 0, 1, 0,\n",
       "         0, 1, 0, 1, 0, 1, 0, 1, 0, 1, 0, 1, 0, 0, 1, 0, 1, 0, 1, 0, 0, 1, 0, 0,\n",
       "         0, 0, 1, 0, 1, 0, 1, 0, 0, 1, 0, 0, 1, 0, 1, 0, 1, 0, 1, 0, 0, 1, 0, 1,\n",
       "         0, 1, 0, 0, 1, 0, 1, 0, 0, 1, 0, 1]))"
      ]
     },
     "execution_count": 94,
     "metadata": {},
     "output_type": "execute_result"
    }
   ],
   "source": [
    "inputs,labels"
   ]
  },
  {
   "cell_type": "code",
   "execution_count": 95,
   "id": "8c5f2b56",
   "metadata": {},
   "outputs": [
    {
     "data": {
      "text/plain": [
       "0.0"
      ]
     },
     "execution_count": 95,
     "metadata": {},
     "output_type": "execute_result"
    }
   ],
   "source": [
    "A.toarray()[1][10]"
   ]
  },
  {
   "cell_type": "code",
   "execution_count": 96,
   "id": "edf25dda",
   "metadata": {},
   "outputs": [
    {
     "data": {
      "text/plain": [
       "False"
      ]
     },
     "execution_count": 96,
     "metadata": {},
     "output_type": "execute_result"
    }
   ],
   "source": [
    "check_edge(0,628,val_zeros)"
   ]
  },
  {
   "cell_type": "code",
   "execution_count": null,
   "id": "7fd777e4",
   "metadata": {},
   "outputs": [],
   "source": []
  },
  {
   "cell_type": "code",
   "execution_count": 97,
   "id": "8d672c96",
   "metadata": {},
   "outputs": [
    {
     "data": {
      "text/plain": [
       "<3327x3327 sparse matrix of type '<class 'numpy.float64'>'\n",
       "\twith 4552 stored elements in Compressed Sparse Row format>"
      ]
     },
     "execution_count": 97,
     "metadata": {},
     "output_type": "execute_result"
    }
   ],
   "source": [
    "A"
   ]
  },
  {
   "cell_type": "code",
   "execution_count": 98,
   "id": "e18fca11",
   "metadata": {},
   "outputs": [],
   "source": [
    "def check_edge_in_(v1,v2):\n",
    "    if a_train.toarray()[v1][v2] == 1.0:\n",
    "        return\n",
    "    else:\n",
    "        print(False)"
   ]
  },
  {
   "cell_type": "code",
   "execution_count": 99,
   "id": "63d7c59e",
   "metadata": {},
   "outputs": [
    {
     "name": "stdout",
     "output_type": "stream",
     "text": [
      "\n"
     ]
    }
   ],
   "source": [
    "print(a_train[2018][0])"
   ]
  },
  {
   "cell_type": "code",
   "execution_count": 100,
   "id": "519fede7",
   "metadata": {},
   "outputs": [],
   "source": [
    "#for i in range(val_zeros.shape[0]):\n",
    "#    check_edge_in_(val_zeros[i][0],val_zeros[i][1])"
   ]
  },
  {
   "cell_type": "code",
   "execution_count": 101,
   "id": "a9bf5b70",
   "metadata": {},
   "outputs": [
    {
     "data": {
      "text/plain": [
       "503"
      ]
     },
     "execution_count": 101,
     "metadata": {},
     "output_type": "execute_result"
    }
   ],
   "source": [
    "len(nodes_hides)"
   ]
  },
  {
   "cell_type": "code",
   "execution_count": 102,
   "id": "0d53f72a",
   "metadata": {},
   "outputs": [
    {
     "data": {
      "text/plain": [
       "array([   2,   23,   25,   37,   45,   55,   56,   70,   72,   88,  107,\n",
       "        112,  115,  125,  148,  161,  169,  173,  174,  177,  185,  192,\n",
       "        193,  215,  221,  223,  226,  234,  240,  243,  252,  267,  276,\n",
       "        280,  293,  294,  312,  325,  339,  341,  355,  358,  359,  362,\n",
       "        365,  384,  398,  410,  420,  436,  446,  450,  453,  468,  474,\n",
       "        478,  485,  489,  492,  496,  498,  511,  519,  526,  540,  546,\n",
       "        549,  555,  559,  563,  572,  576,  582,  583,  586,  592,  603,\n",
       "        613,  625,  647,  655,  656,  665,  676,  677,  679,  708,  719,\n",
       "        722,  737,  738,  747,  760,  768,  769,  783,  785,  787,  789,\n",
       "        794,  798,  805,  814,  821,  822,  827,  828,  831,  834,  838,\n",
       "        843,  845,  848,  855,  856,  861,  864,  870,  872,  880,  883,\n",
       "        892,  896,  898,  899,  905,  908,  909,  910,  913,  922,  926,\n",
       "        930,  937,  939,  944,  949,  957,  965,  967,  973,  979,  983,\n",
       "       1006, 1014, 1015, 1024, 1025, 1028, 1029, 1046, 1047, 1057, 1060,\n",
       "       1061, 1067, 1069, 1081, 1091, 1106, 1107, 1108, 1113, 1120, 1121,\n",
       "       1127, 1141, 1148, 1150, 1153, 1157, 1158, 1159, 1164, 1166, 1171,\n",
       "       1181, 1188, 1197, 1200, 1228, 1232, 1241, 1247, 1249, 1253, 1262,\n",
       "       1263, 1269, 1270, 1272, 1281, 1283, 1284, 1285, 1286, 1288, 1289,\n",
       "       1294, 1311, 1312, 1314, 1317, 1323, 1326, 1360, 1370, 1375, 1384,\n",
       "       1387, 1397, 1402, 1406, 1408, 1412, 1413, 1415, 1436, 1440, 1442,\n",
       "       1474, 1479, 1480, 1483, 1496, 1497, 1500, 1509, 1513, 1516, 1518,\n",
       "       1520, 1523, 1525, 1536, 1542, 1544, 1548, 1549, 1552, 1564, 1572,\n",
       "       1578, 1602, 1607, 1612, 1613, 1614, 1616, 1621, 1627, 1632, 1639,\n",
       "       1654, 1659, 1665, 1672, 1685, 1693, 1697, 1711, 1718, 1722, 1723,\n",
       "       1732, 1742, 1745, 1746, 1752, 1753, 1764, 1765, 1774, 1806, 1809,\n",
       "       1819, 1837, 1838, 1840, 1849, 1854, 1856, 1869, 1870, 1877, 1881,\n",
       "       1885, 1886, 1889, 1893, 1897, 1899, 1918, 1924, 1930, 1931, 1934,\n",
       "       1937, 1945, 1964, 1974, 1975, 1979, 1986, 1987, 1990, 1998, 2003,\n",
       "       2005, 2011, 2016, 2019, 2025, 2040, 2043, 2067, 2068, 2069, 2086,\n",
       "       2088, 2090, 2100, 2102, 2107, 2119, 2123, 2131, 2158, 2172, 2181,\n",
       "       2187, 2193, 2194, 2199, 2200, 2234, 2243, 2256, 2258, 2264, 2265,\n",
       "       2268, 2279, 2280, 2294, 2301, 2304, 2312, 2315, 2317, 2320, 2332,\n",
       "       2336, 2341, 2344, 2359, 2374, 2376, 2384, 2391, 2400, 2403, 2423,\n",
       "       2437, 2441, 2450, 2451, 2453, 2456, 2457, 2467, 2485, 2496, 2503,\n",
       "       2504, 2532, 2535, 2538, 2547, 2556, 2563, 2567, 2569, 2576, 2579,\n",
       "       2585, 2591, 2600, 2602, 2603, 2607, 2629, 2630, 2637, 2643, 2652,\n",
       "       2673, 2677, 2684, 2690, 2692, 2693, 2705, 2710, 2718, 2724, 2735,\n",
       "       2741, 2742, 2750, 2754, 2755, 2757, 2768, 2769, 2774, 2778, 2784,\n",
       "       2786, 2787, 2798, 2800, 2803, 2806, 2807, 2811, 2813, 2825, 2826,\n",
       "       2835, 2843, 2849, 2850, 2865, 2872, 2873, 2875, 2876, 2881, 2895,\n",
       "       2896, 2897, 2914, 2915, 2930, 2932, 2940, 2942, 2944, 2950, 2951,\n",
       "       2957, 2967, 2979, 2981, 2984, 3013, 3028, 3029, 3030, 3046, 3049,\n",
       "       3053, 3055, 3056, 3063, 3070, 3072, 3073, 3074, 3078, 3079, 3082,\n",
       "       3089, 3091, 3117, 3118, 3122, 3123, 3133, 3141, 3147, 3156, 3170,\n",
       "       3186, 3190, 3206, 3211, 3216, 3217, 3218, 3228, 3241, 3250, 3260,\n",
       "       3278, 3280, 3283, 3284, 3285, 3287, 3313, 3316], dtype=int64)"
      ]
     },
     "execution_count": 102,
     "metadata": {},
     "output_type": "execute_result"
    }
   ],
   "source": [
    "nodes_hides"
   ]
  },
  {
   "cell_type": "code",
   "execution_count": 103,
   "id": "438078f6",
   "metadata": {},
   "outputs": [
    {
     "data": {
      "text/plain": [
       "2824"
      ]
     },
     "execution_count": 103,
     "metadata": {},
     "output_type": "execute_result"
    }
   ],
   "source": [
    "len(nodes_keep)"
   ]
  },
  {
   "cell_type": "code",
   "execution_count": 104,
   "id": "f328b14e",
   "metadata": {},
   "outputs": [
    {
     "data": {
      "text/plain": [
       "<2824x2824 sparse matrix of type '<class 'numpy.float64'>'\n",
       "\twith 3663 stored elements in Compressed Sparse Row format>"
      ]
     },
     "execution_count": 104,
     "metadata": {},
     "output_type": "execute_result"
    }
   ],
   "source": [
    "a_train"
   ]
  },
  {
   "cell_type": "code",
   "execution_count": 105,
   "id": "2b1738ad",
   "metadata": {},
   "outputs": [
    {
     "data": {
      "text/plain": [
       "503"
      ]
     },
     "execution_count": 105,
     "metadata": {},
     "output_type": "execute_result"
    }
   ],
   "source": [
    "3327-2824"
   ]
  },
  {
   "cell_type": "code",
   "execution_count": 106,
   "id": "77490523",
   "metadata": {},
   "outputs": [
    {
     "data": {
      "text/plain": [
       "1.0"
      ]
     },
     "execution_count": 106,
     "metadata": {},
     "output_type": "execute_result"
    }
   ],
   "source": [
    "a_train.toarray()[1205][2399]"
   ]
  },
  {
   "cell_type": "code",
   "execution_count": 107,
   "id": "c89ae170",
   "metadata": {},
   "outputs": [
    {
     "data": {
      "text/plain": [
       "array([[1171, 2018],\n",
       "       [1368, 2557],\n",
       "       [1205, 2399],\n",
       "       ...,\n",
       "       [2762, 2784],\n",
       "       [2816, 2817],\n",
       "       [2819, 2820]])"
      ]
     },
     "execution_count": 107,
     "metadata": {},
     "output_type": "execute_result"
    }
   ],
   "source": [
    "train_ones"
   ]
  },
  {
   "cell_type": "code",
   "execution_count": 108,
   "id": "649e3eab",
   "metadata": {},
   "outputs": [],
   "source": [
    "#draw networkx graph of "
   ]
  },
  {
   "cell_type": "code",
   "execution_count": 109,
   "id": "b2975f36",
   "metadata": {},
   "outputs": [],
   "source": [
    "import networkx as nx"
   ]
  },
  {
   "cell_type": "code",
   "execution_count": 110,
   "id": "5ef86619",
   "metadata": {},
   "outputs": [
    {
     "data": {
      "text/plain": [
       "(tensor([[1474,  827],\n",
       "         [ 151, 2444],\n",
       "         [ 151, 1612],\n",
       "         ...,\n",
       "         [ 911, 2576],\n",
       "         [1796, 2240],\n",
       "         [1796, 2031]]),\n",
       " tensor([0, 0, 1, 0, 0, 1, 0, 1, 0, 0, 1, 0, 1, 0, 1, 0, 1, 0, 1, 0, 1, 0, 1, 0,\n",
       "         1, 0, 1, 0, 1, 0, 1, 0, 1, 0, 0, 1, 0, 0, 1, 0, 1, 0, 1, 0, 1, 0, 1, 0,\n",
       "         1, 0, 1, 0, 1, 0, 1, 0, 0, 1, 0, 1, 0, 1, 0, 1, 0, 0, 1, 0, 1, 0, 0, 0,\n",
       "         1, 0, 1, 0, 1, 0, 0, 1, 0, 0, 1, 0, 1, 0, 1, 0, 0, 1, 0, 1, 0, 0, 1, 0,\n",
       "         1, 0, 0, 0, 1, 0, 1, 0, 0, 1, 0, 0, 1, 0, 1, 0, 0, 1, 0, 0, 1, 0, 1, 0,\n",
       "         1, 0, 1, 0, 1, 0, 1, 0, 1, 0, 0, 1, 0, 1, 0, 1, 0, 0, 1, 0, 0, 1, 0, 1,\n",
       "         0, 1, 0, 1, 0, 0, 1, 0, 1, 0, 0, 0, 1, 0, 1, 0, 1, 0, 1, 0, 1, 0, 1, 0,\n",
       "         1, 0, 1, 0, 0, 1, 0, 0, 0, 1, 0, 1, 0, 0, 1, 0, 0, 0, 0, 1, 0, 1, 0, 1,\n",
       "         0, 0, 1, 0, 1, 0, 0, 1, 0, 0, 0, 1, 0, 1, 0, 0, 0, 0, 1, 0, 0, 1, 0, 1,\n",
       "         0, 1, 0, 1, 0, 0, 0, 0, 0, 1, 0, 1, 0, 1, 0, 0, 1, 0, 0, 0, 0, 0, 1, 0,\n",
       "         1, 0, 1, 0, 1, 0, 0, 1, 0, 0, 1, 0, 1, 0, 1, 0, 1, 0, 1, 0, 1, 0, 1, 0,\n",
       "         1, 0, 0, 0, 1, 0, 1, 0, 0, 0, 1, 0, 0, 1, 0, 1, 0, 1, 0, 1, 0, 1, 0, 0,\n",
       "         0, 1, 0, 1, 0, 1, 0, 1, 0, 1, 0, 1, 0, 1, 0, 1, 0, 1, 0, 1, 0, 1, 0, 1,\n",
       "         0, 1, 0, 1, 0, 1, 0, 1, 0, 1, 0, 1, 0, 1, 0, 0, 1, 0, 0, 1, 0, 0, 0, 1,\n",
       "         0, 1, 0, 1, 0, 1, 0, 1, 0, 0, 1, 0, 1, 0, 1, 0, 0, 0, 0, 0, 1, 0, 1, 0,\n",
       "         0, 1, 0, 1, 0, 0, 1, 0, 0, 0, 1, 0, 1, 0, 1, 0, 1, 0, 0, 1, 0, 1, 0, 1,\n",
       "         0, 1, 0, 1, 0, 1, 0, 1, 0, 0, 1, 0, 1, 0, 1, 0, 0, 1, 0, 1, 0, 1, 0, 0,\n",
       "         1, 0, 1, 0, 0, 1, 0, 1, 0, 1, 0, 1, 0, 0, 1, 0, 0, 1, 0, 1, 0, 0, 0, 0,\n",
       "         1, 0, 0, 1, 0, 0, 0, 1, 0, 0, 0, 0, 0, 0, 0, 1, 0, 1, 0, 0, 1, 0, 0, 1,\n",
       "         0, 0, 1, 0, 1, 0, 0, 1, 0, 1, 0, 1, 0, 1, 0, 1, 0, 1, 0, 1, 0, 1, 0, 1,\n",
       "         0, 1, 0, 0, 0, 1, 0, 0, 1, 0, 0, 1, 0, 1, 0, 1, 0, 1, 0, 0, 1, 0, 1, 0,\n",
       "         0, 1, 0, 1, 0, 1, 0, 1, 0, 1, 0, 1, 0, 0, 1, 0, 1, 0, 1, 0, 0, 1, 0, 0,\n",
       "         0, 0, 1, 0, 1, 0, 1, 0, 0, 1, 0, 0, 1, 0, 1, 0, 1, 0, 1, 0, 0, 1, 0, 1,\n",
       "         0, 1, 0, 0, 1, 0, 1, 0, 0, 1, 0, 1]))"
      ]
     },
     "execution_count": 110,
     "metadata": {},
     "output_type": "execute_result"
    }
   ],
   "source": [
    "inputs,labels"
   ]
  },
  {
   "cell_type": "code",
   "execution_count": 111,
   "id": "09c1b745",
   "metadata": {},
   "outputs": [
    {
     "data": {
      "text/plain": [
       "torch.Size([3327, 3327])"
      ]
     },
     "execution_count": 111,
     "metadata": {},
     "output_type": "execute_result"
    }
   ],
   "source": [
    "dd.shape"
   ]
  },
  {
   "cell_type": "code",
   "execution_count": 112,
   "id": "c8551aeb",
   "metadata": {},
   "outputs": [
    {
     "data": {
      "text/plain": [
       "tensor([[1474,  827],\n",
       "        [ 151, 2444],\n",
       "        [ 151, 1612],\n",
       "        ...,\n",
       "        [ 911, 2576],\n",
       "        [1796, 2240],\n",
       "        [1796, 2031]])"
      ]
     },
     "execution_count": 112,
     "metadata": {},
     "output_type": "execute_result"
    }
   ],
   "source": [
    "inputs"
   ]
  },
  {
   "cell_type": "code",
   "execution_count": 113,
   "id": "a1850e3e",
   "metadata": {},
   "outputs": [],
   "source": [
    "edge_index = inputs"
   ]
  },
  {
   "cell_type": "code",
   "execution_count": 114,
   "id": "7bc781b1",
   "metadata": {},
   "outputs": [],
   "source": [
    "edge_list = edge_index.transpose(1,0).tolist()"
   ]
  },
  {
   "cell_type": "code",
   "execution_count": 115,
   "id": "193a2c8c",
   "metadata": {},
   "outputs": [],
   "source": [
    "import networkx as nx"
   ]
  },
  {
   "cell_type": "code",
   "execution_count": 116,
   "id": "d3f0e7d0",
   "metadata": {},
   "outputs": [],
   "source": [
    "graph = nx.Graph()"
   ]
  },
  {
   "cell_type": "code",
   "execution_count": 117,
   "id": "3f14aa46",
   "metadata": {},
   "outputs": [],
   "source": [
    "edge_list = inputs"
   ]
  },
  {
   "cell_type": "code",
   "execution_count": 118,
   "id": "feee1fad",
   "metadata": {},
   "outputs": [],
   "source": [
    "graph.add_edges_from(edge_list)"
   ]
  },
  {
   "cell_type": "code",
   "execution_count": 119,
   "id": "b791dce6",
   "metadata": {},
   "outputs": [],
   "source": [
    "nodes = []\n",
    "for i in range(len(edge_list)):\n",
    "    nodes.append(edge_list[i][0])\n",
    "    nodes.append(edge_list[i][1])\n",
    "\n",
    "nodes = list(set(nodes))"
   ]
  },
  {
   "cell_type": "code",
   "execution_count": 120,
   "id": "76dcbc85",
   "metadata": {},
   "outputs": [],
   "source": [
    "num_nodes = len(nodes)"
   ]
  },
  {
   "cell_type": "code",
   "execution_count": 121,
   "id": "9f53b84e",
   "metadata": {},
   "outputs": [],
   "source": [
    "n = num_nodes"
   ]
  },
  {
   "cell_type": "code",
   "execution_count": 122,
   "id": "958a2989",
   "metadata": {},
   "outputs": [
    {
     "data": {
      "text/plain": [
       "1128"
      ]
     },
     "execution_count": 122,
     "metadata": {},
     "output_type": "execute_result"
    }
   ],
   "source": [
    "n"
   ]
  },
  {
   "cell_type": "code",
   "execution_count": 123,
   "id": "9b18421a",
   "metadata": {},
   "outputs": [],
   "source": [
    "dists_array = np.zeros((n, n))\n"
   ]
  },
  {
   "cell_type": "code",
   "execution_count": 124,
   "id": "6e1e2c61",
   "metadata": {},
   "outputs": [
    {
     "data": {
      "text/plain": [
       "tensor([[1474,  827],\n",
       "        [ 151, 2444],\n",
       "        [ 151, 1612],\n",
       "        ...,\n",
       "        [ 911, 2576],\n",
       "        [1796, 2240],\n",
       "        [1796, 2031]])"
      ]
     },
     "execution_count": 124,
     "metadata": {},
     "output_type": "execute_result"
    }
   ],
   "source": [
    "inputs"
   ]
  },
  {
   "cell_type": "code",
   "execution_count": 125,
   "id": "747f82c0",
   "metadata": {},
   "outputs": [],
   "source": [
    "import multiprocessing as mp"
   ]
  },
  {
   "cell_type": "code",
   "execution_count": 126,
   "id": "5edde960",
   "metadata": {},
   "outputs": [
    {
     "ename": "NameError",
     "evalue": "name 'all_pairs_shortest_path_length_parallel' is not defined",
     "output_type": "error",
     "traceback": [
      "\u001b[1;31m---------------------------------------------------------------------------\u001b[0m",
      "\u001b[1;31mNameError\u001b[0m                                 Traceback (most recent call last)",
      "\u001b[1;32m~\\AppData\\Local\\Temp\\ipykernel_14788\\81737214.py\u001b[0m in \u001b[0;36m<module>\u001b[1;34m\u001b[0m\n\u001b[1;32m----> 1\u001b[1;33m \u001b[0mdists_dict\u001b[0m \u001b[1;33m=\u001b[0m \u001b[0mall_pairs_shortest_path_length_parallel\u001b[0m\u001b[1;33m(\u001b[0m\u001b[0mgraph\u001b[0m\u001b[1;33m,\u001b[0m\u001b[0mcutoff\u001b[0m\u001b[1;33m=\u001b[0m\u001b[1;32mNone\u001b[0m\u001b[1;33m)\u001b[0m\u001b[1;33m\u001b[0m\u001b[1;33m\u001b[0m\u001b[0m\n\u001b[0m",
      "\u001b[1;31mNameError\u001b[0m: name 'all_pairs_shortest_path_length_parallel' is not defined"
     ]
    }
   ],
   "source": [
    "dists_dict = all_pairs_shortest_path_length_parallel(graph,cutoff=None)"
   ]
  },
  {
   "cell_type": "code",
   "execution_count": null,
   "id": "69ff2000",
   "metadata": {},
   "outputs": [],
   "source": [
    "for i, node_i in enumerate(graph.nodes()):\n",
    "            shortest_dist = dists_dict[node_i]\n",
    "            for j, node_j in enumerate(graph.nodes()):\n",
    "                dist = shortest_dist.get(node_j, -1)\n",
    "                if dist!=-1:\n",
    "                    # dists_array[i, j] = 1 / (dist + 1)\n",
    "                    dists_array[node_i, node_j] = 1 / (dist + 1)"
   ]
  },
  {
   "cell_type": "code",
   "execution_count": null,
   "id": "b050c83d",
   "metadata": {},
   "outputs": [],
   "source": [
    "def single_source_shortest_path_length_range(graph, node_range, cutoff):\n",
    "    dists_dict = {}\n",
    "    for node in node_range:\n",
    "        dists_dict[node] = nx.single_source_shortest_path_length(graph, node, cutoff)\n",
    "    return dists_dict"
   ]
  },
  {
   "cell_type": "code",
   "execution_count": null,
   "id": "9b6b0291",
   "metadata": {},
   "outputs": [],
   "source": [
    "def merge_dicts(dicts):\n",
    "    result = {}\n",
    "    for dictionary in dicts:\n",
    "        result.update(dictionary)\n",
    "    return result"
   ]
  },
  {
   "cell_type": "code",
   "execution_count": null,
   "id": "76ce7e31",
   "metadata": {},
   "outputs": [],
   "source": [
    "def all_pairs_shortest_path_length_parallel(graph,cutoff=None,num_workers=4):\n",
    "    nodes = list(graph.nodes)\n",
    "    random.shuffle(nodes)\n",
    "    if len(nodes)<50:\n",
    "        num_workers = int(num_workers/4)\n",
    "    elif len(nodes)<400:\n",
    "        num_workers = int(num_workers/2)\n",
    "\n",
    "    pool = mp.Pool(processes=num_workers)\n",
    "    results = [pool.apply_async(single_source_shortest_path_length_range,\n",
    "            args=(graph, nodes[int(len(nodes)/num_workers*i):int(len(nodes)/num_workers*(i+1))], cutoff)) for i in range(num_workers)]\n",
    "    output = [p.get() for p in results]\n",
    "    dists_dict = merge_dicts(output)\n",
    "    pool.close()\n",
    "    pool.join()\n",
    "    return dists_dict"
   ]
  },
  {
   "cell_type": "code",
   "execution_count": null,
   "id": "f40d1070",
   "metadata": {},
   "outputs": [],
   "source": [
    "Gh = nx.Graph()"
   ]
  },
  {
   "cell_type": "code",
   "execution_count": null,
   "id": "1d2ca94a",
   "metadata": {},
   "outputs": [],
   "source": [
    "Gh.add_edge(1,5)\n",
    "Gh.add_edge(1,2)\n",
    "Gh.add_edge(2,5)\n",
    "Gh.add_edge(2,4)\n",
    "Gh.add_edge(4,6)\n",
    "Gh.add_edge(2,3)\n",
    "Gh.add_edge(4,7)\n",
    "Gh.add_edge(4,8)\n",
    "Gh.add_edge(7,8)\n",
    "Gh.add_edge(8,9)"
   ]
  },
  {
   "cell_type": "code",
   "execution_count": null,
   "id": "6b39e03a",
   "metadata": {},
   "outputs": [],
   "source": [
    "L = nx.single_source_shortest_path_length(Gh,8)"
   ]
  },
  {
   "cell_type": "code",
   "execution_count": null,
   "id": "d0b9c06b",
   "metadata": {},
   "outputs": [],
   "source": [
    "L"
   ]
  },
  {
   "cell_type": "code",
   "execution_count": null,
   "id": "0aa105d9",
   "metadata": {},
   "outputs": [],
   "source": [
    "#basically apply the above function to nodes pairs in upper triangular matrix \n",
    "\n",
    "dist_dict = np.zeros((n,n))\n",
    "\n",
    "for i in range(dist_dict.shape[0]):\n",
    "    for j in range(dist_dict.shape[0]):\n",
    "        if i < j:\n",
    "            L = nx.single_source_shortest_path_length(Gh,)"
   ]
  },
  {
   "cell_type": "code",
   "execution_count": null,
   "id": "e34940e0",
   "metadata": {},
   "outputs": [],
   "source": [
    "import numpy as np"
   ]
  },
  {
   "cell_type": "code",
   "execution_count": null,
   "id": "09b64a62",
   "metadata": {},
   "outputs": [],
   "source": [
    "nodes_in_network = [0,1,2,3,4,5,6]\n",
    "\n",
    "edge_list = [\n",
    "    [0,1],\n",
    "    [0,3],\n",
    "    [1,4],\n",
    "    [2,3],\n",
    "    [0,4],\n",
    "    [5,6]\n",
    "]\n"
   ]
  },
  {
   "cell_type": "code",
   "execution_count": null,
   "id": "c8e053a1",
   "metadata": {},
   "outputs": [],
   "source": [
    "tg = nx.Graph()\n",
    "tg.add_edges_from(edge_list)"
   ]
  },
  {
   "cell_type": "code",
   "execution_count": null,
   "id": "2a44dede",
   "metadata": {},
   "outputs": [],
   "source": [
    "nx.write_gexf(tg,\"dist_graph.gexf\")"
   ]
  },
  {
   "cell_type": "code",
   "execution_count": null,
   "id": "f2746288",
   "metadata": {},
   "outputs": [],
   "source": [
    "dist_M = np.identity(len(nodes_in_network))"
   ]
  },
  {
   "cell_type": "code",
   "execution_count": null,
   "id": "44b515f9",
   "metadata": {},
   "outputs": [],
   "source": [
    "dist_M"
   ]
  },
  {
   "cell_type": "code",
   "execution_count": null,
   "id": "a8e317ff",
   "metadata": {},
   "outputs": [],
   "source": [
    "nodes_in_edge = []\n",
    "for i in range(len(edge_list)):\n",
    "    nodes_in_edge.append(edge_list[i][0])\n",
    "    nodes_in_edge.append(edge_list[i][1])\n",
    "\n",
    "nodes_in_edge = list(set(nodes_in_edge))"
   ]
  },
  {
   "cell_type": "code",
   "execution_count": null,
   "id": "0fc0e854",
   "metadata": {},
   "outputs": [],
   "source": [
    "for node in range(dist_M.shape[0]):\n",
    "    if node in nodes_in_edge:\n",
    "        L = nx.single_source_shortest_path_length(tg,node)\n",
    "        \n",
    "        if len(L) > 0:\n",
    "            for key in L.keys():\n",
    "                if node != key:\n",
    "                    dist_M[node][key] = L[key]"
   ]
  },
  {
   "cell_type": "code",
   "execution_count": null,
   "id": "23b74f4b",
   "metadata": {},
   "outputs": [],
   "source": [
    "dist_M"
   ]
  },
  {
   "cell_type": "code",
   "execution_count": null,
   "id": "879da709",
   "metadata": {},
   "outputs": [],
   "source": [
    "for i in range(dist_M.shape[0]):\n",
    "    for j in range(dist_M.shape[1]):\n",
    "        if i!=j and dist_M[i][j]!=0:\n",
    "            dist_M[i][j] = float(\"{0:.2f}\".format((1/(dist_M[i][j]+1))))"
   ]
  },
  {
   "cell_type": "code",
   "execution_count": null,
   "id": "0d9701d0",
   "metadata": {},
   "outputs": [],
   "source": [
    "dist_M"
   ]
  },
  {
   "cell_type": "code",
   "execution_count": 127,
   "id": "8d47c203",
   "metadata": {},
   "outputs": [
    {
     "data": {
      "text/plain": [
       "<3327x3327 sparse matrix of type '<class 'numpy.float64'>'\n",
       "\twith 4552 stored elements in Compressed Sparse Row format>"
      ]
     },
     "execution_count": 127,
     "metadata": {},
     "output_type": "execute_result"
    }
   ],
   "source": [
    "A"
   ]
  },
  {
   "cell_type": "code",
   "execution_count": 128,
   "id": "904b67c2",
   "metadata": {},
   "outputs": [
    {
     "data": {
      "text/plain": [
       "array([[   2, 3285],\n",
       "       [  12,  677],\n",
       "       [  12,  794],\n",
       "       ...,\n",
       "       [3287, 1287],\n",
       "       [3313,  888],\n",
       "       [3316, 1874]], dtype=int64)"
      ]
     },
     "execution_count": 128,
     "metadata": {},
     "output_type": "execute_result"
    }
   ],
   "source": [
    "test_edges"
   ]
  },
  {
   "cell_type": "code",
   "execution_count": 129,
   "id": "6bd8bf4e",
   "metadata": {},
   "outputs": [
    {
     "data": {
      "text/plain": [
       "array([[   2, 3285],\n",
       "       [  12,  677],\n",
       "       [  12,  794],\n",
       "       ...,\n",
       "       [3146, 3147],\n",
       "       [3228, 3236],\n",
       "       [3286, 3287]], dtype=int64)"
      ]
     },
     "execution_count": 129,
     "metadata": {},
     "output_type": "execute_result"
    }
   ],
   "source": [
    "test_ones"
   ]
  },
  {
   "cell_type": "code",
   "execution_count": 131,
   "id": "09100746",
   "metadata": {},
   "outputs": [],
   "source": [
    "for i in range(test_zeros.shape[0]):\n",
    "    if A.toarray()[test_zeros[i][0]][test_zeros[i][1]] == 1:\n",
    "        print(\"false\")"
   ]
  },
  {
   "cell_type": "code",
   "execution_count": 132,
   "id": "d8d29767",
   "metadata": {},
   "outputs": [
    {
     "data": {
      "text/plain": [
       "2873"
      ]
     },
     "execution_count": 132,
     "metadata": {},
     "output_type": "execute_result"
    }
   ],
   "source": [
    "len(test_edges)"
   ]
  },
  {
   "cell_type": "code",
   "execution_count": 134,
   "id": "d88080c2",
   "metadata": {},
   "outputs": [
    {
     "data": {
      "text/plain": [
       "889"
      ]
     },
     "execution_count": 134,
     "metadata": {},
     "output_type": "execute_result"
    }
   ],
   "source": [
    "len(test_ones)"
   ]
  },
  {
   "cell_type": "code",
   "execution_count": 136,
   "id": "2cb7c2a6",
   "metadata": {},
   "outputs": [
    {
     "data": {
      "text/plain": [
       "1984"
      ]
     },
     "execution_count": 136,
     "metadata": {},
     "output_type": "execute_result"
    }
   ],
   "source": [
    "2873 - 889"
   ]
  },
  {
   "cell_type": "code",
   "execution_count": 137,
   "id": "e22e213a",
   "metadata": {},
   "outputs": [
    {
     "data": {
      "text/plain": [
       "0.4358523725834798"
      ]
     },
     "execution_count": 137,
     "metadata": {},
     "output_type": "execute_result"
    }
   ],
   "source": [
    "1984/4552"
   ]
  },
  {
   "cell_type": "code",
   "execution_count": 135,
   "id": "0404ecfe",
   "metadata": {},
   "outputs": [
    {
     "data": {
      "text/plain": [
       "0.195298769771529"
      ]
     },
     "execution_count": 135,
     "metadata": {},
     "output_type": "execute_result"
    }
   ],
   "source": [
    "889/4552"
   ]
  },
  {
   "cell_type": "code",
   "execution_count": 138,
   "id": "7a60f102",
   "metadata": {},
   "outputs": [
    {
     "data": {
      "text/plain": [
       "array([[2016, 2018],\n",
       "       [1242, 2753],\n",
       "       [1747, 2020],\n",
       "       [  52, 1205],\n",
       "       [ 663, 1917],\n",
       "       [ 326, 1678],\n",
       "       [ 923, 1135],\n",
       "       [  24, 1709],\n",
       "       [ 724, 1506],\n",
       "       [1805, 1933],\n",
       "       [ 810, 2021],\n",
       "       [ 558, 2182],\n",
       "       [1260, 1789],\n",
       "       [1426, 2084],\n",
       "       [2238, 2553],\n",
       "       [1205, 1749],\n",
       "       [2110, 2210],\n",
       "       [1568, 1615],\n",
       "       [1197, 2010],\n",
       "       [ 609, 1425],\n",
       "       [ 745, 2795],\n",
       "       [ 435, 1371],\n",
       "       [2104, 2400],\n",
       "       [1205, 2256],\n",
       "       [  39, 1489],\n",
       "       [ 394, 2259],\n",
       "       [ 388, 2303],\n",
       "       [ 236, 2231],\n",
       "       [ 149, 2381],\n",
       "       [1120, 2389],\n",
       "       [  96, 1858],\n",
       "       [1147, 1553],\n",
       "       [ 880, 1747],\n",
       "       [ 950, 2147],\n",
       "       [ 663,  766],\n",
       "       [ 388, 2301],\n",
       "       [1882, 2250],\n",
       "       [1408, 2036],\n",
       "       [ 124,  938],\n",
       "       [ 663,  783],\n",
       "       [ 122, 1642],\n",
       "       [1205, 1919],\n",
       "       [1212, 1375],\n",
       "       [1751, 2182],\n",
       "       [1205, 2397],\n",
       "       [1990, 1991],\n",
       "       [  86,  118],\n",
       "       [ 132, 1064],\n",
       "       [  88, 1940],\n",
       "       [1326, 2056],\n",
       "       [1964, 2005],\n",
       "       [1084, 2005],\n",
       "       [ 756, 1071],\n",
       "       [ 135,  827],\n",
       "       [ 201, 1297],\n",
       "       [2196, 2417],\n",
       "       [  22, 1714],\n",
       "       [ 610,  752],\n",
       "       [ 160,  579],\n",
       "       [ 516,  978],\n",
       "       [  18, 1231],\n",
       "       [ 929, 1371],\n",
       "       [2181, 2500],\n",
       "       [ 884, 2365],\n",
       "       [ 729, 2115],\n",
       "       [ 236, 2749],\n",
       "       [ 895, 2759],\n",
       "       [1287, 1591],\n",
       "       [ 135, 1152],\n",
       "       [ 318, 2255],\n",
       "       [1709, 1711],\n",
       "       [1226, 1332],\n",
       "       [2303, 2514],\n",
       "       [ 737, 1852],\n",
       "       [ 579, 2245],\n",
       "       [ 766, 1910],\n",
       "       [ 202, 2365],\n",
       "       [  42, 2652],\n",
       "       [1225, 2040],\n",
       "       [ 663, 1662],\n",
       "       [ 429, 1329],\n",
       "       [1467, 2078],\n",
       "       [1412, 2039],\n",
       "       [ 792,  995],\n",
       "       [1993, 1994],\n",
       "       [1927, 2779],\n",
       "       [1964, 2442],\n",
       "       [ 675, 2240],\n",
       "       [ 538, 1326],\n",
       "       [1039, 2365],\n",
       "       [1410, 2064],\n",
       "       [2498, 2508],\n",
       "       [2152, 2240],\n",
       "       [ 495, 1125],\n",
       "       [1615, 2740],\n",
       "       [1591, 1684],\n",
       "       [1278, 2049],\n",
       "       [1670, 2406],\n",
       "       [ 964, 1786],\n",
       "       [ 139, 1375],\n",
       "       [1552, 2044],\n",
       "       [ 868, 2283],\n",
       "       [1962, 1982],\n",
       "       [2012, 2370],\n",
       "       [ 579, 1375],\n",
       "       [2264, 2420],\n",
       "       [ 555,  989],\n",
       "       [ 863, 1028],\n",
       "       [1735, 2803],\n",
       "       [2123, 2251],\n",
       "       [1710, 2604],\n",
       "       [ 165, 2132],\n",
       "       [ 850, 2481],\n",
       "       [ 824, 2056],\n",
       "       [  39, 1375],\n",
       "       [  15, 1326],\n",
       "       [1212, 1820],\n",
       "       [ 141, 1420],\n",
       "       [ 663, 2231],\n",
       "       [ 584, 1003],\n",
       "       [ 956, 2340],\n",
       "       [1205, 2038],\n",
       "       [  67, 2504],\n",
       "       [ 122, 1321],\n",
       "       [2120, 2756],\n",
       "       [ 137, 1410],\n",
       "       [1315, 2098],\n",
       "       [1426, 2085],\n",
       "       [ 196,  663],\n",
       "       [  24, 1205],\n",
       "       [ 476, 1244],\n",
       "       [1858, 2360],\n",
       "       [1671, 1747],\n",
       "       [ 412, 1990],\n",
       "       [ 200, 2756],\n",
       "       [ 363, 1130],\n",
       "       [1198, 2428],\n",
       "       [  74,  569],\n",
       "       [2659, 2751],\n",
       "       [1371, 2182],\n",
       "       [1050, 1180],\n",
       "       [ 773, 1092],\n",
       "       [ 542, 1845],\n",
       "       [1506, 2521],\n",
       "       [1326, 2054],\n",
       "       [ 950, 2483],\n",
       "       [ 747, 1874],\n",
       "       [ 798,  954],\n",
       "       [1340, 1564],\n",
       "       [  15, 1361],\n",
       "       [ 950, 1383],\n",
       "       [  98, 2263],\n",
       "       [ 768, 2378],\n",
       "       [ 976, 2707],\n",
       "       [1382, 2432],\n",
       "       [ 548,  663],\n",
       "       [ 702, 2562],\n",
       "       [1560, 2082],\n",
       "       [ 748, 1560],\n",
       "       [1337, 2131],\n",
       "       [ 476, 2336],\n",
       "       [ 861, 2124],\n",
       "       [  88, 2136],\n",
       "       [ 594, 1769],\n",
       "       [1103, 1241],\n",
       "       [1863, 2132],\n",
       "       [ 847, 1027],\n",
       "       [ 223,  235],\n",
       "       [ 124, 1863],\n",
       "       [1075, 2110],\n",
       "       [ 336, 2504],\n",
       "       [1251, 2649],\n",
       "       [ 485, 2369],\n",
       "       [ 873, 1375],\n",
       "       [1200, 1882],\n",
       "       [ 202, 1938],\n",
       "       [1118, 2738],\n",
       "       [1049, 1092],\n",
       "       [  53,  694],\n",
       "       [1375, 1489],\n",
       "       [1966, 1986],\n",
       "       [ 507, 1196],\n",
       "       [1138, 1645],\n",
       "       [ 199, 2718],\n",
       "       [1496, 2779],\n",
       "       [ 378, 1790],\n",
       "       [ 329, 1197],\n",
       "       [1011, 2564],\n",
       "       [1205, 2400],\n",
       "       [2026, 2454],\n",
       "       [1004, 1357],\n",
       "       [ 196,  828],\n",
       "       [ 663, 1394],\n",
       "       [ 956, 1335],\n",
       "       [1009, 2707],\n",
       "       [  17,  710],\n",
       "       [ 921, 2417],\n",
       "       [ 212, 2428],\n",
       "       [ 619, 2060],\n",
       "       [  11, 1372],\n",
       "       [ 735, 2145],\n",
       "       [ 884, 2104],\n",
       "       [  51,  649],\n",
       "       [ 624, 2627],\n",
       "       [ 883, 1209],\n",
       "       [2365, 2366],\n",
       "       [ 894, 1972],\n",
       "       [ 884, 1368],\n",
       "       [ 628, 1461],\n",
       "       [1252, 1875],\n",
       "       [ 443, 1948],\n",
       "       [ 138,  653],\n",
       "       [ 969, 2457],\n",
       "       [ 587,  748],\n",
       "       [ 476, 1444],\n",
       "       [  74,  792],\n",
       "       [ 584,  940],\n",
       "       [ 773, 2365],\n",
       "       [1462, 2370],\n",
       "       [  54, 1748],\n",
       "       [ 271, 1895],\n",
       "       [  87, 1021],\n",
       "       [1678, 1987],\n",
       "       [  15, 1205],\n",
       "       [1212, 2058],\n",
       "       [2066, 2184],\n",
       "       [ 434, 1824],\n",
       "       [ 267, 1917],\n",
       "       [1371, 2569],\n",
       "       [ 277,  783],\n",
       "       [ 135, 1490],\n",
       "       [ 766, 1645],\n",
       "       [ 267, 1205],\n",
       "       [ 821, 1650],\n",
       "       [1437, 2639],\n",
       "       [1546, 1851],\n",
       "       [ 277, 1448],\n",
       "       [2036, 2038],\n",
       "       [ 663, 2271],\n",
       "       [1160, 2195],\n",
       "       [1665, 2116],\n",
       "       [ 185,  357],\n",
       "       [1538, 1854],\n",
       "       [1031, 2362],\n",
       "       [ 935, 1737],\n",
       "       [1326, 2481],\n",
       "       [1641, 2082],\n",
       "       [ 122, 2132],\n",
       "       [1487, 1969],\n",
       "       [1182, 2724],\n",
       "       [ 440,  867],\n",
       "       [2015, 2438],\n",
       "       [ 271,  511],\n",
       "       [ 765, 1935],\n",
       "       [ 568, 2191],\n",
       "       [ 634,  930],\n",
       "       [ 793, 2194],\n",
       "       [1049, 1410],\n",
       "       [1606, 2302],\n",
       "       [ 965, 1591],\n",
       "       [2010, 2786],\n",
       "       [1006, 1160],\n",
       "       [ 735, 1410],\n",
       "       [ 820, 2575],\n",
       "       [ 958, 1468],\n",
       "       [2231, 2365],\n",
       "       [ 885, 1300],\n",
       "       [ 807, 1958],\n",
       "       [ 622, 1207],\n",
       "       [ 223, 1307],\n",
       "       [ 135, 2115],\n",
       "       [  49, 1611],\n",
       "       [ 502,  587],\n",
       "       [ 765, 1852],\n",
       "       [1450, 1880],\n",
       "       [ 490,  978],\n",
       "       [ 293,  925],\n",
       "       [2104, 2365],\n",
       "       [  52, 1034],\n",
       "       [ 922, 1447],\n",
       "       [ 320,  352],\n",
       "       [ 626, 1966],\n",
       "       [ 953, 1560],\n",
       "       [2052, 2302],\n",
       "       [ 201, 2388],\n",
       "       [  29, 2553],\n",
       "       [1196, 2388],\n",
       "       [ 185,  388],\n",
       "       [ 748, 1130],\n",
       "       [2219, 2221],\n",
       "       [1320, 2179],\n",
       "       [ 884, 1391],\n",
       "       [1555, 2235],\n",
       "       [ 277, 1645],\n",
       "       [ 234, 2085],\n",
       "       [ 195, 1917],\n",
       "       [ 604, 2493],\n",
       "       [1357, 2568],\n",
       "       [1426, 1885],\n",
       "       [2110, 2209],\n",
       "       [ 893, 1553],\n",
       "       [2178, 2707],\n",
       "       [  85, 1927],\n",
       "       [ 659, 1227],\n",
       "       [  15, 2053],\n",
       "       [1011, 1745],\n",
       "       [ 745,  861],\n",
       "       [1337, 2005],\n",
       "       [ 391, 2128],\n",
       "       [ 544,  783],\n",
       "       [  99,  476],\n",
       "       [ 172, 1547],\n",
       "       [ 562,  720],\n",
       "       [ 429,  448],\n",
       "       [ 429,  938],\n",
       "       [ 511, 1205],\n",
       "       [ 548, 2183],\n",
       "       [1112, 1242],\n",
       "       [1146, 1796],\n",
       "       [ 311, 2245],\n",
       "       [ 765, 2259],\n",
       "       [ 969, 2285],\n",
       "       [ 538,  544],\n",
       "       [ 653, 2096],\n",
       "       [2274, 2276],\n",
       "       [1004, 2196],\n",
       "       [  54, 1789],\n",
       "       [ 710, 1219],\n",
       "       [ 333, 2777],\n",
       "       [1300, 1606],\n",
       "       [2011, 2163],\n",
       "       [1692, 1877],\n",
       "       [ 603, 2730],\n",
       "       [ 824, 1891],\n",
       "       [  72,  516],\n",
       "       [2140, 2469],\n",
       "       [ 622, 2013],\n",
       "       [  40, 1047],\n",
       "       [ 705, 2183],\n",
       "       [ 419, 2149],\n",
       "       [1642, 2043],\n",
       "       [ 706, 1751],\n",
       "       [1529, 1845],\n",
       "       [ 123, 1205],\n",
       "       [  51,  651],\n",
       "       [ 430, 1398],\n",
       "       [1353, 2759],\n",
       "       [ 558, 1628],\n",
       "       [ 215, 2717],\n",
       "       [1228, 2331],\n",
       "       [ 476, 2586],\n",
       "       [1342, 2355],\n",
       "       [ 909, 1573],\n",
       "       [ 476, 2410],\n",
       "       [1903, 2239],\n",
       "       [1805, 2457],\n",
       "       [ 196, 1034],\n",
       "       [1724, 2616],\n",
       "       [ 868, 1938],\n",
       "       [1205, 2268],\n",
       "       [1686, 2659],\n",
       "       [ 605, 2055],\n",
       "       [ 688, 1546],\n",
       "       [1025, 1032],\n",
       "       [1578, 1771],\n",
       "       [ 438,  765],\n",
       "       [ 544, 2481]])"
      ]
     },
     "execution_count": 138,
     "metadata": {},
     "output_type": "execute_result"
    }
   ],
   "source": [
    "val_ones"
   ]
  },
  {
   "cell_type": "code",
   "execution_count": 140,
   "id": "35cc2332",
   "metadata": {},
   "outputs": [
    {
     "data": {
      "text/plain": [
       "<2824x2824 sparse matrix of type '<class 'numpy.float64'>'\n",
       "\twith 3663 stored elements in Compressed Sparse Row format>"
      ]
     },
     "execution_count": 140,
     "metadata": {},
     "output_type": "execute_result"
    }
   ],
   "source": [
    "a_train"
   ]
  },
  {
   "cell_type": "code",
   "execution_count": 143,
   "id": "8d7a8f69",
   "metadata": {},
   "outputs": [],
   "source": [
    "for i in range(val_zeros.shape[0]):\n",
    "    if a_train.toarray()[val_zeros[i][0]][val_zeros[i][1]] == 1:\n",
    "        print(\"false\")"
   ]
  },
  {
   "cell_type": "code",
   "execution_count": 144,
   "id": "46fa421e",
   "metadata": {},
   "outputs": [
    {
     "data": {
      "text/plain": [
       "0.1001911001911002"
      ]
     },
     "execution_count": 144,
     "metadata": {},
     "output_type": "execute_result"
    }
   ],
   "source": [
    "len(val_zeros) / 3663"
   ]
  },
  {
   "cell_type": "code",
   "execution_count": 145,
   "id": "90bab21c",
   "metadata": {},
   "outputs": [
    {
     "data": {
      "text/plain": [
       "(367, 367)"
      ]
     },
     "execution_count": 145,
     "metadata": {},
     "output_type": "execute_result"
    }
   ],
   "source": [
    "len(val_zeros) , len(val_ones)"
   ]
  },
  {
   "cell_type": "code",
   "execution_count": 146,
   "id": "2664c5c9",
   "metadata": {},
   "outputs": [
    {
     "data": {
      "text/plain": [
       "array([[   0, 1315],\n",
       "       [   6,  597],\n",
       "       [  11, 2319],\n",
       "       [  13,  437],\n",
       "       [  26, 2751],\n",
       "       [  40,   94],\n",
       "       [  43,  577],\n",
       "       [  47,  772],\n",
       "       [  48, 2023],\n",
       "       [  52,  455],\n",
       "       [  54, 2209],\n",
       "       [  58, 1238],\n",
       "       [  59, 1498],\n",
       "       [  62, 1477],\n",
       "       [  67, 1592],\n",
       "       [  73, 2632],\n",
       "       [  75, 2025],\n",
       "       [  77,  700],\n",
       "       [  80, 1187],\n",
       "       [  80, 2558],\n",
       "       [  81,  645],\n",
       "       [  84,   90],\n",
       "       [ 103,   99],\n",
       "       [ 105, 2735],\n",
       "       [ 106,  754],\n",
       "       [ 107,  504],\n",
       "       [ 108,  456],\n",
       "       [ 119, 2362],\n",
       "       [ 121, 1323],\n",
       "       [ 123, 2555],\n",
       "       [ 126, 2120],\n",
       "       [ 127,   13],\n",
       "       [ 131, 1980],\n",
       "       [ 145, 1776],\n",
       "       [ 145, 2685],\n",
       "       [ 163, 1214],\n",
       "       [ 164, 2474],\n",
       "       [ 176, 1425],\n",
       "       [ 187, 2438],\n",
       "       [ 198, 2170],\n",
       "       [ 228,  850],\n",
       "       [ 231, 1943],\n",
       "       [ 236, 1244],\n",
       "       [ 250, 1179],\n",
       "       [ 251,  932],\n",
       "       [ 254,  459],\n",
       "       [ 254, 1171],\n",
       "       [ 255, 1860],\n",
       "       [ 267,  179],\n",
       "       [ 267, 1929],\n",
       "       [ 268,  765],\n",
       "       [ 274, 2248],\n",
       "       [ 275,   41],\n",
       "       [ 297, 1811],\n",
       "       [ 300, 2304],\n",
       "       [ 303, 1920],\n",
       "       [ 331, 2032],\n",
       "       [ 340,  564],\n",
       "       [ 340, 1570],\n",
       "       [ 344, 1539],\n",
       "       [ 344, 1612],\n",
       "       [ 353, 2770],\n",
       "       [ 357, 2310],\n",
       "       [ 357, 2583],\n",
       "       [ 359, 1832],\n",
       "       [ 360, 2138],\n",
       "       [ 362, 2728],\n",
       "       [ 366, 1044],\n",
       "       [ 367, 1017],\n",
       "       [ 375, 2677],\n",
       "       [ 377,  260],\n",
       "       [ 385,  264],\n",
       "       [ 387,  320],\n",
       "       [ 392, 1231],\n",
       "       [ 395, 1352],\n",
       "       [ 407, 1785],\n",
       "       [ 419, 2398],\n",
       "       [ 425,  781],\n",
       "       [ 433,  477],\n",
       "       [ 438, 1146],\n",
       "       [ 445, 1823],\n",
       "       [ 448, 2414],\n",
       "       [ 466, 1685],\n",
       "       [ 468, 1599],\n",
       "       [ 474, 1168],\n",
       "       [ 475, 1296],\n",
       "       [ 478, 1476],\n",
       "       [ 492,   18],\n",
       "       [ 494, 1808],\n",
       "       [ 497, 2299],\n",
       "       [ 503, 1703],\n",
       "       [ 505, 1253],\n",
       "       [ 508, 2208],\n",
       "       [ 511, 2468],\n",
       "       [ 513, 2415],\n",
       "       [ 515, 1417],\n",
       "       [ 518, 1610],\n",
       "       [ 525,  568],\n",
       "       [ 529,  497],\n",
       "       [ 540, 2441],\n",
       "       [ 544,  637],\n",
       "       [ 557, 2333],\n",
       "       [ 561, 2312],\n",
       "       [ 563,  335],\n",
       "       [ 585, 1970],\n",
       "       [ 588, 1253],\n",
       "       [ 588, 2432],\n",
       "       [ 595,  147],\n",
       "       [ 600, 1027],\n",
       "       [ 602, 1426],\n",
       "       [ 609, 2292],\n",
       "       [ 611,  964],\n",
       "       [ 618,   16],\n",
       "       [ 627,  454],\n",
       "       [ 632, 1154],\n",
       "       [ 637, 1100],\n",
       "       [ 646, 2248],\n",
       "       [ 653,  504],\n",
       "       [ 672,  492],\n",
       "       [ 676, 1156],\n",
       "       [ 681, 2444],\n",
       "       [ 696,  954],\n",
       "       [ 697, 1310],\n",
       "       [ 701, 2222],\n",
       "       [ 702, 2564],\n",
       "       [ 715, 1117],\n",
       "       [ 717, 1626],\n",
       "       [ 723, 1306],\n",
       "       [ 732,  151],\n",
       "       [ 746, 2092],\n",
       "       [ 750,  819],\n",
       "       [ 762, 1883],\n",
       "       [ 772,  689],\n",
       "       [ 777,  997],\n",
       "       [ 781,  328],\n",
       "       [ 784, 2684],\n",
       "       [ 795, 1053],\n",
       "       [ 797, 1263],\n",
       "       [ 802, 1578],\n",
       "       [ 813, 2554],\n",
       "       [ 814,   91],\n",
       "       [ 837, 1017],\n",
       "       [ 838, 2254],\n",
       "       [ 839, 1110],\n",
       "       [ 846, 1152],\n",
       "       [ 855,  805],\n",
       "       [ 855, 2556],\n",
       "       [ 855, 2681],\n",
       "       [ 859,  476],\n",
       "       [ 859,  774],\n",
       "       [ 860, 2085],\n",
       "       [ 865, 1897],\n",
       "       [ 884,  650],\n",
       "       [ 884, 1181],\n",
       "       [ 886,  820],\n",
       "       [ 902, 2727],\n",
       "       [ 903, 2741],\n",
       "       [ 908,  931],\n",
       "       [ 909,  136],\n",
       "       [ 909, 1229],\n",
       "       [ 912,  884],\n",
       "       [ 919,  318],\n",
       "       [ 921, 1663],\n",
       "       [ 930, 1010],\n",
       "       [ 937,  413],\n",
       "       [ 943,  313],\n",
       "       [ 956, 1663],\n",
       "       [ 966,  631],\n",
       "       [ 966, 2393],\n",
       "       [ 968,  232],\n",
       "       [ 968, 2512],\n",
       "       [ 969,   99],\n",
       "       [ 970,  323],\n",
       "       [ 972, 2349],\n",
       "       [ 975,  827],\n",
       "       [ 984,  778],\n",
       "       [ 993, 1354],\n",
       "       [ 999, 2471],\n",
       "       [1000, 1897],\n",
       "       [1007, 2494],\n",
       "       [1016,   28],\n",
       "       [1017, 1083],\n",
       "       [1019, 2383],\n",
       "       [1025, 1748],\n",
       "       [1026, 2245],\n",
       "       [1027, 2123],\n",
       "       [1036, 2380],\n",
       "       [1038, 2517],\n",
       "       [1041, 1631],\n",
       "       [1045,   63],\n",
       "       [1048, 1699],\n",
       "       [1052,  284],\n",
       "       [1058,   76],\n",
       "       [1058, 2561],\n",
       "       [1063,  757],\n",
       "       [1079, 1898],\n",
       "       [1086, 2064],\n",
       "       [1089, 1099],\n",
       "       [1094, 2808],\n",
       "       [1099, 2145],\n",
       "       [1106, 2251],\n",
       "       [1112, 1405],\n",
       "       [1124, 1806],\n",
       "       [1131, 2192],\n",
       "       [1134, 2336],\n",
       "       [1136, 1173],\n",
       "       [1137, 2449],\n",
       "       [1147, 1315],\n",
       "       [1151,  277],\n",
       "       [1154,   27],\n",
       "       [1157, 1602],\n",
       "       [1158, 1476],\n",
       "       [1164,  610],\n",
       "       [1187,  486],\n",
       "       [1194, 1739],\n",
       "       [1210, 2572],\n",
       "       [1213,  194],\n",
       "       [1215, 1661],\n",
       "       [1217, 1346],\n",
       "       [1225,  943],\n",
       "       [1228, 2099],\n",
       "       [1252, 1211],\n",
       "       [1253, 2403],\n",
       "       [1257,  110],\n",
       "       [1257, 2181],\n",
       "       [1264, 1549],\n",
       "       [1268,  783],\n",
       "       [1278, 1010],\n",
       "       [1289,  652],\n",
       "       [1296, 1802],\n",
       "       [1301,  814],\n",
       "       [1305,  789],\n",
       "       [1307,  522],\n",
       "       [1307,  655],\n",
       "       [1311, 2174],\n",
       "       [1318, 2254],\n",
       "       [1341,  488],\n",
       "       [1348, 1125],\n",
       "       [1352, 2031],\n",
       "       [1372, 1030],\n",
       "       [1372, 2054],\n",
       "       [1375,  766],\n",
       "       [1378, 1140],\n",
       "       [1388, 2697],\n",
       "       [1394,  767],\n",
       "       [1395, 1126],\n",
       "       [1396,   63],\n",
       "       [1397, 2454],\n",
       "       [1413,  168],\n",
       "       [1435, 1773],\n",
       "       [1435, 2035],\n",
       "       [1443,  715],\n",
       "       [1449,  722],\n",
       "       [1449, 1061],\n",
       "       [1454, 2086],\n",
       "       [1462, 1355],\n",
       "       [1462, 2432],\n",
       "       [1467, 1323],\n",
       "       [1528, 2074],\n",
       "       [1548,  645],\n",
       "       [1554,  970],\n",
       "       [1555, 2645],\n",
       "       [1570, 1862],\n",
       "       [1583, 1024],\n",
       "       [1584, 2673],\n",
       "       [1587,  215],\n",
       "       [1588,  913],\n",
       "       [1603, 2322],\n",
       "       [1604,  315],\n",
       "       [1605,  360],\n",
       "       [1609, 1588],\n",
       "       [1612, 1560],\n",
       "       [1614, 1293],\n",
       "       [1619,  711],\n",
       "       [1627, 1184],\n",
       "       [1633,  260],\n",
       "       [1633, 1798],\n",
       "       [1636,  362],\n",
       "       [1648, 2059],\n",
       "       [1656,  370],\n",
       "       [1660, 2719],\n",
       "       [1681,  671],\n",
       "       [1689,  101],\n",
       "       [1693, 2487],\n",
       "       [1694,  588],\n",
       "       [1714, 1222],\n",
       "       [1717,  278],\n",
       "       [1723, 1403],\n",
       "       [1724,  518],\n",
       "       [1727,  603],\n",
       "       [1728, 1255],\n",
       "       [1734, 1060],\n",
       "       [1735,  201],\n",
       "       [1737, 2168],\n",
       "       [1751,  235],\n",
       "       [1756, 2096],\n",
       "       [1758, 1637],\n",
       "       [1762, 1149],\n",
       "       [1764,  931],\n",
       "       [1773, 1260],\n",
       "       [1782,  393],\n",
       "       [1782, 2080],\n",
       "       [1782, 2559],\n",
       "       [1788, 1976],\n",
       "       [1792, 1684],\n",
       "       [1795,  128],\n",
       "       [1802,  272],\n",
       "       [1810,  752],\n",
       "       [1818, 2183],\n",
       "       [1832, 2185],\n",
       "       [1841, 1049],\n",
       "       [1846, 1444],\n",
       "       [1851, 2420],\n",
       "       [1854,  442],\n",
       "       [1866, 2781],\n",
       "       [1878, 2094],\n",
       "       [1885, 2348],\n",
       "       [1890, 2327],\n",
       "       [1893,    8],\n",
       "       [1899,  153],\n",
       "       [1903, 1686],\n",
       "       [1905, 1944],\n",
       "       [1911, 1227],\n",
       "       [1914,  544],\n",
       "       [1915,  359],\n",
       "       [1915,  693],\n",
       "       [1917,  856],\n",
       "       [1918,  645],\n",
       "       [1923, 2280],\n",
       "       [1925, 1105],\n",
       "       [1925, 1650],\n",
       "       [1930, 2302],\n",
       "       [1935,  486],\n",
       "       [1945,  172],\n",
       "       [1947,  626],\n",
       "       [1948, 1782],\n",
       "       [1959, 1534],\n",
       "       [1959, 2621],\n",
       "       [1967, 2573],\n",
       "       [1970, 1424],\n",
       "       [1973, 1485],\n",
       "       [1978,   80],\n",
       "       [1987, 1981],\n",
       "       [1994, 2778],\n",
       "       [2000,  141],\n",
       "       [2004, 2159],\n",
       "       [2005,  157],\n",
       "       [2020, 1775],\n",
       "       [2025, 2627],\n",
       "       [2031,  657],\n",
       "       [2039, 1998],\n",
       "       [2041,  449],\n",
       "       [2042,   68],\n",
       "       [2050, 1838],\n",
       "       [2055, 1400],\n",
       "       [2057, 1929],\n",
       "       [2064, 2759],\n",
       "       [2077, 2117],\n",
       "       [2077, 2139],\n",
       "       [2109, 2506],\n",
       "       [2116,   91],\n",
       "       [2127, 1035],\n",
       "       [2132, 1301],\n",
       "       [2135, 1348],\n",
       "       [2142, 1823],\n",
       "       [2143, 1026],\n",
       "       [2144, 1908]], dtype=int64)"
      ]
     },
     "execution_count": 146,
     "metadata": {},
     "output_type": "execute_result"
    }
   ],
   "source": [
    "val_zeros"
   ]
  }
 ],
 "metadata": {
  "kernelspec": {
   "display_name": "Python 3 (ipykernel)",
   "language": "python",
   "name": "python3"
  },
  "language_info": {
   "codemirror_mode": {
    "name": "ipython",
    "version": 3
   },
   "file_extension": ".py",
   "mimetype": "text/x-python",
   "name": "python",
   "nbconvert_exporter": "python",
   "pygments_lexer": "ipython3",
   "version": "3.7.9"
  }
 },
 "nbformat": 4,
 "nbformat_minor": 5
}
