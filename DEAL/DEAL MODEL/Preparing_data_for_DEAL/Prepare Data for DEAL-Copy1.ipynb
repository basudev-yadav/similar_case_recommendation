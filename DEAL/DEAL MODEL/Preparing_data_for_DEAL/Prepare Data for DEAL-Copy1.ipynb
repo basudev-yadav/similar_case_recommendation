{
 "cells": [
  {
   "cell_type": "markdown",
   "id": "850991eb",
   "metadata": {},
   "source": [
    "## Todo\n",
    "\n",
    "- Adjacency Matrix (A_sp.npy)\n",
    "- Features Matrix (X_sp.npy)\n",
    "- nodes_keep and nodes_hide\n",
    "- A_train and X_train\n",
    "- A_sp -> test_ones and test_zeros\n",
    "- A_train -> val_ones and val_zeros\n",
    "- Train_ones (edges in A_train)"
   ]
  },
  {
   "cell_type": "code",
   "execution_count": 11,
   "id": "1dbd069d",
   "metadata": {},
   "outputs": [],
   "source": [
    "path = \"../data/CiteSeer/\""
   ]
  },
  {
   "cell_type": "code",
   "execution_count": 12,
   "id": "23c253eb",
   "metadata": {},
   "outputs": [],
   "source": [
    "features = open(\"FEATURES1.txt\",\"r\")"
   ]
  },
  {
   "cell_type": "code",
   "execution_count": 13,
   "id": "c21e093e",
   "metadata": {},
   "outputs": [],
   "source": [
    "import pandas as pd\n",
    "import numpy as np\n",
    "import json\n",
    "import re\n",
    "import os"
   ]
  },
  {
   "cell_type": "code",
   "execution_count": 6,
   "id": "434d23ff",
   "metadata": {},
   "outputs": [],
   "source": [
    "train = pd.read_csv(\"TRAIN_SET.csv\")\n",
    "test = pd.read_csv(\"TEST_SET.csv\")"
   ]
  },
  {
   "cell_type": "code",
   "execution_count": 7,
   "id": "adedd358",
   "metadata": {},
   "outputs": [],
   "source": [
    "T = pd.concat([train,test])"
   ]
  },
  {
   "cell_type": "code",
   "execution_count": 8,
   "id": "5164a5ae",
   "metadata": {},
   "outputs": [],
   "source": [
    "T = T.drop_duplicates(keep='first')"
   ]
  },
  {
   "cell_type": "code",
   "execution_count": 9,
   "id": "9bbc3506",
   "metadata": {},
   "outputs": [],
   "source": [
    "#unique nodes in T\n",
    "nodes = []\n",
    "for i in range(T.shape[0]):\n",
    "    nodes.append(int(T.iloc[i][0]))\n",
    "    nodes.append(int(T.iloc[i][2]))\n",
    "\n",
    "nodes = list(set(nodes))"
   ]
  },
  {
   "cell_type": "code",
   "execution_count": 14,
   "id": "6b4ec456",
   "metadata": {},
   "outputs": [],
   "source": [
    "feature_names = [\"w_{}\".format(ii) for ii in range(86)]"
   ]
  },
  {
   "cell_type": "code",
   "execution_count": 15,
   "id": "6d8afb6f",
   "metadata": {},
   "outputs": [],
   "source": [
    "h = ['id']"
   ]
  },
  {
   "cell_type": "code",
   "execution_count": 16,
   "id": "8cde3a61",
   "metadata": {},
   "outputs": [],
   "source": [
    "for it in feature_names:\n",
    "    h.append(it)"
   ]
  },
  {
   "cell_type": "code",
   "execution_count": 17,
   "id": "fa3bf91f",
   "metadata": {},
   "outputs": [],
   "source": [
    "df = pd.read_csv('FEATURES1.txt', sep=\"\\t\", names=h)"
   ]
  },
  {
   "cell_type": "code",
   "execution_count": 18,
   "id": "22495ab9",
   "metadata": {},
   "outputs": [],
   "source": [
    "df.sort_values(by=['id'],inplace=True)"
   ]
  },
  {
   "cell_type": "code",
   "execution_count": 19,
   "id": "190af9d5",
   "metadata": {},
   "outputs": [],
   "source": [
    "X = np.zeros((1038,86))"
   ]
  },
  {
   "cell_type": "code",
   "execution_count": 20,
   "id": "a45a60fe",
   "metadata": {},
   "outputs": [
    {
     "data": {
      "text/html": [
       "<div>\n",
       "<style scoped>\n",
       "    .dataframe tbody tr th:only-of-type {\n",
       "        vertical-align: middle;\n",
       "    }\n",
       "\n",
       "    .dataframe tbody tr th {\n",
       "        vertical-align: top;\n",
       "    }\n",
       "\n",
       "    .dataframe thead th {\n",
       "        text-align: right;\n",
       "    }\n",
       "</style>\n",
       "<table border=\"1\" class=\"dataframe\">\n",
       "  <thead>\n",
       "    <tr style=\"text-align: right;\">\n",
       "      <th></th>\n",
       "      <th>id</th>\n",
       "      <th>w_0</th>\n",
       "      <th>w_1</th>\n",
       "      <th>w_2</th>\n",
       "      <th>w_3</th>\n",
       "      <th>w_4</th>\n",
       "      <th>w_5</th>\n",
       "      <th>w_6</th>\n",
       "      <th>w_7</th>\n",
       "      <th>w_8</th>\n",
       "      <th>...</th>\n",
       "      <th>w_76</th>\n",
       "      <th>w_77</th>\n",
       "      <th>w_78</th>\n",
       "      <th>w_79</th>\n",
       "      <th>w_80</th>\n",
       "      <th>w_81</th>\n",
       "      <th>w_82</th>\n",
       "      <th>w_83</th>\n",
       "      <th>w_84</th>\n",
       "      <th>w_85</th>\n",
       "    </tr>\n",
       "  </thead>\n",
       "  <tbody>\n",
       "    <tr>\n",
       "      <th>920</th>\n",
       "      <td>0</td>\n",
       "      <td>0</td>\n",
       "      <td>0</td>\n",
       "      <td>0</td>\n",
       "      <td>0</td>\n",
       "      <td>0</td>\n",
       "      <td>0</td>\n",
       "      <td>0</td>\n",
       "      <td>0</td>\n",
       "      <td>0</td>\n",
       "      <td>...</td>\n",
       "      <td>0</td>\n",
       "      <td>0</td>\n",
       "      <td>0</td>\n",
       "      <td>0</td>\n",
       "      <td>0</td>\n",
       "      <td>0</td>\n",
       "      <td>0</td>\n",
       "      <td>0</td>\n",
       "      <td>0</td>\n",
       "      <td>0</td>\n",
       "    </tr>\n",
       "    <tr>\n",
       "      <th>793</th>\n",
       "      <td>1</td>\n",
       "      <td>0</td>\n",
       "      <td>0</td>\n",
       "      <td>0</td>\n",
       "      <td>0</td>\n",
       "      <td>0</td>\n",
       "      <td>0</td>\n",
       "      <td>0</td>\n",
       "      <td>0</td>\n",
       "      <td>0</td>\n",
       "      <td>...</td>\n",
       "      <td>0</td>\n",
       "      <td>0</td>\n",
       "      <td>0</td>\n",
       "      <td>0</td>\n",
       "      <td>0</td>\n",
       "      <td>0</td>\n",
       "      <td>0</td>\n",
       "      <td>0</td>\n",
       "      <td>0</td>\n",
       "      <td>0</td>\n",
       "    </tr>\n",
       "    <tr>\n",
       "      <th>506</th>\n",
       "      <td>2</td>\n",
       "      <td>0</td>\n",
       "      <td>0</td>\n",
       "      <td>0</td>\n",
       "      <td>0</td>\n",
       "      <td>0</td>\n",
       "      <td>0</td>\n",
       "      <td>0</td>\n",
       "      <td>0</td>\n",
       "      <td>0</td>\n",
       "      <td>...</td>\n",
       "      <td>0</td>\n",
       "      <td>0</td>\n",
       "      <td>0</td>\n",
       "      <td>0</td>\n",
       "      <td>0</td>\n",
       "      <td>0</td>\n",
       "      <td>0</td>\n",
       "      <td>0</td>\n",
       "      <td>0</td>\n",
       "      <td>0</td>\n",
       "    </tr>\n",
       "    <tr>\n",
       "      <th>191</th>\n",
       "      <td>3</td>\n",
       "      <td>0</td>\n",
       "      <td>0</td>\n",
       "      <td>0</td>\n",
       "      <td>0</td>\n",
       "      <td>0</td>\n",
       "      <td>0</td>\n",
       "      <td>0</td>\n",
       "      <td>0</td>\n",
       "      <td>0</td>\n",
       "      <td>...</td>\n",
       "      <td>0</td>\n",
       "      <td>0</td>\n",
       "      <td>0</td>\n",
       "      <td>0</td>\n",
       "      <td>0</td>\n",
       "      <td>0</td>\n",
       "      <td>0</td>\n",
       "      <td>0</td>\n",
       "      <td>0</td>\n",
       "      <td>0</td>\n",
       "    </tr>\n",
       "    <tr>\n",
       "      <th>602</th>\n",
       "      <td>4</td>\n",
       "      <td>0</td>\n",
       "      <td>0</td>\n",
       "      <td>0</td>\n",
       "      <td>0</td>\n",
       "      <td>0</td>\n",
       "      <td>0</td>\n",
       "      <td>0</td>\n",
       "      <td>0</td>\n",
       "      <td>0</td>\n",
       "      <td>...</td>\n",
       "      <td>0</td>\n",
       "      <td>0</td>\n",
       "      <td>0</td>\n",
       "      <td>0</td>\n",
       "      <td>0</td>\n",
       "      <td>0</td>\n",
       "      <td>0</td>\n",
       "      <td>0</td>\n",
       "      <td>0</td>\n",
       "      <td>0</td>\n",
       "    </tr>\n",
       "    <tr>\n",
       "      <th>...</th>\n",
       "      <td>...</td>\n",
       "      <td>...</td>\n",
       "      <td>...</td>\n",
       "      <td>...</td>\n",
       "      <td>...</td>\n",
       "      <td>...</td>\n",
       "      <td>...</td>\n",
       "      <td>...</td>\n",
       "      <td>...</td>\n",
       "      <td>...</td>\n",
       "      <td>...</td>\n",
       "      <td>...</td>\n",
       "      <td>...</td>\n",
       "      <td>...</td>\n",
       "      <td>...</td>\n",
       "      <td>...</td>\n",
       "      <td>...</td>\n",
       "      <td>...</td>\n",
       "      <td>...</td>\n",
       "      <td>...</td>\n",
       "      <td>...</td>\n",
       "    </tr>\n",
       "    <tr>\n",
       "      <th>1033</th>\n",
       "      <td>1033</td>\n",
       "      <td>0</td>\n",
       "      <td>1</td>\n",
       "      <td>1</td>\n",
       "      <td>0</td>\n",
       "      <td>0</td>\n",
       "      <td>0</td>\n",
       "      <td>0</td>\n",
       "      <td>0</td>\n",
       "      <td>0</td>\n",
       "      <td>...</td>\n",
       "      <td>0</td>\n",
       "      <td>0</td>\n",
       "      <td>0</td>\n",
       "      <td>0</td>\n",
       "      <td>0</td>\n",
       "      <td>0</td>\n",
       "      <td>0</td>\n",
       "      <td>0</td>\n",
       "      <td>0</td>\n",
       "      <td>0</td>\n",
       "    </tr>\n",
       "    <tr>\n",
       "      <th>1034</th>\n",
       "      <td>1034</td>\n",
       "      <td>1</td>\n",
       "      <td>1</td>\n",
       "      <td>1</td>\n",
       "      <td>0</td>\n",
       "      <td>0</td>\n",
       "      <td>0</td>\n",
       "      <td>0</td>\n",
       "      <td>0</td>\n",
       "      <td>0</td>\n",
       "      <td>...</td>\n",
       "      <td>0</td>\n",
       "      <td>0</td>\n",
       "      <td>0</td>\n",
       "      <td>0</td>\n",
       "      <td>0</td>\n",
       "      <td>0</td>\n",
       "      <td>0</td>\n",
       "      <td>0</td>\n",
       "      <td>0</td>\n",
       "      <td>0</td>\n",
       "    </tr>\n",
       "    <tr>\n",
       "      <th>1035</th>\n",
       "      <td>1035</td>\n",
       "      <td>1</td>\n",
       "      <td>1</td>\n",
       "      <td>1</td>\n",
       "      <td>0</td>\n",
       "      <td>0</td>\n",
       "      <td>0</td>\n",
       "      <td>0</td>\n",
       "      <td>0</td>\n",
       "      <td>0</td>\n",
       "      <td>...</td>\n",
       "      <td>0</td>\n",
       "      <td>1</td>\n",
       "      <td>0</td>\n",
       "      <td>0</td>\n",
       "      <td>0</td>\n",
       "      <td>0</td>\n",
       "      <td>0</td>\n",
       "      <td>0</td>\n",
       "      <td>0</td>\n",
       "      <td>0</td>\n",
       "    </tr>\n",
       "    <tr>\n",
       "      <th>1036</th>\n",
       "      <td>1036</td>\n",
       "      <td>1</td>\n",
       "      <td>1</td>\n",
       "      <td>1</td>\n",
       "      <td>0</td>\n",
       "      <td>0</td>\n",
       "      <td>0</td>\n",
       "      <td>0</td>\n",
       "      <td>0</td>\n",
       "      <td>0</td>\n",
       "      <td>...</td>\n",
       "      <td>0</td>\n",
       "      <td>0</td>\n",
       "      <td>0</td>\n",
       "      <td>0</td>\n",
       "      <td>0</td>\n",
       "      <td>0</td>\n",
       "      <td>0</td>\n",
       "      <td>0</td>\n",
       "      <td>0</td>\n",
       "      <td>0</td>\n",
       "    </tr>\n",
       "    <tr>\n",
       "      <th>1037</th>\n",
       "      <td>1037</td>\n",
       "      <td>0</td>\n",
       "      <td>0</td>\n",
       "      <td>0</td>\n",
       "      <td>0</td>\n",
       "      <td>0</td>\n",
       "      <td>0</td>\n",
       "      <td>0</td>\n",
       "      <td>0</td>\n",
       "      <td>0</td>\n",
       "      <td>...</td>\n",
       "      <td>0</td>\n",
       "      <td>0</td>\n",
       "      <td>0</td>\n",
       "      <td>0</td>\n",
       "      <td>0</td>\n",
       "      <td>0</td>\n",
       "      <td>0</td>\n",
       "      <td>0</td>\n",
       "      <td>0</td>\n",
       "      <td>0</td>\n",
       "    </tr>\n",
       "  </tbody>\n",
       "</table>\n",
       "<p>1038 rows × 87 columns</p>\n",
       "</div>"
      ],
      "text/plain": [
       "        id  w_0  w_1  w_2  w_3  w_4  w_5  w_6  w_7  w_8  ...  w_76  w_77  \\\n",
       "920      0    0    0    0    0    0    0    0    0    0  ...     0     0   \n",
       "793      1    0    0    0    0    0    0    0    0    0  ...     0     0   \n",
       "506      2    0    0    0    0    0    0    0    0    0  ...     0     0   \n",
       "191      3    0    0    0    0    0    0    0    0    0  ...     0     0   \n",
       "602      4    0    0    0    0    0    0    0    0    0  ...     0     0   \n",
       "...    ...  ...  ...  ...  ...  ...  ...  ...  ...  ...  ...   ...   ...   \n",
       "1033  1033    0    1    1    0    0    0    0    0    0  ...     0     0   \n",
       "1034  1034    1    1    1    0    0    0    0    0    0  ...     0     0   \n",
       "1035  1035    1    1    1    0    0    0    0    0    0  ...     0     1   \n",
       "1036  1036    1    1    1    0    0    0    0    0    0  ...     0     0   \n",
       "1037  1037    0    0    0    0    0    0    0    0    0  ...     0     0   \n",
       "\n",
       "      w_78  w_79  w_80  w_81  w_82  w_83  w_84  w_85  \n",
       "920      0     0     0     0     0     0     0     0  \n",
       "793      0     0     0     0     0     0     0     0  \n",
       "506      0     0     0     0     0     0     0     0  \n",
       "191      0     0     0     0     0     0     0     0  \n",
       "602      0     0     0     0     0     0     0     0  \n",
       "...    ...   ...   ...   ...   ...   ...   ...   ...  \n",
       "1033     0     0     0     0     0     0     0     0  \n",
       "1034     0     0     0     0     0     0     0     0  \n",
       "1035     0     0     0     0     0     0     0     0  \n",
       "1036     0     0     0     0     0     0     0     0  \n",
       "1037     0     0     0     0     0     0     0     0  \n",
       "\n",
       "[1038 rows x 87 columns]"
      ]
     },
     "execution_count": 20,
     "metadata": {},
     "output_type": "execute_result"
    }
   ],
   "source": [
    "df"
   ]
  },
  {
   "cell_type": "code",
   "execution_count": 23,
   "id": "7e477df6",
   "metadata": {},
   "outputs": [],
   "source": [
    "df = df.reset_index()"
   ]
  },
  {
   "cell_type": "code",
   "execution_count": 24,
   "id": "1997026f",
   "metadata": {},
   "outputs": [
    {
     "data": {
      "text/html": [
       "<div>\n",
       "<style scoped>\n",
       "    .dataframe tbody tr th:only-of-type {\n",
       "        vertical-align: middle;\n",
       "    }\n",
       "\n",
       "    .dataframe tbody tr th {\n",
       "        vertical-align: top;\n",
       "    }\n",
       "\n",
       "    .dataframe thead th {\n",
       "        text-align: right;\n",
       "    }\n",
       "</style>\n",
       "<table border=\"1\" class=\"dataframe\">\n",
       "  <thead>\n",
       "    <tr style=\"text-align: right;\">\n",
       "      <th></th>\n",
       "      <th>index</th>\n",
       "      <th>id</th>\n",
       "      <th>w_0</th>\n",
       "      <th>w_1</th>\n",
       "      <th>w_2</th>\n",
       "      <th>w_3</th>\n",
       "      <th>w_4</th>\n",
       "      <th>w_5</th>\n",
       "      <th>w_6</th>\n",
       "      <th>w_7</th>\n",
       "      <th>...</th>\n",
       "      <th>w_76</th>\n",
       "      <th>w_77</th>\n",
       "      <th>w_78</th>\n",
       "      <th>w_79</th>\n",
       "      <th>w_80</th>\n",
       "      <th>w_81</th>\n",
       "      <th>w_82</th>\n",
       "      <th>w_83</th>\n",
       "      <th>w_84</th>\n",
       "      <th>w_85</th>\n",
       "    </tr>\n",
       "  </thead>\n",
       "  <tbody>\n",
       "    <tr>\n",
       "      <th>0</th>\n",
       "      <td>920</td>\n",
       "      <td>0</td>\n",
       "      <td>0</td>\n",
       "      <td>0</td>\n",
       "      <td>0</td>\n",
       "      <td>0</td>\n",
       "      <td>0</td>\n",
       "      <td>0</td>\n",
       "      <td>0</td>\n",
       "      <td>0</td>\n",
       "      <td>...</td>\n",
       "      <td>0</td>\n",
       "      <td>0</td>\n",
       "      <td>0</td>\n",
       "      <td>0</td>\n",
       "      <td>0</td>\n",
       "      <td>0</td>\n",
       "      <td>0</td>\n",
       "      <td>0</td>\n",
       "      <td>0</td>\n",
       "      <td>0</td>\n",
       "    </tr>\n",
       "    <tr>\n",
       "      <th>1</th>\n",
       "      <td>793</td>\n",
       "      <td>1</td>\n",
       "      <td>0</td>\n",
       "      <td>0</td>\n",
       "      <td>0</td>\n",
       "      <td>0</td>\n",
       "      <td>0</td>\n",
       "      <td>0</td>\n",
       "      <td>0</td>\n",
       "      <td>0</td>\n",
       "      <td>...</td>\n",
       "      <td>0</td>\n",
       "      <td>0</td>\n",
       "      <td>0</td>\n",
       "      <td>0</td>\n",
       "      <td>0</td>\n",
       "      <td>0</td>\n",
       "      <td>0</td>\n",
       "      <td>0</td>\n",
       "      <td>0</td>\n",
       "      <td>0</td>\n",
       "    </tr>\n",
       "    <tr>\n",
       "      <th>2</th>\n",
       "      <td>506</td>\n",
       "      <td>2</td>\n",
       "      <td>0</td>\n",
       "      <td>0</td>\n",
       "      <td>0</td>\n",
       "      <td>0</td>\n",
       "      <td>0</td>\n",
       "      <td>0</td>\n",
       "      <td>0</td>\n",
       "      <td>0</td>\n",
       "      <td>...</td>\n",
       "      <td>0</td>\n",
       "      <td>0</td>\n",
       "      <td>0</td>\n",
       "      <td>0</td>\n",
       "      <td>0</td>\n",
       "      <td>0</td>\n",
       "      <td>0</td>\n",
       "      <td>0</td>\n",
       "      <td>0</td>\n",
       "      <td>0</td>\n",
       "    </tr>\n",
       "    <tr>\n",
       "      <th>3</th>\n",
       "      <td>191</td>\n",
       "      <td>3</td>\n",
       "      <td>0</td>\n",
       "      <td>0</td>\n",
       "      <td>0</td>\n",
       "      <td>0</td>\n",
       "      <td>0</td>\n",
       "      <td>0</td>\n",
       "      <td>0</td>\n",
       "      <td>0</td>\n",
       "      <td>...</td>\n",
       "      <td>0</td>\n",
       "      <td>0</td>\n",
       "      <td>0</td>\n",
       "      <td>0</td>\n",
       "      <td>0</td>\n",
       "      <td>0</td>\n",
       "      <td>0</td>\n",
       "      <td>0</td>\n",
       "      <td>0</td>\n",
       "      <td>0</td>\n",
       "    </tr>\n",
       "    <tr>\n",
       "      <th>4</th>\n",
       "      <td>602</td>\n",
       "      <td>4</td>\n",
       "      <td>0</td>\n",
       "      <td>0</td>\n",
       "      <td>0</td>\n",
       "      <td>0</td>\n",
       "      <td>0</td>\n",
       "      <td>0</td>\n",
       "      <td>0</td>\n",
       "      <td>0</td>\n",
       "      <td>...</td>\n",
       "      <td>0</td>\n",
       "      <td>0</td>\n",
       "      <td>0</td>\n",
       "      <td>0</td>\n",
       "      <td>0</td>\n",
       "      <td>0</td>\n",
       "      <td>0</td>\n",
       "      <td>0</td>\n",
       "      <td>0</td>\n",
       "      <td>0</td>\n",
       "    </tr>\n",
       "    <tr>\n",
       "      <th>...</th>\n",
       "      <td>...</td>\n",
       "      <td>...</td>\n",
       "      <td>...</td>\n",
       "      <td>...</td>\n",
       "      <td>...</td>\n",
       "      <td>...</td>\n",
       "      <td>...</td>\n",
       "      <td>...</td>\n",
       "      <td>...</td>\n",
       "      <td>...</td>\n",
       "      <td>...</td>\n",
       "      <td>...</td>\n",
       "      <td>...</td>\n",
       "      <td>...</td>\n",
       "      <td>...</td>\n",
       "      <td>...</td>\n",
       "      <td>...</td>\n",
       "      <td>...</td>\n",
       "      <td>...</td>\n",
       "      <td>...</td>\n",
       "      <td>...</td>\n",
       "    </tr>\n",
       "    <tr>\n",
       "      <th>1033</th>\n",
       "      <td>1033</td>\n",
       "      <td>1033</td>\n",
       "      <td>0</td>\n",
       "      <td>1</td>\n",
       "      <td>1</td>\n",
       "      <td>0</td>\n",
       "      <td>0</td>\n",
       "      <td>0</td>\n",
       "      <td>0</td>\n",
       "      <td>0</td>\n",
       "      <td>...</td>\n",
       "      <td>0</td>\n",
       "      <td>0</td>\n",
       "      <td>0</td>\n",
       "      <td>0</td>\n",
       "      <td>0</td>\n",
       "      <td>0</td>\n",
       "      <td>0</td>\n",
       "      <td>0</td>\n",
       "      <td>0</td>\n",
       "      <td>0</td>\n",
       "    </tr>\n",
       "    <tr>\n",
       "      <th>1034</th>\n",
       "      <td>1034</td>\n",
       "      <td>1034</td>\n",
       "      <td>1</td>\n",
       "      <td>1</td>\n",
       "      <td>1</td>\n",
       "      <td>0</td>\n",
       "      <td>0</td>\n",
       "      <td>0</td>\n",
       "      <td>0</td>\n",
       "      <td>0</td>\n",
       "      <td>...</td>\n",
       "      <td>0</td>\n",
       "      <td>0</td>\n",
       "      <td>0</td>\n",
       "      <td>0</td>\n",
       "      <td>0</td>\n",
       "      <td>0</td>\n",
       "      <td>0</td>\n",
       "      <td>0</td>\n",
       "      <td>0</td>\n",
       "      <td>0</td>\n",
       "    </tr>\n",
       "    <tr>\n",
       "      <th>1035</th>\n",
       "      <td>1035</td>\n",
       "      <td>1035</td>\n",
       "      <td>1</td>\n",
       "      <td>1</td>\n",
       "      <td>1</td>\n",
       "      <td>0</td>\n",
       "      <td>0</td>\n",
       "      <td>0</td>\n",
       "      <td>0</td>\n",
       "      <td>0</td>\n",
       "      <td>...</td>\n",
       "      <td>0</td>\n",
       "      <td>1</td>\n",
       "      <td>0</td>\n",
       "      <td>0</td>\n",
       "      <td>0</td>\n",
       "      <td>0</td>\n",
       "      <td>0</td>\n",
       "      <td>0</td>\n",
       "      <td>0</td>\n",
       "      <td>0</td>\n",
       "    </tr>\n",
       "    <tr>\n",
       "      <th>1036</th>\n",
       "      <td>1036</td>\n",
       "      <td>1036</td>\n",
       "      <td>1</td>\n",
       "      <td>1</td>\n",
       "      <td>1</td>\n",
       "      <td>0</td>\n",
       "      <td>0</td>\n",
       "      <td>0</td>\n",
       "      <td>0</td>\n",
       "      <td>0</td>\n",
       "      <td>...</td>\n",
       "      <td>0</td>\n",
       "      <td>0</td>\n",
       "      <td>0</td>\n",
       "      <td>0</td>\n",
       "      <td>0</td>\n",
       "      <td>0</td>\n",
       "      <td>0</td>\n",
       "      <td>0</td>\n",
       "      <td>0</td>\n",
       "      <td>0</td>\n",
       "    </tr>\n",
       "    <tr>\n",
       "      <th>1037</th>\n",
       "      <td>1037</td>\n",
       "      <td>1037</td>\n",
       "      <td>0</td>\n",
       "      <td>0</td>\n",
       "      <td>0</td>\n",
       "      <td>0</td>\n",
       "      <td>0</td>\n",
       "      <td>0</td>\n",
       "      <td>0</td>\n",
       "      <td>0</td>\n",
       "      <td>...</td>\n",
       "      <td>0</td>\n",
       "      <td>0</td>\n",
       "      <td>0</td>\n",
       "      <td>0</td>\n",
       "      <td>0</td>\n",
       "      <td>0</td>\n",
       "      <td>0</td>\n",
       "      <td>0</td>\n",
       "      <td>0</td>\n",
       "      <td>0</td>\n",
       "    </tr>\n",
       "  </tbody>\n",
       "</table>\n",
       "<p>1038 rows × 88 columns</p>\n",
       "</div>"
      ],
      "text/plain": [
       "      index    id  w_0  w_1  w_2  w_3  w_4  w_5  w_6  w_7  ...  w_76  w_77  \\\n",
       "0       920     0    0    0    0    0    0    0    0    0  ...     0     0   \n",
       "1       793     1    0    0    0    0    0    0    0    0  ...     0     0   \n",
       "2       506     2    0    0    0    0    0    0    0    0  ...     0     0   \n",
       "3       191     3    0    0    0    0    0    0    0    0  ...     0     0   \n",
       "4       602     4    0    0    0    0    0    0    0    0  ...     0     0   \n",
       "...     ...   ...  ...  ...  ...  ...  ...  ...  ...  ...  ...   ...   ...   \n",
       "1033   1033  1033    0    1    1    0    0    0    0    0  ...     0     0   \n",
       "1034   1034  1034    1    1    1    0    0    0    0    0  ...     0     0   \n",
       "1035   1035  1035    1    1    1    0    0    0    0    0  ...     0     1   \n",
       "1036   1036  1036    1    1    1    0    0    0    0    0  ...     0     0   \n",
       "1037   1037  1037    0    0    0    0    0    0    0    0  ...     0     0   \n",
       "\n",
       "      w_78  w_79  w_80  w_81  w_82  w_83  w_84  w_85  \n",
       "0        0     0     0     0     0     0     0     0  \n",
       "1        0     0     0     0     0     0     0     0  \n",
       "2        0     0     0     0     0     0     0     0  \n",
       "3        0     0     0     0     0     0     0     0  \n",
       "4        0     0     0     0     0     0     0     0  \n",
       "...    ...   ...   ...   ...   ...   ...   ...   ...  \n",
       "1033     0     0     0     0     0     0     0     0  \n",
       "1034     0     0     0     0     0     0     0     0  \n",
       "1035     0     0     0     0     0     0     0     0  \n",
       "1036     0     0     0     0     0     0     0     0  \n",
       "1037     0     0     0     0     0     0     0     0  \n",
       "\n",
       "[1038 rows x 88 columns]"
      ]
     },
     "execution_count": 24,
     "metadata": {},
     "output_type": "execute_result"
    }
   ],
   "source": [
    "df"
   ]
  },
  {
   "cell_type": "code",
   "execution_count": 26,
   "id": "3b72c776",
   "metadata": {},
   "outputs": [],
   "source": [
    "df.drop(['index'],axis=1,inplace=True)"
   ]
  },
  {
   "cell_type": "code",
   "execution_count": 28,
   "id": "7d2660f0",
   "metadata": {},
   "outputs": [
    {
     "data": {
      "text/plain": [
       "id      1\n",
       "w_0     0\n",
       "w_1     0\n",
       "w_2     0\n",
       "w_3     0\n",
       "       ..\n",
       "w_81    0\n",
       "w_82    0\n",
       "w_83    0\n",
       "w_84    0\n",
       "w_85    0\n",
       "Name: 1, Length: 87, dtype: int64"
      ]
     },
     "execution_count": 28,
     "metadata": {},
     "output_type": "execute_result"
    }
   ],
   "source": [
    "df.loc[1]"
   ]
  },
  {
   "cell_type": "code",
   "execution_count": 41,
   "id": "57d6947d",
   "metadata": {},
   "outputs": [],
   "source": [
    "#read from df and store in feature matrix\n",
    "\n",
    "for i in range(df.shape[0]):\n",
    "    #pick the row\n",
    "    row = df.loc[i].values.flatten().tolist()\n",
    "    for j in range(0,86):\n",
    "        X[i][j] = int(row[j+1])"
   ]
  },
  {
   "cell_type": "code",
   "execution_count": 42,
   "id": "953700d7",
   "metadata": {},
   "outputs": [],
   "source": [
    "import scipy.sparse"
   ]
  },
  {
   "cell_type": "code",
   "execution_count": 43,
   "id": "04458003",
   "metadata": {},
   "outputs": [],
   "source": [
    "X_sp = scipy.sparse.csc_matrix(X)"
   ]
  },
  {
   "cell_type": "code",
   "execution_count": 44,
   "id": "7a13b96f",
   "metadata": {},
   "outputs": [
    {
     "data": {
      "text/plain": [
       "<1038x86 sparse matrix of type '<class 'numpy.float64'>'\n",
       "\twith 4082 stored elements in Compressed Sparse Column format>"
      ]
     },
     "execution_count": 44,
     "metadata": {},
     "output_type": "execute_result"
    }
   ],
   "source": [
    "X_sp"
   ]
  },
  {
   "cell_type": "code",
   "execution_count": 45,
   "id": "76557c6b",
   "metadata": {},
   "outputs": [],
   "source": [
    "scipy.sparse.save_npz(str(path)+'X_sp.npz', X_sp)"
   ]
  },
  {
   "cell_type": "code",
   "execution_count": 46,
   "id": "16604a84",
   "metadata": {},
   "outputs": [],
   "source": [
    "#create adjacency matrix\n",
    "\n",
    "A = np.zeros((1038,1038))"
   ]
  },
  {
   "cell_type": "code",
   "execution_count": 10,
   "id": "d154c78e",
   "metadata": {},
   "outputs": [
    {
     "data": {
      "text/html": [
       "<div>\n",
       "<style scoped>\n",
       "    .dataframe tbody tr th:only-of-type {\n",
       "        vertical-align: middle;\n",
       "    }\n",
       "\n",
       "    .dataframe tbody tr th {\n",
       "        vertical-align: top;\n",
       "    }\n",
       "\n",
       "    .dataframe thead th {\n",
       "        text-align: right;\n",
       "    }\n",
       "</style>\n",
       "<table border=\"1\" class=\"dataframe\">\n",
       "  <thead>\n",
       "    <tr style=\"text-align: right;\">\n",
       "      <th></th>\n",
       "      <th>SUBJECT</th>\n",
       "      <th>RELATION</th>\n",
       "      <th>OBJECT</th>\n",
       "    </tr>\n",
       "  </thead>\n",
       "  <tbody>\n",
       "    <tr>\n",
       "      <th>0</th>\n",
       "      <td>803</td>\n",
       "      <td>similarTo</td>\n",
       "      <td>122</td>\n",
       "    </tr>\n",
       "    <tr>\n",
       "      <th>1</th>\n",
       "      <td>869</td>\n",
       "      <td>similarTo</td>\n",
       "      <td>604</td>\n",
       "    </tr>\n",
       "    <tr>\n",
       "      <th>2</th>\n",
       "      <td>880</td>\n",
       "      <td>similarTo</td>\n",
       "      <td>470</td>\n",
       "    </tr>\n",
       "    <tr>\n",
       "      <th>3</th>\n",
       "      <td>813</td>\n",
       "      <td>similarTo</td>\n",
       "      <td>934</td>\n",
       "    </tr>\n",
       "    <tr>\n",
       "      <th>4</th>\n",
       "      <td>676</td>\n",
       "      <td>similarTo</td>\n",
       "      <td>884</td>\n",
       "    </tr>\n",
       "    <tr>\n",
       "      <th>...</th>\n",
       "      <td>...</td>\n",
       "      <td>...</td>\n",
       "      <td>...</td>\n",
       "    </tr>\n",
       "    <tr>\n",
       "      <th>582</th>\n",
       "      <td>393</td>\n",
       "      <td>similarTo</td>\n",
       "      <td>861</td>\n",
       "    </tr>\n",
       "    <tr>\n",
       "      <th>584</th>\n",
       "      <td>978</td>\n",
       "      <td>similarTo</td>\n",
       "      <td>960</td>\n",
       "    </tr>\n",
       "    <tr>\n",
       "      <th>585</th>\n",
       "      <td>83</td>\n",
       "      <td>similarTo</td>\n",
       "      <td>808</td>\n",
       "    </tr>\n",
       "    <tr>\n",
       "      <th>586</th>\n",
       "      <td>709</td>\n",
       "      <td>similarTo</td>\n",
       "      <td>830</td>\n",
       "    </tr>\n",
       "    <tr>\n",
       "      <th>589</th>\n",
       "      <td>867</td>\n",
       "      <td>similarTo</td>\n",
       "      <td>27</td>\n",
       "    </tr>\n",
       "  </tbody>\n",
       "</table>\n",
       "<p>2182 rows × 3 columns</p>\n",
       "</div>"
      ],
      "text/plain": [
       "     SUBJECT   RELATION  OBJECT\n",
       "0        803  similarTo     122\n",
       "1        869  similarTo     604\n",
       "2        880  similarTo     470\n",
       "3        813  similarTo     934\n",
       "4        676  similarTo     884\n",
       "..       ...        ...     ...\n",
       "582      393  similarTo     861\n",
       "584      978  similarTo     960\n",
       "585       83  similarTo     808\n",
       "586      709  similarTo     830\n",
       "589      867  similarTo      27\n",
       "\n",
       "[2182 rows x 3 columns]"
      ]
     },
     "execution_count": 10,
     "metadata": {},
     "output_type": "execute_result"
    }
   ],
   "source": [
    "T"
   ]
  },
  {
   "cell_type": "code",
   "execution_count": 47,
   "id": "0ba2f19f",
   "metadata": {},
   "outputs": [],
   "source": [
    "for i in range(T.shape[0]):\n",
    "    v1 = int(T.iloc[i][0])\n",
    "    v2 = int(T.iloc[i][2])\n",
    "    \n",
    "    A[v1][v2] = 1\n",
    "    A[v2][v1] = 1"
   ]
  },
  {
   "cell_type": "code",
   "execution_count": 48,
   "id": "95adbd71",
   "metadata": {},
   "outputs": [],
   "source": [
    "A_sp = scipy.sparse.csc_matrix(A)"
   ]
  },
  {
   "cell_type": "code",
   "execution_count": 49,
   "id": "2373c278",
   "metadata": {},
   "outputs": [],
   "source": [
    "scipy.sparse.save_npz(str(path)+'A_sp.npz', A_sp)"
   ]
  },
  {
   "cell_type": "code",
   "execution_count": 50,
   "id": "6dcd2e96",
   "metadata": {},
   "outputs": [],
   "source": [
    "#Create nodes keep and nodes hide"
   ]
  },
  {
   "cell_type": "code",
   "execution_count": 51,
   "id": "8eafa366",
   "metadata": {},
   "outputs": [],
   "source": [
    "nodes = [i for i in range(1038)]"
   ]
  },
  {
   "cell_type": "code",
   "execution_count": 52,
   "id": "d91608bd",
   "metadata": {},
   "outputs": [],
   "source": [
    "import random"
   ]
  },
  {
   "cell_type": "code",
   "execution_count": 53,
   "id": "82cd75b1",
   "metadata": {},
   "outputs": [],
   "source": [
    "num_nodes_to_hide = int(0.1 * len(nodes))"
   ]
  },
  {
   "cell_type": "code",
   "execution_count": 54,
   "id": "9323340a",
   "metadata": {},
   "outputs": [],
   "source": [
    "nodes_hide = random.sample(nodes , num_nodes_to_hide)"
   ]
  },
  {
   "cell_type": "code",
   "execution_count": 55,
   "id": "5f5fe822",
   "metadata": {},
   "outputs": [],
   "source": [
    "#nodes that are not in nodes_hide will go in nodes_keep"
   ]
  },
  {
   "cell_type": "code",
   "execution_count": 56,
   "id": "b303fc97",
   "metadata": {},
   "outputs": [],
   "source": [
    "nodes_keep = []\n",
    "for i in nodes:\n",
    "    if i not in nodes_hide:\n",
    "        nodes_keep.append(i)"
   ]
  },
  {
   "cell_type": "code",
   "execution_count": 57,
   "id": "d8bb02a4",
   "metadata": {},
   "outputs": [],
   "source": [
    "with open(str(path)+\"nodes_keep.npy\",\"wb\") as nk:\n",
    "    np.save(nk , nodes_keep)"
   ]
  },
  {
   "cell_type": "code",
   "execution_count": 58,
   "id": "eeba79f9",
   "metadata": {},
   "outputs": [],
   "source": [
    "with open(str(path)+\"nodes_hide.npy\",\"wb\") as nh:\n",
    "    np.save(nh , nodes_hide)"
   ]
  },
  {
   "cell_type": "markdown",
   "id": "20f7063a",
   "metadata": {},
   "source": [
    "## Use nodes_keep to create A_train and X_train"
   ]
  },
  {
   "cell_type": "code",
   "execution_count": 59,
   "id": "e30884a0",
   "metadata": {},
   "outputs": [],
   "source": [
    "#load A and X files"
   ]
  },
  {
   "cell_type": "code",
   "execution_count": 60,
   "id": "d448cc28",
   "metadata": {},
   "outputs": [],
   "source": [
    "import scipy.sparse as sp"
   ]
  },
  {
   "cell_type": "code",
   "execution_count": 61,
   "id": "17054496",
   "metadata": {},
   "outputs": [],
   "source": [
    "A = sp.load_npz(str(path)+\"A_sp.npz\")"
   ]
  },
  {
   "cell_type": "code",
   "execution_count": 62,
   "id": "c311603e",
   "metadata": {},
   "outputs": [],
   "source": [
    "X = sp.load_npz(str(path)+\"X_sp.npz\")"
   ]
  },
  {
   "cell_type": "code",
   "execution_count": 63,
   "id": "f89511fa",
   "metadata": {},
   "outputs": [],
   "source": [
    "A = A.toarray()\n",
    "X = X.toarray()"
   ]
  },
  {
   "cell_type": "code",
   "execution_count": 64,
   "id": "ce9affff",
   "metadata": {},
   "outputs": [],
   "source": [
    "tmp_X = X"
   ]
  },
  {
   "cell_type": "code",
   "execution_count": 65,
   "id": "da333607",
   "metadata": {},
   "outputs": [],
   "source": [
    "tmp_X = np.delete(tmp_X , tuple(nodes_hide) , axis = 0)"
   ]
  },
  {
   "cell_type": "code",
   "execution_count": 66,
   "id": "968cf0c4",
   "metadata": {},
   "outputs": [],
   "source": [
    "X_train = sp.csc_matrix(tmp_X)"
   ]
  },
  {
   "cell_type": "code",
   "execution_count": 67,
   "id": "fdda20e5",
   "metadata": {},
   "outputs": [],
   "source": [
    "sp.save_npz(str(path)+'ind_train_X.npz', X_train)"
   ]
  },
  {
   "cell_type": "code",
   "execution_count": null,
   "id": "f8fc3a88",
   "metadata": {},
   "outputs": [],
   "source": []
  },
  {
   "cell_type": "code",
   "execution_count": 68,
   "id": "0cad3969",
   "metadata": {},
   "outputs": [],
   "source": [
    "tmp_A = A"
   ]
  },
  {
   "cell_type": "code",
   "execution_count": 69,
   "id": "0b044e31",
   "metadata": {},
   "outputs": [],
   "source": [
    "tmp_A = np.delete(tmp_A , tuple(nodes_hide) , axis = 0)\n",
    "tmp_A = np.delete(tmp_A , tuple(nodes_hide) , axis = 1)"
   ]
  },
  {
   "cell_type": "code",
   "execution_count": 70,
   "id": "d2b613e8",
   "metadata": {},
   "outputs": [],
   "source": [
    "A_train = sp.csc_matrix(tmp_A)\n",
    "sp.save_npz(str(path)+'ind_train_A.npz' , A_train)"
   ]
  },
  {
   "cell_type": "code",
   "execution_count": null,
   "id": "a08613ac",
   "metadata": {},
   "outputs": [],
   "source": []
  },
  {
   "cell_type": "code",
   "execution_count": null,
   "id": "be3a4c3b",
   "metadata": {},
   "outputs": [],
   "source": []
  },
  {
   "cell_type": "code",
   "execution_count": 71,
   "id": "1d46f00f",
   "metadata": {},
   "outputs": [],
   "source": [
    "## Create val_ones, val_zeros, test_ones, test_zeros, train_ones"
   ]
  },
  {
   "cell_type": "code",
   "execution_count": 72,
   "id": "d8ac4fe7",
   "metadata": {},
   "outputs": [],
   "source": [
    "#train_ones are edges in A_train"
   ]
  },
  {
   "cell_type": "code",
   "execution_count": 73,
   "id": "b05d6848",
   "metadata": {},
   "outputs": [],
   "source": [
    "#load A_train\n",
    "\n",
    "a_train = sp.load_npz(str(path)+'ind_train_A.npz')"
   ]
  },
  {
   "cell_type": "code",
   "execution_count": 74,
   "id": "93eac3bc",
   "metadata": {},
   "outputs": [],
   "source": [
    "ta = a_train.toarray()"
   ]
  },
  {
   "cell_type": "code",
   "execution_count": 75,
   "id": "fe3ece67",
   "metadata": {},
   "outputs": [],
   "source": [
    "train_ones = []\n",
    "for i in range(ta.shape[0]):\n",
    "    for j in range(ta.shape[1]):\n",
    "        if ta[i][j] == 1:\n",
    "            train_ones.append([i,j])"
   ]
  },
  {
   "cell_type": "code",
   "execution_count": 76,
   "id": "868dba0b",
   "metadata": {},
   "outputs": [],
   "source": [
    "train_ones = np.array(train_ones)"
   ]
  },
  {
   "cell_type": "code",
   "execution_count": 77,
   "id": "e35c73ac",
   "metadata": {},
   "outputs": [],
   "source": [
    "#Use A file to create test_ones and test_zeros"
   ]
  },
  {
   "cell_type": "code",
   "execution_count": 78,
   "id": "01e097e1",
   "metadata": {},
   "outputs": [],
   "source": [
    "def get_train_data(A_train, batch_size ,inductive):\n",
    "    nodes = []\n",
    "    labels = []\n",
    "    tmp_A = A_train.tolil()\n",
    "    \n",
    "    nodeNum = A_train.shape[0]\n",
    "    \n",
    "    \n",
    "    while True:\n",
    "        a = random.randint(0,nodeNum-1)\n",
    "        b = random.randint(0,nodeNum-1)\n",
    "        \n",
    "        if not tmp_A[a,b]:\n",
    "            nodes.append([a,b])\n",
    "\n",
    "        if len(nodes) == batch_size:\n",
    "            return nodes"
   ]
  },
  {
   "cell_type": "code",
   "execution_count": 79,
   "id": "66e74034",
   "metadata": {},
   "outputs": [],
   "source": [
    "A = sp.load_npz(str(path)+'A_sp.npz')"
   ]
  },
  {
   "cell_type": "code",
   "execution_count": 80,
   "id": "c7ca0439",
   "metadata": {},
   "outputs": [],
   "source": [
    "edges_in_A = []\n",
    "A_arr = A.toarray()\n",
    "for i in range(A_arr.shape[0]):\n",
    "    for j in range(A_arr.shape[1]):\n",
    "        if A_arr[i][j] == 1:\n",
    "            edges_in_A.append([i,j])"
   ]
  },
  {
   "cell_type": "code",
   "execution_count": 81,
   "id": "39f870cc",
   "metadata": {},
   "outputs": [],
   "source": [
    "test_ones = random.sample(edges_in_A , int(0.1 * len(edges_in_A)))"
   ]
  },
  {
   "cell_type": "code",
   "execution_count": 82,
   "id": "777c4e39",
   "metadata": {},
   "outputs": [],
   "source": [
    "test_zeros = get_train_data(A , int(0.1 * len(edges_in_A)) , True)"
   ]
  },
  {
   "cell_type": "code",
   "execution_count": 83,
   "id": "a4c03ee2",
   "metadata": {},
   "outputs": [],
   "source": [
    "test_zeros = np.array(test_zeros)\n",
    "test_ones = np.array(test_ones)"
   ]
  },
  {
   "cell_type": "code",
   "execution_count": 84,
   "id": "0c7c0d9e",
   "metadata": {},
   "outputs": [],
   "source": [
    "#Create val_ones and val_zeros using A_train"
   ]
  },
  {
   "cell_type": "code",
   "execution_count": 85,
   "id": "b45a7f03",
   "metadata": {},
   "outputs": [],
   "source": [
    "#load A_train"
   ]
  },
  {
   "cell_type": "code",
   "execution_count": 86,
   "id": "7512ac5e",
   "metadata": {},
   "outputs": [],
   "source": [
    "A_train = sp.load_npz(str(path)+'ind_train_A.npz')"
   ]
  },
  {
   "cell_type": "code",
   "execution_count": 87,
   "id": "78017447",
   "metadata": {},
   "outputs": [],
   "source": [
    "edges_in_A_train = []\n",
    "A_train_arr = A_train.toarray()\n",
    "for i in range(A_train_arr.shape[0]):\n",
    "    for j in range(A_train_arr.shape[1]):\n",
    "        if A_train_arr[i][j] == 1:\n",
    "            edges_in_A_train.append([i,j])"
   ]
  },
  {
   "cell_type": "code",
   "execution_count": 88,
   "id": "98cab588",
   "metadata": {},
   "outputs": [],
   "source": [
    "batch_size_for_validation = int(0.1 * len(edges_in_A_train))"
   ]
  },
  {
   "cell_type": "code",
   "execution_count": 89,
   "id": "e08bb1fc",
   "metadata": {},
   "outputs": [],
   "source": [
    "val_ones = random.sample(edges_in_A_train , batch_size_for_validation)"
   ]
  },
  {
   "cell_type": "code",
   "execution_count": 90,
   "id": "14a04fd9",
   "metadata": {},
   "outputs": [],
   "source": [
    "val_zeros = get_train_data(A_train , batch_size_for_validation , True)"
   ]
  },
  {
   "cell_type": "code",
   "execution_count": 91,
   "id": "aaa2e3ac",
   "metadata": {},
   "outputs": [],
   "source": [
    "val_ones = np.array(val_ones)\n",
    "val_zeros = np.array(val_zeros)"
   ]
  },
  {
   "cell_type": "code",
   "execution_count": 92,
   "id": "87bd32e6",
   "metadata": {},
   "outputs": [],
   "source": [
    "outfile = open(str(path)+\"pv0.10_pt0.00_pn0.10_arrays.npz\",\"wb\")"
   ]
  },
  {
   "cell_type": "code",
   "execution_count": 93,
   "id": "8e277603",
   "metadata": {},
   "outputs": [],
   "source": [
    "np.savez(outfile,train_ones,val_ones, val_zeros, test_ones, test_zeros)"
   ]
  },
  {
   "cell_type": "code",
   "execution_count": null,
   "id": "ae79fe94",
   "metadata": {},
   "outputs": [],
   "source": []
  },
  {
   "cell_type": "code",
   "execution_count": 94,
   "id": "f400e677",
   "metadata": {},
   "outputs": [],
   "source": [
    "#Create distance file using A_train"
   ]
  },
  {
   "cell_type": "code",
   "execution_count": 95,
   "id": "5d4f38c6",
   "metadata": {},
   "outputs": [],
   "source": [
    "dist_M = np.identity(A_train.shape[0])"
   ]
  },
  {
   "cell_type": "code",
   "execution_count": 96,
   "id": "c57962d3",
   "metadata": {},
   "outputs": [],
   "source": [
    "nodes_in = []\n",
    "for i in range(len(edges_in_A_train)):\n",
    "    nodes_in.append(edges_in_A_train[i][0])\n",
    "    nodes_in.append(edges_in_A_train[i][1])\n",
    "    \n",
    "nodes_in = list(set(nodes_in))"
   ]
  },
  {
   "cell_type": "code",
   "execution_count": 97,
   "id": "7993f9b5",
   "metadata": {},
   "outputs": [],
   "source": [
    "import networkx as nx"
   ]
  },
  {
   "cell_type": "code",
   "execution_count": 98,
   "id": "06f90c58",
   "metadata": {},
   "outputs": [],
   "source": [
    "tg = nx.Graph()\n",
    "tg.add_edges_from(edges_in_A_train)"
   ]
  },
  {
   "cell_type": "code",
   "execution_count": 99,
   "id": "88f30bc7",
   "metadata": {},
   "outputs": [],
   "source": [
    "for node in range(dist_M.shape[0]):\n",
    "    if node in nodes_in:\n",
    "        L = nx.single_source_shortest_path_length(tg,node)\n",
    "        \n",
    "        if len(L) > 0:\n",
    "            for key in L.keys():\n",
    "                if node != key:\n",
    "                    dist_M[node][key] = L[key]"
   ]
  },
  {
   "cell_type": "code",
   "execution_count": 100,
   "id": "cf8d2dd3",
   "metadata": {},
   "outputs": [],
   "source": [
    "for i in range(dist_M.shape[0]):\n",
    "    for j in range(dist_M.shape[1]):\n",
    "        if i!=j and dist_M[i][j]!=0:\n",
    "            dist_M[i][j] = float(\"{0:.4f}\".format((1/(dist_M[i][j]+1))))"
   ]
  },
  {
   "cell_type": "code",
   "execution_count": 101,
   "id": "5c6fdebc",
   "metadata": {},
   "outputs": [],
   "source": [
    "import torch"
   ]
  },
  {
   "cell_type": "code",
   "execution_count": 102,
   "id": "f6e82eb5",
   "metadata": {},
   "outputs": [],
   "source": [
    "dist_M = torch.from_numpy(dist_M)"
   ]
  },
  {
   "cell_type": "code",
   "execution_count": 103,
   "id": "799d98ff",
   "metadata": {},
   "outputs": [],
   "source": [
    "import pickle"
   ]
  },
  {
   "cell_type": "code",
   "execution_count": 104,
   "id": "4dc25135",
   "metadata": {},
   "outputs": [],
   "source": [
    "with open(str(path)+\"dists-1.dat\",\"wb\") as dfile:\n",
    "    pickle.dump(dist_M,dfile )"
   ]
  }
 ],
 "metadata": {
  "kernelspec": {
   "display_name": "Python 3 (ipykernel)",
   "language": "python",
   "name": "python3"
  },
  "language_info": {
   "codemirror_mode": {
    "name": "ipython",
    "version": 3
   },
   "file_extension": ".py",
   "mimetype": "text/x-python",
   "name": "python",
   "nbconvert_exporter": "python",
   "pygments_lexer": "ipython3",
   "version": "3.7.9"
  }
 },
 "nbformat": 4,
 "nbformat_minor": 5
}
