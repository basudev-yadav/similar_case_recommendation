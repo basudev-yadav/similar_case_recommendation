{
 "cells": [
  {
   "cell_type": "code",
   "execution_count": 1,
   "id": "ae7a547e",
   "metadata": {},
   "outputs": [],
   "source": [
    "#import the required libraries\n",
    "\n",
    "import pandas as pd\n",
    "import numpy as np\n",
    "import re\n",
    "import os"
   ]
  },
  {
   "cell_type": "code",
   "execution_count": 4,
   "id": "a72a90f1",
   "metadata": {},
   "outputs": [],
   "source": [
    "def return_list_of_acts(file):\n",
    "    '''\n",
    "    input: a parameter which contains the text filename\n",
    "    output: a dictionary with pair as (abbreviated form, full form)\n",
    "    '''\n",
    "    \n",
    "    \n",
    "    #maintains two list one for with dot and one for without dot\n",
    "    acts_with_dot = []\n",
    "    acts_without_dot = []\n",
    "\n",
    "\n",
    "    #check if file is a text file\n",
    "    if file.endswith(\".txt\"):\n",
    "        try:\n",
    "            f = open(file,\"r\",encoding=\"utf-8\")\n",
    "            text = f.read()\n",
    "        \n",
    "            #regex1 looks for a letter followed by a dot one or more times followed by the word Act\n",
    "            regex1 = re.compile(r'([A-Z]\\.' '+)+ [A|a][c|C][t|T]')\n",
    "            \n",
    "            #regex1 looks for a letter followed by a space one or more times followed by the word Act\n",
    "            regex2 = re.compile(r'([A-Z]' '+ Act)')\n",
    "\n",
    "            res1 = regex1.search(text)\n",
    "            res2 = regex2.search(text)\n",
    "\n",
    "            \n",
    "            #if the result is not empty then append them to the list\n",
    "            if res1:\n",
    "                acts_with_dot.append(res1.group())\n",
    "\n",
    "            if res2:\n",
    "                acts_without_dot.append(res2.group())\n",
    "                \n",
    "                \n",
    "            #remove the dots and spaces from the act\n",
    "            temp = []\n",
    "            for act in acts_with_dot:\n",
    "                x = re.sub(r'\\.','',act)\n",
    "                temp.append(x)\n",
    "    \n",
    "            temp = np.unique(temp)\n",
    "        \n",
    "            acts = [i for i in temp]\n",
    "            for i in acts_without_dot:\n",
    "                acts.append(i)\n",
    "            \n",
    "            \n",
    "            #remove duplicated\n",
    "            acts = np.unique(acts)\n",
    "            return acts\n",
    "            \n",
    "        except IOError:\n",
    "            print(\"There was an error while opening the file!!\")\n",
    "            return "
   ]
  },
  {
   "cell_type": "code",
   "execution_count": null,
   "id": "09483d41",
   "metadata": {},
   "outputs": [],
   "source": []
  },
  {
   "cell_type": "code",
   "execution_count": null,
   "id": "7a879319",
   "metadata": {},
   "outputs": [],
   "source": []
  }
 ],
 "metadata": {
  "kernelspec": {
   "display_name": "Python 3",
   "language": "python",
   "name": "python3"
  },
  "language_info": {
   "codemirror_mode": {
    "name": "ipython",
    "version": 3
   },
   "file_extension": ".py",
   "mimetype": "text/x-python",
   "name": "python",
   "nbconvert_exporter": "python",
   "pygments_lexer": "ipython3",
   "version": "3.7.9"
  }
 },
 "nbformat": 4,
 "nbformat_minor": 5
}
